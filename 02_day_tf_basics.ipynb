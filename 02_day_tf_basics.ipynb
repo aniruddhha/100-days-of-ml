{
  "nbformat": 4,
  "nbformat_minor": 0,
  "metadata": {
    "colab": {
      "provenance": [],
      "authorship_tag": "ABX9TyMbV0J1q2mQlpL4TpEBiJzA",
      "include_colab_link": true
    },
    "kernelspec": {
      "name": "python3",
      "display_name": "Python 3"
    },
    "language_info": {
      "name": "python"
    }
  },
  "cells": [
    {
      "cell_type": "markdown",
      "metadata": {
        "id": "view-in-github",
        "colab_type": "text"
      },
      "source": [
        "<a href=\"https://colab.research.google.com/github/aniruddhha/100-days-of-ml/blob/main/02_day_tf_basics.ipynb\" target=\"_parent\"><img src=\"https://colab.research.google.com/assets/colab-badge.svg\" alt=\"Open In Colab\"/></a>"
      ]
    },
    {
      "cell_type": "markdown",
      "source": [
        "# **✅ Working with tensorflow 2.0**"
      ],
      "metadata": {
        "id": "mqtPBbHgywKT"
      }
    },
    {
      "cell_type": "code",
      "source": [
        "import tensorflow as tf\n",
        "import numpy as np\n",
        "\n",
        "print(tf.__version__)"
      ],
      "metadata": {
        "colab": {
          "base_uri": "https://localhost:8080/"
        },
        "id": "3dnEAJhyYT7q",
        "outputId": "275de3ed-acbf-4046-dc38-5f681839f0a3"
      },
      "execution_count": 74,
      "outputs": [
        {
          "output_type": "stream",
          "name": "stdout",
          "text": [
            "2.9.2\n"
          ]
        }
      ]
    },
    {
      "cell_type": "markdown",
      "source": [
        "# **✅ Tensor Operations**\n",
        "Element wise"
      ],
      "metadata": {
        "id": "0EIBuEY4oL03"
      }
    },
    {
      "cell_type": "code",
      "source": [
        "tns = tf.constant([[1,4],\n",
        "                   [2,0]])"
      ],
      "metadata": {
        "id": "2y6pazpZoLhJ"
      },
      "execution_count": 2,
      "outputs": []
    },
    {
      "cell_type": "code",
      "source": [
        "tns + 10"
      ],
      "metadata": {
        "colab": {
          "base_uri": "https://localhost:8080/"
        },
        "id": "gJ7jiU2rqf8q",
        "outputId": "2ed722f4-d7bc-4de1-fe45-917b3682745c"
      },
      "execution_count": 4,
      "outputs": [
        {
          "output_type": "execute_result",
          "data": {
            "text/plain": [
              "<tf.Tensor: shape=(2, 2), dtype=int32, numpy=\n",
              "array([[11, 14],\n",
              "       [12, 10]], dtype=int32)>"
            ]
          },
          "metadata": {},
          "execution_count": 4
        }
      ]
    },
    {
      "cell_type": "code",
      "source": [
        "tns - 10"
      ],
      "metadata": {
        "colab": {
          "base_uri": "https://localhost:8080/"
        },
        "id": "h6ZOLa4oqjTL",
        "outputId": "b2a4e390-daec-4c1e-a569-31ffeda12438"
      },
      "execution_count": 5,
      "outputs": [
        {
          "output_type": "execute_result",
          "data": {
            "text/plain": [
              "<tf.Tensor: shape=(2, 2), dtype=int32, numpy=\n",
              "array([[ -9,  -6],\n",
              "       [ -8, -10]], dtype=int32)>"
            ]
          },
          "metadata": {},
          "execution_count": 5
        }
      ]
    },
    {
      "cell_type": "code",
      "source": [
        "tns * 2"
      ],
      "metadata": {
        "colab": {
          "base_uri": "https://localhost:8080/"
        },
        "id": "40CX5VBxqjbi",
        "outputId": "6a717671-c777-4ccd-e6aa-0db0116a186d"
      },
      "execution_count": 6,
      "outputs": [
        {
          "output_type": "execute_result",
          "data": {
            "text/plain": [
              "<tf.Tensor: shape=(2, 2), dtype=int32, numpy=\n",
              "array([[2, 8],\n",
              "       [4, 0]], dtype=int32)>"
            ]
          },
          "metadata": {},
          "execution_count": 6
        }
      ]
    },
    {
      "cell_type": "code",
      "source": [
        "tns / 2"
      ],
      "metadata": {
        "colab": {
          "base_uri": "https://localhost:8080/"
        },
        "id": "bzwca6yXqjin",
        "outputId": "6ef8ef35-b205-47ff-bced-318c86d7f3e2"
      },
      "execution_count": 7,
      "outputs": [
        {
          "output_type": "execute_result",
          "data": {
            "text/plain": [
              "<tf.Tensor: shape=(2, 2), dtype=float64, numpy=\n",
              "array([[0.5, 2. ],\n",
              "       [1. , 0. ]])>"
            ]
          },
          "metadata": {},
          "execution_count": 7
        }
      ]
    },
    {
      "cell_type": "code",
      "source": [
        "#GPU considered tensors\n",
        "tf.math.multiply(tns, 2)"
      ],
      "metadata": {
        "colab": {
          "base_uri": "https://localhost:8080/"
        },
        "id": "cuBcYUUPqsb9",
        "outputId": "3267595a-091a-4d45-ed8c-10613099a107"
      },
      "execution_count": 10,
      "outputs": [
        {
          "output_type": "execute_result",
          "data": {
            "text/plain": [
              "<tf.Tensor: shape=(2, 2), dtype=int32, numpy=\n",
              "array([[2, 8],\n",
              "       [4, 0]], dtype=int32)>"
            ]
          },
          "metadata": {},
          "execution_count": 10
        }
      ]
    },
    {
      "cell_type": "code",
      "source": [
        "# alias of above \n",
        "tf.multiply(tns, 2)"
      ],
      "metadata": {
        "colab": {
          "base_uri": "https://localhost:8080/"
        },
        "id": "Z7JCEbr0q6bp",
        "outputId": "4d2e1c74-0367-4f10-fb73-cf011fc9b5bc"
      },
      "execution_count": 11,
      "outputs": [
        {
          "output_type": "execute_result",
          "data": {
            "text/plain": [
              "<tf.Tensor: shape=(2, 2), dtype=int32, numpy=\n",
              "array([[2, 8],\n",
              "       [4, 0]], dtype=int32)>"
            ]
          },
          "metadata": {},
          "execution_count": 11
        }
      ]
    },
    {
      "cell_type": "markdown",
      "source": [
        "# **✅ Tensor Matrix Multiplication**"
      ],
      "metadata": {
        "id": "sDYdKfwvre0Q"
      }
    },
    {
      "cell_type": "code",
      "source": [
        "mat1 = tf.constant([[2,3],\n",
        "                    [4,5]])\n",
        "\n",
        "mat2 = tf.constant([[4,6],\n",
        "                    [3,5]])\n",
        "\n",
        "mat3 = tf.constant([[1,2,3],\n",
        "                    [3,4,5]])"
      ],
      "metadata": {
        "id": "DAAzLsQYrei0"
      },
      "execution_count": 21,
      "outputs": []
    },
    {
      "cell_type": "code",
      "source": [
        "tf.matmul(mat1, mat2)"
      ],
      "metadata": {
        "colab": {
          "base_uri": "https://localhost:8080/"
        },
        "id": "hh-gDj2Utwyb",
        "outputId": "00cfe566-c736-4b24-93d4-21b19fe0626c"
      },
      "execution_count": 17,
      "outputs": [
        {
          "output_type": "execute_result",
          "data": {
            "text/plain": [
              "<tf.Tensor: shape=(2, 2), dtype=int32, numpy=\n",
              "array([[17, 27],\n",
              "       [31, 49]], dtype=int32)>"
            ]
          },
          "metadata": {},
          "execution_count": 17
        }
      ]
    },
    {
      "cell_type": "code",
      "source": [
        "mat1.shape, mat3.shape\n",
        "#inner dimensions matching \n",
        "# [✅2,👉2][👉2,✅3] matching so there wont be error\n",
        "# result matrix will be of size outer dimensions i.e. [2, 3]"
      ],
      "metadata": {
        "id": "pG-v6WOKzfG3"
      },
      "execution_count": null,
      "outputs": []
    },
    {
      "cell_type": "code",
      "source": [
        "tf.matmul(mat1, mat3)"
      ],
      "metadata": {
        "colab": {
          "base_uri": "https://localhost:8080/"
        },
        "id": "ysWh31Kcvq-v",
        "outputId": "69dabab5-a713-4be9-afe4-1c5c5fd979b6"
      },
      "execution_count": 24,
      "outputs": [
        {
          "output_type": "execute_result",
          "data": {
            "text/plain": [
              "<tf.Tensor: shape=(2, 3), dtype=int32, numpy=\n",
              "array([[11, 16, 21],\n",
              "       [19, 28, 37]], dtype=int32)>"
            ]
          },
          "metadata": {},
          "execution_count": 24
        }
      ]
    },
    {
      "cell_type": "code",
      "source": [
        "(2*1 + 3*3, 2*2 + 3*4, 2*3 + 3*5), (4*1 + 5*3 , 4*2 + 5*4 , 4*3 + 5*5)"
      ],
      "metadata": {
        "colab": {
          "base_uri": "https://localhost:8080/"
        },
        "id": "MqOTwu_iwRye",
        "outputId": "38f0be8c-bf6e-478c-d5b3-784bda7fa946"
      },
      "execution_count": 30,
      "outputs": [
        {
          "output_type": "execute_result",
          "data": {
            "text/plain": [
              "((11, 16, 21), (19, 28, 37))"
            ]
          },
          "metadata": {},
          "execution_count": 30
        }
      ]
    },
    {
      "cell_type": "code",
      "source": [
        "#tf.matmul(mat3, mat1)\n",
        "# (1*2, 2*4 , ???) so there is error"
      ],
      "metadata": {
        "id": "EmzRchuIu91N"
      },
      "execution_count": null,
      "outputs": []
    },
    {
      "cell_type": "code",
      "source": [
        "mat3.shape, mat1.shape\n",
        "#inner dimensions are not matching \n",
        "# i.e. mat3 shape = [2,3], mat1 shape = [2,2]\n",
        "# [2, 👉3][👉2, 2] ❌ not matching"
      ],
      "metadata": {
        "colab": {
          "base_uri": "https://localhost:8080/"
        },
        "id": "hE-oUrW2xQIn",
        "outputId": "f83ca309-c3d4-408a-80ef-079c1c0d0f7d"
      },
      "execution_count": 32,
      "outputs": [
        {
          "output_type": "execute_result",
          "data": {
            "text/plain": [
              "(TensorShape([2, 3]), TensorShape([2, 2]))"
            ]
          },
          "metadata": {},
          "execution_count": 32
        }
      ]
    },
    {
      "cell_type": "code",
      "source": [
        "# we can reshape or transponse the matrix\n",
        "#transponse\n",
        "tf.transpose(mat3).shape, mat1.shape"
      ],
      "metadata": {
        "colab": {
          "base_uri": "https://localhost:8080/"
        },
        "id": "xdMkNQXlx5ex",
        "outputId": "b1475bbc-97a8-4868-9a49-c9c5444a2bb4"
      },
      "execution_count": 38,
      "outputs": [
        {
          "output_type": "execute_result",
          "data": {
            "text/plain": [
              "(TensorShape([3, 2]), TensorShape([2, 2]))"
            ]
          },
          "metadata": {},
          "execution_count": 38
        }
      ]
    },
    {
      "cell_type": "code",
      "source": [
        "# after transpose inner dimensions are matching\n",
        "# so it will perform multiplication successfully\n",
        "tf.matmul(tf.transpose(mat3), mat1)"
      ],
      "metadata": {
        "colab": {
          "base_uri": "https://localhost:8080/"
        },
        "id": "QgHz3jEUzFrl",
        "outputId": "ba22e5d4-6adc-4a97-e7cd-75af3c1ba7c1"
      },
      "execution_count": 39,
      "outputs": [
        {
          "output_type": "execute_result",
          "data": {
            "text/plain": [
              "<tf.Tensor: shape=(3, 2), dtype=int32, numpy=\n",
              "array([[14, 18],\n",
              "       [20, 26],\n",
              "       [26, 34]], dtype=int32)>"
            ]
          },
          "metadata": {},
          "execution_count": 39
        }
      ]
    },
    {
      "cell_type": "code",
      "source": [
        "mat_reshaped = tf.reshape(mat3, shape=(3,2))\n",
        "mat_reshaped.shape, mat1.shape"
      ],
      "metadata": {
        "colab": {
          "base_uri": "https://localhost:8080/"
        },
        "id": "PyXl3tLm0zJS",
        "outputId": "b2bdb152-94ba-42e1-d8cd-933da3256094"
      },
      "execution_count": 41,
      "outputs": [
        {
          "output_type": "execute_result",
          "data": {
            "text/plain": [
              "(TensorShape([3, 2]), TensorShape([2, 2]))"
            ]
          },
          "metadata": {},
          "execution_count": 41
        }
      ]
    },
    {
      "cell_type": "code",
      "source": [
        "## inner dimensions are matching\n",
        "tf.matmul(mat_reshaped, mat1)"
      ],
      "metadata": {
        "colab": {
          "base_uri": "https://localhost:8080/"
        },
        "id": "6_gpXG1Y1IYZ",
        "outputId": "89d730c3-5bee-4f81-f1db-a07c63399c0f"
      },
      "execution_count": 42,
      "outputs": [
        {
          "output_type": "execute_result",
          "data": {
            "text/plain": [
              "<tf.Tensor: shape=(3, 2), dtype=int32, numpy=\n",
              "array([[10, 13],\n",
              "       [18, 24],\n",
              "       [28, 37]], dtype=int32)>"
            ]
          },
          "metadata": {},
          "execution_count": 42
        }
      ]
    },
    {
      "cell_type": "code",
      "source": [
        "# matrix multiplication using tensordot\n",
        "# axes = 1 in tensordot means matrix multiplication\n",
        "tf.tensordot(mat1, mat3, axes=1)"
      ],
      "metadata": {
        "colab": {
          "base_uri": "https://localhost:8080/"
        },
        "id": "Qy1jcMAUAtD9",
        "outputId": "42347efa-7372-4f2a-c41a-58b33c06791a"
      },
      "execution_count": 51,
      "outputs": [
        {
          "output_type": "execute_result",
          "data": {
            "text/plain": [
              "<tf.Tensor: shape=(2, 3), dtype=int32, numpy=\n",
              "array([[11, 16, 21],\n",
              "       [19, 28, 37]], dtype=int32)>"
            ]
          },
          "metadata": {},
          "execution_count": 51
        }
      ]
    },
    {
      "cell_type": "code",
      "source": [
        "# each element from mat1 will be multiplied with each element in mat 3\n",
        "tf.tensordot(mat1, mat3, axes=0)"
      ],
      "metadata": {
        "colab": {
          "base_uri": "https://localhost:8080/"
        },
        "id": "1EXqC7c-9vha",
        "outputId": "ce0b9cdb-0751-402d-e47b-435c55e82226"
      },
      "execution_count": 46,
      "outputs": [
        {
          "output_type": "execute_result",
          "data": {
            "text/plain": [
              "<tf.Tensor: shape=(2, 2, 2, 3), dtype=int32, numpy=\n",
              "array([[[[ 2,  4,  6],\n",
              "         [ 6,  8, 10]],\n",
              "\n",
              "        [[ 3,  6,  9],\n",
              "         [ 9, 12, 15]]],\n",
              "\n",
              "\n",
              "       [[[ 4,  8, 12],\n",
              "         [12, 16, 20]],\n",
              "\n",
              "        [[ 5, 10, 15],\n",
              "         [15, 20, 25]]]], dtype=int32)>"
            ]
          },
          "metadata": {},
          "execution_count": 46
        }
      ]
    },
    {
      "cell_type": "markdown",
      "source": [
        "# **✅ Tensor Matrix Multiplication Practice**"
      ],
      "metadata": {
        "id": "y1B0tLAh9Mmg"
      }
    },
    {
      "cell_type": "code",
      "source": [
        "mat1.shape, mat2.shape"
      ],
      "metadata": {
        "colab": {
          "base_uri": "https://localhost:8080/"
        },
        "id": "14UP_tyJBimt",
        "outputId": "b338b839-69b3-4903-9f04-3c89601ae080"
      },
      "execution_count": 60,
      "outputs": [
        {
          "output_type": "execute_result",
          "data": {
            "text/plain": [
              "(TensorShape([2, 2]), TensorShape([2, 2]))"
            ]
          },
          "metadata": {},
          "execution_count": 60
        }
      ]
    },
    {
      "cell_type": "code",
      "source": [
        "mat4 = tf.constant([[1],[2], [3], [4]])"
      ],
      "metadata": {
        "id": "RxC-S3V-B9Ax"
      },
      "execution_count": 63,
      "outputs": []
    },
    {
      "cell_type": "code",
      "source": [
        "mat4.shape"
      ],
      "metadata": {
        "colab": {
          "base_uri": "https://localhost:8080/"
        },
        "id": "VIe0XGlxCG2l",
        "outputId": "b630bd39-97f6-463d-9e9a-485e1bc6f92d"
      },
      "execution_count": 64,
      "outputs": [
        {
          "output_type": "execute_result",
          "data": {
            "text/plain": [
              "TensorShape([4, 1])"
            ]
          },
          "metadata": {},
          "execution_count": 64
        }
      ]
    },
    {
      "cell_type": "code",
      "source": [
        "tf.reshape(mat4, shape = (2,2))"
      ],
      "metadata": {
        "colab": {
          "base_uri": "https://localhost:8080/"
        },
        "id": "SPncW_XQCM44",
        "outputId": "995226b0-bb66-4f6e-bcc2-9d4815a34252"
      },
      "execution_count": 67,
      "outputs": [
        {
          "output_type": "execute_result",
          "data": {
            "text/plain": [
              "<tf.Tensor: shape=(2, 2), dtype=int32, numpy=\n",
              "array([[1, 2],\n",
              "       [3, 4]], dtype=int32)>"
            ]
          },
          "metadata": {},
          "execution_count": 67
        }
      ]
    },
    {
      "cell_type": "code",
      "source": [
        "tf.matmul(mat1, tf.reshape(mat4, shape=(2,2)))"
      ],
      "metadata": {
        "colab": {
          "base_uri": "https://localhost:8080/"
        },
        "id": "JI-5yH2q9O6G",
        "outputId": "dcee7b94-29a4-4708-9854-dce7aad4483c"
      },
      "execution_count": 65,
      "outputs": [
        {
          "output_type": "execute_result",
          "data": {
            "text/plain": [
              "<tf.Tensor: shape=(2, 2), dtype=int32, numpy=\n",
              "array([[11, 16],\n",
              "       [19, 28]], dtype=int32)>"
            ]
          },
          "metadata": {},
          "execution_count": 65
        }
      ]
    },
    {
      "cell_type": "markdown",
      "source": [
        "# **✅ Changing the datatype of Tensor**"
      ],
      "metadata": {
        "id": "CW93TB4OH70U"
      }
    },
    {
      "cell_type": "code",
      "source": [
        "B = tf.constant([[1, 2.0],\n",
        "                 [2.4, 0.1]])\n",
        "B.dtype"
      ],
      "metadata": {
        "colab": {
          "base_uri": "https://localhost:8080/"
        },
        "id": "-Gg5FO1DIAN5",
        "outputId": "b8b527df-3439-432d-8a17-66969106af90"
      },
      "execution_count": 69,
      "outputs": [
        {
          "output_type": "execute_result",
          "data": {
            "text/plain": [
              "tf.float32"
            ]
          },
          "metadata": {},
          "execution_count": 69
        }
      ]
    },
    {
      "cell_type": "code",
      "source": [
        "C = tf.cast(B, tf.float16)\n",
        "C.dtype"
      ],
      "metadata": {
        "colab": {
          "base_uri": "https://localhost:8080/"
        },
        "id": "RqUq0VjHJyOS",
        "outputId": "2ce79e66-71c0-4eca-bfa7-6983016e907f"
      },
      "execution_count": 72,
      "outputs": [
        {
          "output_type": "execute_result",
          "data": {
            "text/plain": [
              "tf.float16"
            ]
          },
          "metadata": {},
          "execution_count": 72
        }
      ]
    },
    {
      "cell_type": "markdown",
      "source": [
        "# **✅ Aggregating Tensors**"
      ],
      "metadata": {
        "id": "tcZlOAlTSbLH"
      }
    },
    {
      "cell_type": "code",
      "source": [
        "A = tf.constant(np.random.randint(-100, 100, size = 50))"
      ],
      "metadata": {
        "id": "nsgCY67ISpeU"
      },
      "execution_count": 75,
      "outputs": []
    },
    {
      "cell_type": "code",
      "source": [
        "A"
      ],
      "metadata": {
        "colab": {
          "base_uri": "https://localhost:8080/"
        },
        "id": "cGraA75-VDE-",
        "outputId": "ff346729-8ff9-49b3-c9ef-9f1b5715b518"
      },
      "execution_count": 78,
      "outputs": [
        {
          "output_type": "execute_result",
          "data": {
            "text/plain": [
              "<tf.Tensor: shape=(50,), dtype=int64, numpy=\n",
              "array([ -92,   63,   71,  -62,   18,   40,   69, -100,  -66,  -28,  -88,\n",
              "        -11,  -47,   15,   78,    0,   12,  -72,  -95,  -60,   70,   11,\n",
              "         45,    0,  -74,  -82,  -81,  -45,   82,  -38,   74,   24,   44,\n",
              "          7,   63,   10,  -80,   55,   18,   34,   63,  -21,   36,  -45,\n",
              "         53,  -78,   -8,  -88,   86,  -50])>"
            ]
          },
          "metadata": {},
          "execution_count": 78
        }
      ]
    },
    {
      "cell_type": "code",
      "source": [
        "tf.abs(A)"
      ],
      "metadata": {
        "colab": {
          "base_uri": "https://localhost:8080/"
        },
        "id": "Vo4sCZJISpx8",
        "outputId": "8145887a-0ad7-40d0-ed01-072e8c62edcd"
      },
      "execution_count": 77,
      "outputs": [
        {
          "output_type": "execute_result",
          "data": {
            "text/plain": [
              "<tf.Tensor: shape=(50,), dtype=int64, numpy=\n",
              "array([ 92,  63,  71,  62,  18,  40,  69, 100,  66,  28,  88,  11,  47,\n",
              "        15,  78,   0,  12,  72,  95,  60,  70,  11,  45,   0,  74,  82,\n",
              "        81,  45,  82,  38,  74,  24,  44,   7,  63,  10,  80,  55,  18,\n",
              "        34,  63,  21,  36,  45,  53,  78,   8,  88,  86,  50])>"
            ]
          },
          "metadata": {},
          "execution_count": 77
        }
      ]
    },
    {
      "cell_type": "code",
      "source": [
        "tf.size(A), A.shape, A.ndim"
      ],
      "metadata": {
        "colab": {
          "base_uri": "https://localhost:8080/"
        },
        "id": "EXwcSd8EVHCW",
        "outputId": "c08163ab-dc84-4c33-9107-8a9a90303c25"
      },
      "execution_count": 79,
      "outputs": [
        {
          "output_type": "execute_result",
          "data": {
            "text/plain": [
              "(<tf.Tensor: shape=(), dtype=int32, numpy=50>, TensorShape([50]), 1)"
            ]
          },
          "metadata": {},
          "execution_count": 79
        }
      ]
    },
    {
      "cell_type": "code",
      "source": [
        "tf.reduce_min(A)"
      ],
      "metadata": {
        "colab": {
          "base_uri": "https://localhost:8080/"
        },
        "id": "fXIIksxzVHHp",
        "outputId": "8252584c-25f1-4bc3-9eaa-330413b6e150"
      },
      "execution_count": 80,
      "outputs": [
        {
          "output_type": "execute_result",
          "data": {
            "text/plain": [
              "<tf.Tensor: shape=(), dtype=int64, numpy=-100>"
            ]
          },
          "metadata": {},
          "execution_count": 80
        }
      ]
    },
    {
      "cell_type": "code",
      "source": [
        "tf.reduce_max(A)"
      ],
      "metadata": {
        "colab": {
          "base_uri": "https://localhost:8080/"
        },
        "id": "OFxcjsDUVHK8",
        "outputId": "1b4b924e-a5dc-4f4c-c008-65eba4670f1e"
      },
      "execution_count": 81,
      "outputs": [
        {
          "output_type": "execute_result",
          "data": {
            "text/plain": [
              "<tf.Tensor: shape=(), dtype=int64, numpy=86>"
            ]
          },
          "metadata": {},
          "execution_count": 81
        }
      ]
    },
    {
      "cell_type": "code",
      "source": [
        "tf.reduce_mean(A)"
      ],
      "metadata": {
        "colab": {
          "base_uri": "https://localhost:8080/"
        },
        "id": "4pxvF9I3VHOF",
        "outputId": "a2646ca1-14bc-4ff2-9c37-0966b1fcbb0b"
      },
      "execution_count": 82,
      "outputs": [
        {
          "output_type": "execute_result",
          "data": {
            "text/plain": [
              "<tf.Tensor: shape=(), dtype=int64, numpy=-5>"
            ]
          },
          "metadata": {},
          "execution_count": 82
        }
      ]
    },
    {
      "cell_type": "code",
      "source": [
        "tf.reduce_sum(A)"
      ],
      "metadata": {
        "colab": {
          "base_uri": "https://localhost:8080/"
        },
        "id": "IahXbxFGVHQ1",
        "outputId": "9b469f6e-5aa1-4598-97a9-e3f6846c8750"
      },
      "execution_count": 83,
      "outputs": [
        {
          "output_type": "execute_result",
          "data": {
            "text/plain": [
              "<tf.Tensor: shape=(), dtype=int64, numpy=-270>"
            ]
          },
          "metadata": {},
          "execution_count": 83
        }
      ]
    },
    {
      "cell_type": "code",
      "source": [
        "B = tf.cast(A, dtype=tf.float32)\n",
        "tf.math.reduce_variance(B)"
      ],
      "metadata": {
        "colab": {
          "base_uri": "https://localhost:8080/"
        },
        "id": "Xl4IprJeVHUE",
        "outputId": "ccf1f378-e34d-4755-d046-679fe815f4b1"
      },
      "execution_count": 99,
      "outputs": [
        {
          "output_type": "execute_result",
          "data": {
            "text/plain": [
              "<tf.Tensor: shape=(), dtype=float32, numpy=3387.2>"
            ]
          },
          "metadata": {},
          "execution_count": 99
        }
      ]
    },
    {
      "cell_type": "code",
      "source": [
        "\n",
        "tf.math.reduce_std(B)"
      ],
      "metadata": {
        "colab": {
          "base_uri": "https://localhost:8080/"
        },
        "id": "Hvtl5Z8CWzz-",
        "outputId": "9085ad81-d897-42f6-ade3-774f7e57f575"
      },
      "execution_count": 100,
      "outputs": [
        {
          "output_type": "execute_result",
          "data": {
            "text/plain": [
              "<tf.Tensor: shape=(), dtype=float32, numpy=58.199657>"
            ]
          },
          "metadata": {},
          "execution_count": 100
        }
      ]
    },
    {
      "cell_type": "markdown",
      "source": [
        "# **✅ Positional Max and Min**"
      ],
      "metadata": {
        "id": "oTdPsLr9X6Ya"
      }
    },
    {
      "cell_type": "code",
      "source": [
        "tf.random.set_seed(42)\n",
        "A = tf.random.uniform(shape=[50])\n",
        "A"
      ],
      "metadata": {
        "colab": {
          "base_uri": "https://localhost:8080/"
        },
        "id": "wAlhflHlX1Yq",
        "outputId": "e0356201-3b3d-410f-8210-47e6b9a054ab"
      },
      "execution_count": 102,
      "outputs": [
        {
          "output_type": "execute_result",
          "data": {
            "text/plain": [
              "<tf.Tensor: shape=(50,), dtype=float32, numpy=\n",
              "array([0.6645621 , 0.44100678, 0.3528825 , 0.46448255, 0.03366041,\n",
              "       0.68467236, 0.74011743, 0.8724445 , 0.22632635, 0.22319686,\n",
              "       0.3103881 , 0.7223358 , 0.13318717, 0.5480639 , 0.5746088 ,\n",
              "       0.8996835 , 0.00946367, 0.5212307 , 0.6345445 , 0.1993283 ,\n",
              "       0.72942245, 0.54583454, 0.10756552, 0.6767061 , 0.6602763 ,\n",
              "       0.33695042, 0.60141766, 0.21062577, 0.8527372 , 0.44062173,\n",
              "       0.9485276 , 0.23752594, 0.81179297, 0.5263394 , 0.494308  ,\n",
              "       0.21612847, 0.8457197 , 0.8718841 , 0.3083862 , 0.6868038 ,\n",
              "       0.23764038, 0.7817228 , 0.9671384 , 0.06870162, 0.79873943,\n",
              "       0.66028714, 0.5871513 , 0.16461694, 0.7381023 , 0.32054043],\n",
              "      dtype=float32)>"
            ]
          },
          "metadata": {},
          "execution_count": 102
        }
      ]
    },
    {
      "cell_type": "code",
      "source": [
        "max_pos = tf.argmax(A)"
      ],
      "metadata": {
        "id": "OwAflsWYX1cs"
      },
      "execution_count": 104,
      "outputs": []
    },
    {
      "cell_type": "code",
      "source": [
        "max_pos, A[max_pos]"
      ],
      "metadata": {
        "colab": {
          "base_uri": "https://localhost:8080/"
        },
        "id": "XlERjTCNX1f9",
        "outputId": "de1e1cd6-34ca-48e2-ea37-030103bbbd83"
      },
      "execution_count": 106,
      "outputs": [
        {
          "output_type": "execute_result",
          "data": {
            "text/plain": [
              "(<tf.Tensor: shape=(), dtype=int64, numpy=42>,\n",
              " <tf.Tensor: shape=(), dtype=float32, numpy=0.9671384>)"
            ]
          },
          "metadata": {},
          "execution_count": 106
        }
      ]
    },
    {
      "cell_type": "code",
      "source": [
        "tf.reduce_max(A)"
      ],
      "metadata": {
        "colab": {
          "base_uri": "https://localhost:8080/"
        },
        "id": "YaP_Uy9QX1jl",
        "outputId": "c217186e-ca3b-4b13-e084-86141bdad5cd"
      },
      "execution_count": 107,
      "outputs": [
        {
          "output_type": "execute_result",
          "data": {
            "text/plain": [
              "<tf.Tensor: shape=(), dtype=float32, numpy=0.9671384>"
            ]
          },
          "metadata": {},
          "execution_count": 107
        }
      ]
    },
    {
      "cell_type": "code",
      "source": [
        "min_pos = tf.argmin(A)\n",
        "min_pos, A[min_pos]"
      ],
      "metadata": {
        "colab": {
          "base_uri": "https://localhost:8080/"
        },
        "id": "hWT8W633aJP_",
        "outputId": "26450ccf-2c8e-43db-8217-26ccb2d1928f"
      },
      "execution_count": 110,
      "outputs": [
        {
          "output_type": "execute_result",
          "data": {
            "text/plain": [
              "(<tf.Tensor: shape=(), dtype=int64, numpy=16>,\n",
              " <tf.Tensor: shape=(), dtype=float32, numpy=0.009463668>)"
            ]
          },
          "metadata": {},
          "execution_count": 110
        }
      ]
    },
    {
      "cell_type": "code",
      "source": [
        "tf.reduce_min(A)"
      ],
      "metadata": {
        "colab": {
          "base_uri": "https://localhost:8080/"
        },
        "id": "ACLDcM_waJUk",
        "outputId": "c0696ad4-3081-4f2e-ee8d-9adf4cb6be21"
      },
      "execution_count": 111,
      "outputs": [
        {
          "output_type": "execute_result",
          "data": {
            "text/plain": [
              "<tf.Tensor: shape=(), dtype=float32, numpy=0.009463668>"
            ]
          },
          "metadata": {},
          "execution_count": 111
        }
      ]
    },
    {
      "cell_type": "markdown",
      "source": [
        "# **✅ Squeezing the tensor**"
      ],
      "metadata": {
        "id": "IWCUbLAFcQTr"
      }
    },
    {
      "cell_type": "code",
      "source": [
        "tf.random.set_seed(42)\n",
        "A = tf.constant(tf.random.uniform(shape = [50]), shape = (1,1,1,1, 50))\n",
        "A"
      ],
      "metadata": {
        "colab": {
          "base_uri": "https://localhost:8080/"
        },
        "id": "XM4RSo_GcXtm",
        "outputId": "fd0aec30-7399-45e2-81ba-0e7c1e6e0164"
      },
      "execution_count": 115,
      "outputs": [
        {
          "output_type": "execute_result",
          "data": {
            "text/plain": [
              "<tf.Tensor: shape=(1, 1, 1, 1, 50), dtype=float32, numpy=\n",
              "array([[[[[0.6645621 , 0.44100678, 0.3528825 , 0.46448255, 0.03366041,\n",
              "           0.68467236, 0.74011743, 0.8724445 , 0.22632635, 0.22319686,\n",
              "           0.3103881 , 0.7223358 , 0.13318717, 0.5480639 , 0.5746088 ,\n",
              "           0.8996835 , 0.00946367, 0.5212307 , 0.6345445 , 0.1993283 ,\n",
              "           0.72942245, 0.54583454, 0.10756552, 0.6767061 , 0.6602763 ,\n",
              "           0.33695042, 0.60141766, 0.21062577, 0.8527372 , 0.44062173,\n",
              "           0.9485276 , 0.23752594, 0.81179297, 0.5263394 , 0.494308  ,\n",
              "           0.21612847, 0.8457197 , 0.8718841 , 0.3083862 , 0.6868038 ,\n",
              "           0.23764038, 0.7817228 , 0.9671384 , 0.06870162, 0.79873943,\n",
              "           0.66028714, 0.5871513 , 0.16461694, 0.7381023 , 0.32054043]]]]],\n",
              "      dtype=float32)>"
            ]
          },
          "metadata": {},
          "execution_count": 115
        }
      ]
    },
    {
      "cell_type": "code",
      "source": [
        "B = tf.squeeze(A)\n",
        "B"
      ],
      "metadata": {
        "colab": {
          "base_uri": "https://localhost:8080/"
        },
        "id": "BvxU1UsDdJD8",
        "outputId": "c2d5ff35-954a-405c-8c73-3edba129ec4e"
      },
      "execution_count": 117,
      "outputs": [
        {
          "output_type": "execute_result",
          "data": {
            "text/plain": [
              "<tf.Tensor: shape=(50,), dtype=float32, numpy=\n",
              "array([0.6645621 , 0.44100678, 0.3528825 , 0.46448255, 0.03366041,\n",
              "       0.68467236, 0.74011743, 0.8724445 , 0.22632635, 0.22319686,\n",
              "       0.3103881 , 0.7223358 , 0.13318717, 0.5480639 , 0.5746088 ,\n",
              "       0.8996835 , 0.00946367, 0.5212307 , 0.6345445 , 0.1993283 ,\n",
              "       0.72942245, 0.54583454, 0.10756552, 0.6767061 , 0.6602763 ,\n",
              "       0.33695042, 0.60141766, 0.21062577, 0.8527372 , 0.44062173,\n",
              "       0.9485276 , 0.23752594, 0.81179297, 0.5263394 , 0.494308  ,\n",
              "       0.21612847, 0.8457197 , 0.8718841 , 0.3083862 , 0.6868038 ,\n",
              "       0.23764038, 0.7817228 , 0.9671384 , 0.06870162, 0.79873943,\n",
              "       0.66028714, 0.5871513 , 0.16461694, 0.7381023 , 0.32054043],\n",
              "      dtype=float32)>"
            ]
          },
          "metadata": {},
          "execution_count": 117
        }
      ]
    },
    {
      "cell_type": "markdown",
      "source": [
        "# **✅ One Hot Encoding**"
      ],
      "metadata": {
        "id": "609M8INKdU9B"
      }
    },
    {
      "cell_type": "code",
      "source": [
        "indices = [0, 2, 3, 5]"
      ],
      "metadata": {
        "id": "ge6xieyrdUjH"
      },
      "execution_count": 129,
      "outputs": []
    },
    {
      "cell_type": "code",
      "source": [
        "tf.one_hot(indices, depth = 4)"
      ],
      "metadata": {
        "colab": {
          "base_uri": "https://localhost:8080/"
        },
        "id": "NaqXywMZdM5h",
        "outputId": "d62d5694-af89-4dee-d61a-736387968c7d"
      },
      "execution_count": 130,
      "outputs": [
        {
          "output_type": "execute_result",
          "data": {
            "text/plain": [
              "<tf.Tensor: shape=(4, 4), dtype=float32, numpy=\n",
              "array([[1., 0., 0., 0.],\n",
              "       [0., 0., 1., 0.],\n",
              "       [0., 0., 0., 1.],\n",
              "       [0., 0., 0., 0.]], dtype=float32)>"
            ]
          },
          "metadata": {},
          "execution_count": 130
        }
      ]
    },
    {
      "cell_type": "code",
      "source": [
        "tf.one_hot(indices, depth = 4, on_value ='*', off_value='#')"
      ],
      "metadata": {
        "colab": {
          "base_uri": "https://localhost:8080/"
        },
        "id": "a-5p_2W4e53r",
        "outputId": "96de9331-9be8-48ed-a411-007f156cf5f0"
      },
      "execution_count": 131,
      "outputs": [
        {
          "output_type": "execute_result",
          "data": {
            "text/plain": [
              "<tf.Tensor: shape=(4, 4), dtype=string, numpy=\n",
              "array([[b'*', b'#', b'#', b'#'],\n",
              "       [b'#', b'#', b'*', b'#'],\n",
              "       [b'#', b'#', b'#', b'*'],\n",
              "       [b'#', b'#', b'#', b'#']], dtype=object)>"
            ]
          },
          "metadata": {},
          "execution_count": 131
        }
      ]
    },
    {
      "cell_type": "markdown",
      "source": [
        "# **✅ Math Operations**"
      ],
      "metadata": {
        "id": "0KnPS6ajfhaG"
      }
    },
    {
      "cell_type": "code",
      "source": [
        "A = tf.range(-9, 10)\n",
        "A"
      ],
      "metadata": {
        "colab": {
          "base_uri": "https://localhost:8080/"
        },
        "id": "oLvUBZ-_fmE-",
        "outputId": "8bbff003-9d8a-4f8f-ffaa-8735c99fd873"
      },
      "execution_count": 136,
      "outputs": [
        {
          "output_type": "execute_result",
          "data": {
            "text/plain": [
              "<tf.Tensor: shape=(19,), dtype=int32, numpy=\n",
              "array([-9, -8, -7, -6, -5, -4, -3, -2, -1,  0,  1,  2,  3,  4,  5,  6,  7,\n",
              "        8,  9], dtype=int32)>"
            ]
          },
          "metadata": {},
          "execution_count": 136
        }
      ]
    },
    {
      "cell_type": "code",
      "source": [
        "tf.math.square(A)"
      ],
      "metadata": {
        "colab": {
          "base_uri": "https://localhost:8080/"
        },
        "id": "lTmMyUWagbwh",
        "outputId": "673d14bf-4b53-44ba-f0f5-60d589fecf1b"
      },
      "execution_count": 137,
      "outputs": [
        {
          "output_type": "execute_result",
          "data": {
            "text/plain": [
              "<tf.Tensor: shape=(19,), dtype=int32, numpy=\n",
              "array([81, 64, 49, 36, 25, 16,  9,  4,  1,  0,  1,  4,  9, 16, 25, 36, 49,\n",
              "       64, 81], dtype=int32)>"
            ]
          },
          "metadata": {},
          "execution_count": 137
        }
      ]
    },
    {
      "cell_type": "code",
      "source": [
        "tf.math.sqrt(tf.cast(A, dtype=tf.float16))"
      ],
      "metadata": {
        "colab": {
          "base_uri": "https://localhost:8080/"
        },
        "id": "HSL204olgcDz",
        "outputId": "6b34e57a-16c4-4301-a4d2-174cc1862e22"
      },
      "execution_count": 141,
      "outputs": [
        {
          "output_type": "execute_result",
          "data": {
            "text/plain": [
              "<tf.Tensor: shape=(19,), dtype=float16, numpy=\n",
              "array([  nan,   nan,   nan,   nan,   nan,   nan,   nan,   nan,   nan,\n",
              "       0.   , 1.   , 1.414, 1.732, 2.   , 2.236, 2.45 , 2.646, 2.828,\n",
              "       3.   ], dtype=float16)>"
            ]
          },
          "metadata": {},
          "execution_count": 141
        }
      ]
    },
    {
      "cell_type": "code",
      "source": [
        "tf.math.log(tf.cast(A, dtype=tf.float16))"
      ],
      "metadata": {
        "colab": {
          "base_uri": "https://localhost:8080/"
        },
        "id": "hFAzVrsig3fC",
        "outputId": "37edb2ae-1e72-4c31-ca90-724e604d3711"
      },
      "execution_count": 142,
      "outputs": [
        {
          "output_type": "execute_result",
          "data": {
            "text/plain": [
              "<tf.Tensor: shape=(19,), dtype=float16, numpy=\n",
              "array([   nan,    nan,    nan,    nan,    nan,    nan,    nan,    nan,\n",
              "          nan,   -inf, 0.    , 0.6934, 1.099 , 1.387 , 1.609 , 1.792 ,\n",
              "       1.946 , 2.08  , 2.197 ], dtype=float16)>"
            ]
          },
          "metadata": {},
          "execution_count": 142
        }
      ]
    },
    {
      "cell_type": "markdown",
      "source": [
        "# **✅ Tensorflow and Numpy**"
      ],
      "metadata": {
        "id": "QO8sBPHphLRN"
      }
    },
    {
      "cell_type": "code",
      "source": [
        "A = tf.constant(np.array([1., 0.5, 2.3, 5.6]))\n",
        "A"
      ],
      "metadata": {
        "colab": {
          "base_uri": "https://localhost:8080/"
        },
        "id": "xmHApG7jg33o",
        "outputId": "e2259dc6-24de-4895-da55-f59258bc8f5b"
      },
      "execution_count": 147,
      "outputs": [
        {
          "output_type": "execute_result",
          "data": {
            "text/plain": [
              "<tf.Tensor: shape=(4,), dtype=float64, numpy=array([1. , 0.5, 2.3, 5.6])>"
            ]
          },
          "metadata": {},
          "execution_count": 147
        }
      ]
    },
    {
      "cell_type": "code",
      "source": [
        "np_arr = np.array(A)"
      ],
      "metadata": {
        "id": "gQr_eda1g3_v"
      },
      "execution_count": 146,
      "outputs": []
    },
    {
      "cell_type": "code",
      "source": [
        "type(A), type(np_arr)"
      ],
      "metadata": {
        "colab": {
          "base_uri": "https://localhost:8080/"
        },
        "id": "2bPgGwBSg4KH",
        "outputId": "20764c75-7432-458e-bb70-f31baa62d122"
      },
      "execution_count": 148,
      "outputs": [
        {
          "output_type": "execute_result",
          "data": {
            "text/plain": [
              "(tensorflow.python.framework.ops.EagerTensor, numpy.ndarray)"
            ]
          },
          "metadata": {},
          "execution_count": 148
        }
      ]
    },
    {
      "cell_type": "code",
      "source": [
        "type(A.numpy())"
      ],
      "metadata": {
        "colab": {
          "base_uri": "https://localhost:8080/"
        },
        "id": "TckuNgSvi55Y",
        "outputId": "486c0dfe-b7d7-4044-e37b-34df3cba9619"
      },
      "execution_count": 149,
      "outputs": [
        {
          "output_type": "execute_result",
          "data": {
            "text/plain": [
              "numpy.ndarray"
            ]
          },
          "metadata": {},
          "execution_count": 149
        }
      ]
    },
    {
      "cell_type": "code",
      "source": [
        "A = tf.constant(np.array([1., 0.5, 2.3, 5.6]))\n",
        "B = tf.constant([1., 0.5, 2.3, 5.6])\n",
        "A.dtype, B.dtype"
      ],
      "metadata": {
        "colab": {
          "base_uri": "https://localhost:8080/"
        },
        "id": "u0gTxpCejMAF",
        "outputId": "468f2846-79fd-4331-d776-5334d3924934"
      },
      "execution_count": 150,
      "outputs": [
        {
          "output_type": "execute_result",
          "data": {
            "text/plain": [
              "(tf.float64, tf.float32)"
            ]
          },
          "metadata": {},
          "execution_count": 150
        }
      ]
    },
    {
      "cell_type": "markdown",
      "source": [
        "# **✅ GPU Processing**"
      ],
      "metadata": {
        "id": "IKrFwm3LlUcX"
      }
    },
    {
      "cell_type": "code",
      "source": [
        "tf.config.list_physical_devices()"
      ],
      "metadata": {
        "colab": {
          "base_uri": "https://localhost:8080/"
        },
        "id": "fwOxZoSZlTzJ",
        "outputId": "32dc7a53-8846-4d30-c322-45a4a8eb9355"
      },
      "execution_count": 151,
      "outputs": [
        {
          "output_type": "execute_result",
          "data": {
            "text/plain": [
              "[PhysicalDevice(name='/physical_device:CPU:0', device_type='CPU')]"
            ]
          },
          "metadata": {},
          "execution_count": 151
        }
      ]
    },
    {
      "cell_type": "code",
      "source": [
        "tf.config.list_physical_devices(\"GPU\")"
      ],
      "metadata": {
        "colab": {
          "base_uri": "https://localhost:8080/"
        },
        "id": "04n5dq3ll0XA",
        "outputId": "a793fdaa-0e2c-48bb-e4e6-fd4e0e339707"
      },
      "execution_count": 152,
      "outputs": [
        {
          "output_type": "execute_result",
          "data": {
            "text/plain": [
              "[]"
            ]
          },
          "metadata": {},
          "execution_count": 152
        }
      ]
    }
  ]
}