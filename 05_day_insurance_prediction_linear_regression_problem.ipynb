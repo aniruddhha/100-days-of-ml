{
  "nbformat": 4,
  "nbformat_minor": 0,
  "metadata": {
    "colab": {
      "provenance": [],
      "authorship_tag": "ABX9TyPgUwbOjuSq3WqVQQBinx1O",
      "include_colab_link": true
    },
    "kernelspec": {
      "name": "python3",
      "display_name": "Python 3"
    },
    "language_info": {
      "name": "python"
    }
  },
  "cells": [
    {
      "cell_type": "markdown",
      "metadata": {
        "id": "view-in-github",
        "colab_type": "text"
      },
      "source": [
        "<a href=\"https://colab.research.google.com/github/aniruddhha/100-days-of-ml/blob/main/05_day_insurance_prediction_linear_regression_problem.ipynb\" target=\"_parent\"><img src=\"https://colab.research.google.com/assets/colab-badge.svg\" alt=\"Open In Colab\"/></a>"
      ]
    },
    {
      "cell_type": "code",
      "source": [
        "import tensorflow as tf\n",
        "import pandas as pd\n",
        "import matplotlib.pyplot as plt"
      ],
      "metadata": {
        "id": "AFiYDKAjZqrj"
      },
      "execution_count": 1,
      "outputs": []
    },
    {
      "cell_type": "code",
      "source": [
        "# Load the data from git\n",
        "insurance = pd.read_csv('https://raw.githubusercontent.com/stedy/Machine-Learning-with-R-datasets/master/insurance.csv')\n",
        "insurance"
      ],
      "metadata": {
        "colab": {
          "base_uri": "https://localhost:8080/",
          "height": 424
        },
        "id": "SCoMJ2GcZ-_4",
        "outputId": "2d4d363d-d880-4b6d-9385-bdf4ff3bdbdf"
      },
      "execution_count": 2,
      "outputs": [
        {
          "output_type": "execute_result",
          "data": {
            "text/plain": [
              "      age     sex     bmi  children smoker     region      charges\n",
              "0      19  female  27.900         0    yes  southwest  16884.92400\n",
              "1      18    male  33.770         1     no  southeast   1725.55230\n",
              "2      28    male  33.000         3     no  southeast   4449.46200\n",
              "3      33    male  22.705         0     no  northwest  21984.47061\n",
              "4      32    male  28.880         0     no  northwest   3866.85520\n",
              "...   ...     ...     ...       ...    ...        ...          ...\n",
              "1333   50    male  30.970         3     no  northwest  10600.54830\n",
              "1334   18  female  31.920         0     no  northeast   2205.98080\n",
              "1335   18  female  36.850         0     no  southeast   1629.83350\n",
              "1336   21  female  25.800         0     no  southwest   2007.94500\n",
              "1337   61  female  29.070         0    yes  northwest  29141.36030\n",
              "\n",
              "[1338 rows x 7 columns]"
            ],
            "text/html": [
              "\n",
              "  <div id=\"df-00fde2a3-97a9-4ce6-9d55-15adb4e8e481\">\n",
              "    <div class=\"colab-df-container\">\n",
              "      <div>\n",
              "<style scoped>\n",
              "    .dataframe tbody tr th:only-of-type {\n",
              "        vertical-align: middle;\n",
              "    }\n",
              "\n",
              "    .dataframe tbody tr th {\n",
              "        vertical-align: top;\n",
              "    }\n",
              "\n",
              "    .dataframe thead th {\n",
              "        text-align: right;\n",
              "    }\n",
              "</style>\n",
              "<table border=\"1\" class=\"dataframe\">\n",
              "  <thead>\n",
              "    <tr style=\"text-align: right;\">\n",
              "      <th></th>\n",
              "      <th>age</th>\n",
              "      <th>sex</th>\n",
              "      <th>bmi</th>\n",
              "      <th>children</th>\n",
              "      <th>smoker</th>\n",
              "      <th>region</th>\n",
              "      <th>charges</th>\n",
              "    </tr>\n",
              "  </thead>\n",
              "  <tbody>\n",
              "    <tr>\n",
              "      <th>0</th>\n",
              "      <td>19</td>\n",
              "      <td>female</td>\n",
              "      <td>27.900</td>\n",
              "      <td>0</td>\n",
              "      <td>yes</td>\n",
              "      <td>southwest</td>\n",
              "      <td>16884.92400</td>\n",
              "    </tr>\n",
              "    <tr>\n",
              "      <th>1</th>\n",
              "      <td>18</td>\n",
              "      <td>male</td>\n",
              "      <td>33.770</td>\n",
              "      <td>1</td>\n",
              "      <td>no</td>\n",
              "      <td>southeast</td>\n",
              "      <td>1725.55230</td>\n",
              "    </tr>\n",
              "    <tr>\n",
              "      <th>2</th>\n",
              "      <td>28</td>\n",
              "      <td>male</td>\n",
              "      <td>33.000</td>\n",
              "      <td>3</td>\n",
              "      <td>no</td>\n",
              "      <td>southeast</td>\n",
              "      <td>4449.46200</td>\n",
              "    </tr>\n",
              "    <tr>\n",
              "      <th>3</th>\n",
              "      <td>33</td>\n",
              "      <td>male</td>\n",
              "      <td>22.705</td>\n",
              "      <td>0</td>\n",
              "      <td>no</td>\n",
              "      <td>northwest</td>\n",
              "      <td>21984.47061</td>\n",
              "    </tr>\n",
              "    <tr>\n",
              "      <th>4</th>\n",
              "      <td>32</td>\n",
              "      <td>male</td>\n",
              "      <td>28.880</td>\n",
              "      <td>0</td>\n",
              "      <td>no</td>\n",
              "      <td>northwest</td>\n",
              "      <td>3866.85520</td>\n",
              "    </tr>\n",
              "    <tr>\n",
              "      <th>...</th>\n",
              "      <td>...</td>\n",
              "      <td>...</td>\n",
              "      <td>...</td>\n",
              "      <td>...</td>\n",
              "      <td>...</td>\n",
              "      <td>...</td>\n",
              "      <td>...</td>\n",
              "    </tr>\n",
              "    <tr>\n",
              "      <th>1333</th>\n",
              "      <td>50</td>\n",
              "      <td>male</td>\n",
              "      <td>30.970</td>\n",
              "      <td>3</td>\n",
              "      <td>no</td>\n",
              "      <td>northwest</td>\n",
              "      <td>10600.54830</td>\n",
              "    </tr>\n",
              "    <tr>\n",
              "      <th>1334</th>\n",
              "      <td>18</td>\n",
              "      <td>female</td>\n",
              "      <td>31.920</td>\n",
              "      <td>0</td>\n",
              "      <td>no</td>\n",
              "      <td>northeast</td>\n",
              "      <td>2205.98080</td>\n",
              "    </tr>\n",
              "    <tr>\n",
              "      <th>1335</th>\n",
              "      <td>18</td>\n",
              "      <td>female</td>\n",
              "      <td>36.850</td>\n",
              "      <td>0</td>\n",
              "      <td>no</td>\n",
              "      <td>southeast</td>\n",
              "      <td>1629.83350</td>\n",
              "    </tr>\n",
              "    <tr>\n",
              "      <th>1336</th>\n",
              "      <td>21</td>\n",
              "      <td>female</td>\n",
              "      <td>25.800</td>\n",
              "      <td>0</td>\n",
              "      <td>no</td>\n",
              "      <td>southwest</td>\n",
              "      <td>2007.94500</td>\n",
              "    </tr>\n",
              "    <tr>\n",
              "      <th>1337</th>\n",
              "      <td>61</td>\n",
              "      <td>female</td>\n",
              "      <td>29.070</td>\n",
              "      <td>0</td>\n",
              "      <td>yes</td>\n",
              "      <td>northwest</td>\n",
              "      <td>29141.36030</td>\n",
              "    </tr>\n",
              "  </tbody>\n",
              "</table>\n",
              "<p>1338 rows × 7 columns</p>\n",
              "</div>\n",
              "      <button class=\"colab-df-convert\" onclick=\"convertToInteractive('df-00fde2a3-97a9-4ce6-9d55-15adb4e8e481')\"\n",
              "              title=\"Convert this dataframe to an interactive table.\"\n",
              "              style=\"display:none;\">\n",
              "        \n",
              "  <svg xmlns=\"http://www.w3.org/2000/svg\" height=\"24px\"viewBox=\"0 0 24 24\"\n",
              "       width=\"24px\">\n",
              "    <path d=\"M0 0h24v24H0V0z\" fill=\"none\"/>\n",
              "    <path d=\"M18.56 5.44l.94 2.06.94-2.06 2.06-.94-2.06-.94-.94-2.06-.94 2.06-2.06.94zm-11 1L8.5 8.5l.94-2.06 2.06-.94-2.06-.94L8.5 2.5l-.94 2.06-2.06.94zm10 10l.94 2.06.94-2.06 2.06-.94-2.06-.94-.94-2.06-.94 2.06-2.06.94z\"/><path d=\"M17.41 7.96l-1.37-1.37c-.4-.4-.92-.59-1.43-.59-.52 0-1.04.2-1.43.59L10.3 9.45l-7.72 7.72c-.78.78-.78 2.05 0 2.83L4 21.41c.39.39.9.59 1.41.59.51 0 1.02-.2 1.41-.59l7.78-7.78 2.81-2.81c.8-.78.8-2.07 0-2.86zM5.41 20L4 18.59l7.72-7.72 1.47 1.35L5.41 20z\"/>\n",
              "  </svg>\n",
              "      </button>\n",
              "      \n",
              "  <style>\n",
              "    .colab-df-container {\n",
              "      display:flex;\n",
              "      flex-wrap:wrap;\n",
              "      gap: 12px;\n",
              "    }\n",
              "\n",
              "    .colab-df-convert {\n",
              "      background-color: #E8F0FE;\n",
              "      border: none;\n",
              "      border-radius: 50%;\n",
              "      cursor: pointer;\n",
              "      display: none;\n",
              "      fill: #1967D2;\n",
              "      height: 32px;\n",
              "      padding: 0 0 0 0;\n",
              "      width: 32px;\n",
              "    }\n",
              "\n",
              "    .colab-df-convert:hover {\n",
              "      background-color: #E2EBFA;\n",
              "      box-shadow: 0px 1px 2px rgba(60, 64, 67, 0.3), 0px 1px 3px 1px rgba(60, 64, 67, 0.15);\n",
              "      fill: #174EA6;\n",
              "    }\n",
              "\n",
              "    [theme=dark] .colab-df-convert {\n",
              "      background-color: #3B4455;\n",
              "      fill: #D2E3FC;\n",
              "    }\n",
              "\n",
              "    [theme=dark] .colab-df-convert:hover {\n",
              "      background-color: #434B5C;\n",
              "      box-shadow: 0px 1px 3px 1px rgba(0, 0, 0, 0.15);\n",
              "      filter: drop-shadow(0px 1px 2px rgba(0, 0, 0, 0.3));\n",
              "      fill: #FFFFFF;\n",
              "    }\n",
              "  </style>\n",
              "\n",
              "      <script>\n",
              "        const buttonEl =\n",
              "          document.querySelector('#df-00fde2a3-97a9-4ce6-9d55-15adb4e8e481 button.colab-df-convert');\n",
              "        buttonEl.style.display =\n",
              "          google.colab.kernel.accessAllowed ? 'block' : 'none';\n",
              "\n",
              "        async function convertToInteractive(key) {\n",
              "          const element = document.querySelector('#df-00fde2a3-97a9-4ce6-9d55-15adb4e8e481');\n",
              "          const dataTable =\n",
              "            await google.colab.kernel.invokeFunction('convertToInteractive',\n",
              "                                                     [key], {});\n",
              "          if (!dataTable) return;\n",
              "\n",
              "          const docLinkHtml = 'Like what you see? Visit the ' +\n",
              "            '<a target=\"_blank\" href=https://colab.research.google.com/notebooks/data_table.ipynb>data table notebook</a>'\n",
              "            + ' to learn more about interactive tables.';\n",
              "          element.innerHTML = '';\n",
              "          dataTable['output_type'] = 'display_data';\n",
              "          await google.colab.output.renderOutput(dataTable, element);\n",
              "          const docLink = document.createElement('div');\n",
              "          docLink.innerHTML = docLinkHtml;\n",
              "          element.appendChild(docLink);\n",
              "        }\n",
              "      </script>\n",
              "    </div>\n",
              "  </div>\n",
              "  "
            ]
          },
          "metadata": {},
          "execution_count": 2
        }
      ]
    },
    {
      "cell_type": "code",
      "source": [
        "# Check the data\n",
        "# numerical columns\n",
        "insurance['age'], insurance['bmi'], insurance['children'], insurance['charges']\n",
        "\n",
        "# non numerical columns\n",
        "insurance['sex'], insurance['smoker'], insurance['region']"
      ],
      "metadata": {
        "colab": {
          "base_uri": "https://localhost:8080/"
        },
        "id": "gI_x2HC_ZrM7",
        "outputId": "3f72fc2f-4e91-4128-fb9d-0b1593e8a3bf"
      },
      "execution_count": 3,
      "outputs": [
        {
          "output_type": "execute_result",
          "data": {
            "text/plain": [
              "(0       female\n",
              " 1         male\n",
              " 2         male\n",
              " 3         male\n",
              " 4         male\n",
              "          ...  \n",
              " 1333      male\n",
              " 1334    female\n",
              " 1335    female\n",
              " 1336    female\n",
              " 1337    female\n",
              " Name: sex, Length: 1338, dtype: object, 0       yes\n",
              " 1        no\n",
              " 2        no\n",
              " 3        no\n",
              " 4        no\n",
              "        ... \n",
              " 1333     no\n",
              " 1334     no\n",
              " 1335     no\n",
              " 1336     no\n",
              " 1337    yes\n",
              " Name: smoker, Length: 1338, dtype: object, 0       southwest\n",
              " 1       southeast\n",
              " 2       southeast\n",
              " 3       northwest\n",
              " 4       northwest\n",
              "           ...    \n",
              " 1333    northwest\n",
              " 1334    northeast\n",
              " 1335    southeast\n",
              " 1336    southwest\n",
              " 1337    northwest\n",
              " Name: region, Length: 1338, dtype: object)"
            ]
          },
          "metadata": {},
          "execution_count": 3
        }
      ]
    },
    {
      "cell_type": "code",
      "source": [
        "# need to remove non numercial (categorical) columns to numbers, i.e. called numerical encoding\n",
        "# one hot encoding\n",
        "insurance_one_hot = pd.get_dummies(insurance)\n",
        "insurance_one_hot.tail()"
      ],
      "metadata": {
        "colab": {
          "base_uri": "https://localhost:8080/",
          "height": 206
        },
        "id": "ZMtJs2VQZrjU",
        "outputId": "8351d127-dc13-4834-a270-a7b2ef7fd2ff"
      },
      "execution_count": 4,
      "outputs": [
        {
          "output_type": "execute_result",
          "data": {
            "text/plain": [
              "      age    bmi  children     charges  sex_female  sex_male  smoker_no  \\\n",
              "1333   50  30.97         3  10600.5483           0         1          1   \n",
              "1334   18  31.92         0   2205.9808           1         0          1   \n",
              "1335   18  36.85         0   1629.8335           1         0          1   \n",
              "1336   21  25.80         0   2007.9450           1         0          1   \n",
              "1337   61  29.07         0  29141.3603           1         0          0   \n",
              "\n",
              "      smoker_yes  region_northeast  region_northwest  region_southeast  \\\n",
              "1333           0                 0                 1                 0   \n",
              "1334           0                 1                 0                 0   \n",
              "1335           0                 0                 0                 1   \n",
              "1336           0                 0                 0                 0   \n",
              "1337           1                 0                 1                 0   \n",
              "\n",
              "      region_southwest  \n",
              "1333                 0  \n",
              "1334                 0  \n",
              "1335                 0  \n",
              "1336                 1  \n",
              "1337                 0  "
            ],
            "text/html": [
              "\n",
              "  <div id=\"df-e683d39b-735c-4cfa-9a2f-4c01b1dc3acf\">\n",
              "    <div class=\"colab-df-container\">\n",
              "      <div>\n",
              "<style scoped>\n",
              "    .dataframe tbody tr th:only-of-type {\n",
              "        vertical-align: middle;\n",
              "    }\n",
              "\n",
              "    .dataframe tbody tr th {\n",
              "        vertical-align: top;\n",
              "    }\n",
              "\n",
              "    .dataframe thead th {\n",
              "        text-align: right;\n",
              "    }\n",
              "</style>\n",
              "<table border=\"1\" class=\"dataframe\">\n",
              "  <thead>\n",
              "    <tr style=\"text-align: right;\">\n",
              "      <th></th>\n",
              "      <th>age</th>\n",
              "      <th>bmi</th>\n",
              "      <th>children</th>\n",
              "      <th>charges</th>\n",
              "      <th>sex_female</th>\n",
              "      <th>sex_male</th>\n",
              "      <th>smoker_no</th>\n",
              "      <th>smoker_yes</th>\n",
              "      <th>region_northeast</th>\n",
              "      <th>region_northwest</th>\n",
              "      <th>region_southeast</th>\n",
              "      <th>region_southwest</th>\n",
              "    </tr>\n",
              "  </thead>\n",
              "  <tbody>\n",
              "    <tr>\n",
              "      <th>1333</th>\n",
              "      <td>50</td>\n",
              "      <td>30.97</td>\n",
              "      <td>3</td>\n",
              "      <td>10600.5483</td>\n",
              "      <td>0</td>\n",
              "      <td>1</td>\n",
              "      <td>1</td>\n",
              "      <td>0</td>\n",
              "      <td>0</td>\n",
              "      <td>1</td>\n",
              "      <td>0</td>\n",
              "      <td>0</td>\n",
              "    </tr>\n",
              "    <tr>\n",
              "      <th>1334</th>\n",
              "      <td>18</td>\n",
              "      <td>31.92</td>\n",
              "      <td>0</td>\n",
              "      <td>2205.9808</td>\n",
              "      <td>1</td>\n",
              "      <td>0</td>\n",
              "      <td>1</td>\n",
              "      <td>0</td>\n",
              "      <td>1</td>\n",
              "      <td>0</td>\n",
              "      <td>0</td>\n",
              "      <td>0</td>\n",
              "    </tr>\n",
              "    <tr>\n",
              "      <th>1335</th>\n",
              "      <td>18</td>\n",
              "      <td>36.85</td>\n",
              "      <td>0</td>\n",
              "      <td>1629.8335</td>\n",
              "      <td>1</td>\n",
              "      <td>0</td>\n",
              "      <td>1</td>\n",
              "      <td>0</td>\n",
              "      <td>0</td>\n",
              "      <td>0</td>\n",
              "      <td>1</td>\n",
              "      <td>0</td>\n",
              "    </tr>\n",
              "    <tr>\n",
              "      <th>1336</th>\n",
              "      <td>21</td>\n",
              "      <td>25.80</td>\n",
              "      <td>0</td>\n",
              "      <td>2007.9450</td>\n",
              "      <td>1</td>\n",
              "      <td>0</td>\n",
              "      <td>1</td>\n",
              "      <td>0</td>\n",
              "      <td>0</td>\n",
              "      <td>0</td>\n",
              "      <td>0</td>\n",
              "      <td>1</td>\n",
              "    </tr>\n",
              "    <tr>\n",
              "      <th>1337</th>\n",
              "      <td>61</td>\n",
              "      <td>29.07</td>\n",
              "      <td>0</td>\n",
              "      <td>29141.3603</td>\n",
              "      <td>1</td>\n",
              "      <td>0</td>\n",
              "      <td>0</td>\n",
              "      <td>1</td>\n",
              "      <td>0</td>\n",
              "      <td>1</td>\n",
              "      <td>0</td>\n",
              "      <td>0</td>\n",
              "    </tr>\n",
              "  </tbody>\n",
              "</table>\n",
              "</div>\n",
              "      <button class=\"colab-df-convert\" onclick=\"convertToInteractive('df-e683d39b-735c-4cfa-9a2f-4c01b1dc3acf')\"\n",
              "              title=\"Convert this dataframe to an interactive table.\"\n",
              "              style=\"display:none;\">\n",
              "        \n",
              "  <svg xmlns=\"http://www.w3.org/2000/svg\" height=\"24px\"viewBox=\"0 0 24 24\"\n",
              "       width=\"24px\">\n",
              "    <path d=\"M0 0h24v24H0V0z\" fill=\"none\"/>\n",
              "    <path d=\"M18.56 5.44l.94 2.06.94-2.06 2.06-.94-2.06-.94-.94-2.06-.94 2.06-2.06.94zm-11 1L8.5 8.5l.94-2.06 2.06-.94-2.06-.94L8.5 2.5l-.94 2.06-2.06.94zm10 10l.94 2.06.94-2.06 2.06-.94-2.06-.94-.94-2.06-.94 2.06-2.06.94z\"/><path d=\"M17.41 7.96l-1.37-1.37c-.4-.4-.92-.59-1.43-.59-.52 0-1.04.2-1.43.59L10.3 9.45l-7.72 7.72c-.78.78-.78 2.05 0 2.83L4 21.41c.39.39.9.59 1.41.59.51 0 1.02-.2 1.41-.59l7.78-7.78 2.81-2.81c.8-.78.8-2.07 0-2.86zM5.41 20L4 18.59l7.72-7.72 1.47 1.35L5.41 20z\"/>\n",
              "  </svg>\n",
              "      </button>\n",
              "      \n",
              "  <style>\n",
              "    .colab-df-container {\n",
              "      display:flex;\n",
              "      flex-wrap:wrap;\n",
              "      gap: 12px;\n",
              "    }\n",
              "\n",
              "    .colab-df-convert {\n",
              "      background-color: #E8F0FE;\n",
              "      border: none;\n",
              "      border-radius: 50%;\n",
              "      cursor: pointer;\n",
              "      display: none;\n",
              "      fill: #1967D2;\n",
              "      height: 32px;\n",
              "      padding: 0 0 0 0;\n",
              "      width: 32px;\n",
              "    }\n",
              "\n",
              "    .colab-df-convert:hover {\n",
              "      background-color: #E2EBFA;\n",
              "      box-shadow: 0px 1px 2px rgba(60, 64, 67, 0.3), 0px 1px 3px 1px rgba(60, 64, 67, 0.15);\n",
              "      fill: #174EA6;\n",
              "    }\n",
              "\n",
              "    [theme=dark] .colab-df-convert {\n",
              "      background-color: #3B4455;\n",
              "      fill: #D2E3FC;\n",
              "    }\n",
              "\n",
              "    [theme=dark] .colab-df-convert:hover {\n",
              "      background-color: #434B5C;\n",
              "      box-shadow: 0px 1px 3px 1px rgba(0, 0, 0, 0.15);\n",
              "      filter: drop-shadow(0px 1px 2px rgba(0, 0, 0, 0.3));\n",
              "      fill: #FFFFFF;\n",
              "    }\n",
              "  </style>\n",
              "\n",
              "      <script>\n",
              "        const buttonEl =\n",
              "          document.querySelector('#df-e683d39b-735c-4cfa-9a2f-4c01b1dc3acf button.colab-df-convert');\n",
              "        buttonEl.style.display =\n",
              "          google.colab.kernel.accessAllowed ? 'block' : 'none';\n",
              "\n",
              "        async function convertToInteractive(key) {\n",
              "          const element = document.querySelector('#df-e683d39b-735c-4cfa-9a2f-4c01b1dc3acf');\n",
              "          const dataTable =\n",
              "            await google.colab.kernel.invokeFunction('convertToInteractive',\n",
              "                                                     [key], {});\n",
              "          if (!dataTable) return;\n",
              "\n",
              "          const docLinkHtml = 'Like what you see? Visit the ' +\n",
              "            '<a target=\"_blank\" href=https://colab.research.google.com/notebooks/data_table.ipynb>data table notebook</a>'\n",
              "            + ' to learn more about interactive tables.';\n",
              "          element.innerHTML = '';\n",
              "          dataTable['output_type'] = 'display_data';\n",
              "          await google.colab.output.renderOutput(dataTable, element);\n",
              "          const docLink = document.createElement('div');\n",
              "          docLink.innerHTML = docLinkHtml;\n",
              "          element.appendChild(docLink);\n",
              "        }\n",
              "      </script>\n",
              "    </div>\n",
              "  </div>\n",
              "  "
            ]
          },
          "metadata": {},
          "execution_count": 4
        }
      ]
    },
    {
      "cell_type": "code",
      "source": [
        "# Creating X and Y values\n",
        "X = insurance_one_hot.drop('charges', axis = 1)\n",
        "y = insurance_one_hot['charges']"
      ],
      "metadata": {
        "id": "CeaP4o0CZrpp"
      },
      "execution_count": 5,
      "outputs": []
    },
    {
      "cell_type": "code",
      "source": [
        "# Check X\n",
        "X"
      ],
      "metadata": {
        "colab": {
          "base_uri": "https://localhost:8080/",
          "height": 424
        },
        "id": "3agU2mAgZrya",
        "outputId": "0bdfdd64-e0ce-4c40-a69f-f2229ed422d5"
      },
      "execution_count": 6,
      "outputs": [
        {
          "output_type": "execute_result",
          "data": {
            "text/plain": [
              "      age     bmi  children  sex_female  sex_male  smoker_no  smoker_yes  \\\n",
              "0      19  27.900         0           1         0          0           1   \n",
              "1      18  33.770         1           0         1          1           0   \n",
              "2      28  33.000         3           0         1          1           0   \n",
              "3      33  22.705         0           0         1          1           0   \n",
              "4      32  28.880         0           0         1          1           0   \n",
              "...   ...     ...       ...         ...       ...        ...         ...   \n",
              "1333   50  30.970         3           0         1          1           0   \n",
              "1334   18  31.920         0           1         0          1           0   \n",
              "1335   18  36.850         0           1         0          1           0   \n",
              "1336   21  25.800         0           1         0          1           0   \n",
              "1337   61  29.070         0           1         0          0           1   \n",
              "\n",
              "      region_northeast  region_northwest  region_southeast  region_southwest  \n",
              "0                    0                 0                 0                 1  \n",
              "1                    0                 0                 1                 0  \n",
              "2                    0                 0                 1                 0  \n",
              "3                    0                 1                 0                 0  \n",
              "4                    0                 1                 0                 0  \n",
              "...                ...               ...               ...               ...  \n",
              "1333                 0                 1                 0                 0  \n",
              "1334                 1                 0                 0                 0  \n",
              "1335                 0                 0                 1                 0  \n",
              "1336                 0                 0                 0                 1  \n",
              "1337                 0                 1                 0                 0  \n",
              "\n",
              "[1338 rows x 11 columns]"
            ],
            "text/html": [
              "\n",
              "  <div id=\"df-7a08b459-cdcc-4764-abef-2a1f6334feb8\">\n",
              "    <div class=\"colab-df-container\">\n",
              "      <div>\n",
              "<style scoped>\n",
              "    .dataframe tbody tr th:only-of-type {\n",
              "        vertical-align: middle;\n",
              "    }\n",
              "\n",
              "    .dataframe tbody tr th {\n",
              "        vertical-align: top;\n",
              "    }\n",
              "\n",
              "    .dataframe thead th {\n",
              "        text-align: right;\n",
              "    }\n",
              "</style>\n",
              "<table border=\"1\" class=\"dataframe\">\n",
              "  <thead>\n",
              "    <tr style=\"text-align: right;\">\n",
              "      <th></th>\n",
              "      <th>age</th>\n",
              "      <th>bmi</th>\n",
              "      <th>children</th>\n",
              "      <th>sex_female</th>\n",
              "      <th>sex_male</th>\n",
              "      <th>smoker_no</th>\n",
              "      <th>smoker_yes</th>\n",
              "      <th>region_northeast</th>\n",
              "      <th>region_northwest</th>\n",
              "      <th>region_southeast</th>\n",
              "      <th>region_southwest</th>\n",
              "    </tr>\n",
              "  </thead>\n",
              "  <tbody>\n",
              "    <tr>\n",
              "      <th>0</th>\n",
              "      <td>19</td>\n",
              "      <td>27.900</td>\n",
              "      <td>0</td>\n",
              "      <td>1</td>\n",
              "      <td>0</td>\n",
              "      <td>0</td>\n",
              "      <td>1</td>\n",
              "      <td>0</td>\n",
              "      <td>0</td>\n",
              "      <td>0</td>\n",
              "      <td>1</td>\n",
              "    </tr>\n",
              "    <tr>\n",
              "      <th>1</th>\n",
              "      <td>18</td>\n",
              "      <td>33.770</td>\n",
              "      <td>1</td>\n",
              "      <td>0</td>\n",
              "      <td>1</td>\n",
              "      <td>1</td>\n",
              "      <td>0</td>\n",
              "      <td>0</td>\n",
              "      <td>0</td>\n",
              "      <td>1</td>\n",
              "      <td>0</td>\n",
              "    </tr>\n",
              "    <tr>\n",
              "      <th>2</th>\n",
              "      <td>28</td>\n",
              "      <td>33.000</td>\n",
              "      <td>3</td>\n",
              "      <td>0</td>\n",
              "      <td>1</td>\n",
              "      <td>1</td>\n",
              "      <td>0</td>\n",
              "      <td>0</td>\n",
              "      <td>0</td>\n",
              "      <td>1</td>\n",
              "      <td>0</td>\n",
              "    </tr>\n",
              "    <tr>\n",
              "      <th>3</th>\n",
              "      <td>33</td>\n",
              "      <td>22.705</td>\n",
              "      <td>0</td>\n",
              "      <td>0</td>\n",
              "      <td>1</td>\n",
              "      <td>1</td>\n",
              "      <td>0</td>\n",
              "      <td>0</td>\n",
              "      <td>1</td>\n",
              "      <td>0</td>\n",
              "      <td>0</td>\n",
              "    </tr>\n",
              "    <tr>\n",
              "      <th>4</th>\n",
              "      <td>32</td>\n",
              "      <td>28.880</td>\n",
              "      <td>0</td>\n",
              "      <td>0</td>\n",
              "      <td>1</td>\n",
              "      <td>1</td>\n",
              "      <td>0</td>\n",
              "      <td>0</td>\n",
              "      <td>1</td>\n",
              "      <td>0</td>\n",
              "      <td>0</td>\n",
              "    </tr>\n",
              "    <tr>\n",
              "      <th>...</th>\n",
              "      <td>...</td>\n",
              "      <td>...</td>\n",
              "      <td>...</td>\n",
              "      <td>...</td>\n",
              "      <td>...</td>\n",
              "      <td>...</td>\n",
              "      <td>...</td>\n",
              "      <td>...</td>\n",
              "      <td>...</td>\n",
              "      <td>...</td>\n",
              "      <td>...</td>\n",
              "    </tr>\n",
              "    <tr>\n",
              "      <th>1333</th>\n",
              "      <td>50</td>\n",
              "      <td>30.970</td>\n",
              "      <td>3</td>\n",
              "      <td>0</td>\n",
              "      <td>1</td>\n",
              "      <td>1</td>\n",
              "      <td>0</td>\n",
              "      <td>0</td>\n",
              "      <td>1</td>\n",
              "      <td>0</td>\n",
              "      <td>0</td>\n",
              "    </tr>\n",
              "    <tr>\n",
              "      <th>1334</th>\n",
              "      <td>18</td>\n",
              "      <td>31.920</td>\n",
              "      <td>0</td>\n",
              "      <td>1</td>\n",
              "      <td>0</td>\n",
              "      <td>1</td>\n",
              "      <td>0</td>\n",
              "      <td>1</td>\n",
              "      <td>0</td>\n",
              "      <td>0</td>\n",
              "      <td>0</td>\n",
              "    </tr>\n",
              "    <tr>\n",
              "      <th>1335</th>\n",
              "      <td>18</td>\n",
              "      <td>36.850</td>\n",
              "      <td>0</td>\n",
              "      <td>1</td>\n",
              "      <td>0</td>\n",
              "      <td>1</td>\n",
              "      <td>0</td>\n",
              "      <td>0</td>\n",
              "      <td>0</td>\n",
              "      <td>1</td>\n",
              "      <td>0</td>\n",
              "    </tr>\n",
              "    <tr>\n",
              "      <th>1336</th>\n",
              "      <td>21</td>\n",
              "      <td>25.800</td>\n",
              "      <td>0</td>\n",
              "      <td>1</td>\n",
              "      <td>0</td>\n",
              "      <td>1</td>\n",
              "      <td>0</td>\n",
              "      <td>0</td>\n",
              "      <td>0</td>\n",
              "      <td>0</td>\n",
              "      <td>1</td>\n",
              "    </tr>\n",
              "    <tr>\n",
              "      <th>1337</th>\n",
              "      <td>61</td>\n",
              "      <td>29.070</td>\n",
              "      <td>0</td>\n",
              "      <td>1</td>\n",
              "      <td>0</td>\n",
              "      <td>0</td>\n",
              "      <td>1</td>\n",
              "      <td>0</td>\n",
              "      <td>1</td>\n",
              "      <td>0</td>\n",
              "      <td>0</td>\n",
              "    </tr>\n",
              "  </tbody>\n",
              "</table>\n",
              "<p>1338 rows × 11 columns</p>\n",
              "</div>\n",
              "      <button class=\"colab-df-convert\" onclick=\"convertToInteractive('df-7a08b459-cdcc-4764-abef-2a1f6334feb8')\"\n",
              "              title=\"Convert this dataframe to an interactive table.\"\n",
              "              style=\"display:none;\">\n",
              "        \n",
              "  <svg xmlns=\"http://www.w3.org/2000/svg\" height=\"24px\"viewBox=\"0 0 24 24\"\n",
              "       width=\"24px\">\n",
              "    <path d=\"M0 0h24v24H0V0z\" fill=\"none\"/>\n",
              "    <path d=\"M18.56 5.44l.94 2.06.94-2.06 2.06-.94-2.06-.94-.94-2.06-.94 2.06-2.06.94zm-11 1L8.5 8.5l.94-2.06 2.06-.94-2.06-.94L8.5 2.5l-.94 2.06-2.06.94zm10 10l.94 2.06.94-2.06 2.06-.94-2.06-.94-.94-2.06-.94 2.06-2.06.94z\"/><path d=\"M17.41 7.96l-1.37-1.37c-.4-.4-.92-.59-1.43-.59-.52 0-1.04.2-1.43.59L10.3 9.45l-7.72 7.72c-.78.78-.78 2.05 0 2.83L4 21.41c.39.39.9.59 1.41.59.51 0 1.02-.2 1.41-.59l7.78-7.78 2.81-2.81c.8-.78.8-2.07 0-2.86zM5.41 20L4 18.59l7.72-7.72 1.47 1.35L5.41 20z\"/>\n",
              "  </svg>\n",
              "      </button>\n",
              "      \n",
              "  <style>\n",
              "    .colab-df-container {\n",
              "      display:flex;\n",
              "      flex-wrap:wrap;\n",
              "      gap: 12px;\n",
              "    }\n",
              "\n",
              "    .colab-df-convert {\n",
              "      background-color: #E8F0FE;\n",
              "      border: none;\n",
              "      border-radius: 50%;\n",
              "      cursor: pointer;\n",
              "      display: none;\n",
              "      fill: #1967D2;\n",
              "      height: 32px;\n",
              "      padding: 0 0 0 0;\n",
              "      width: 32px;\n",
              "    }\n",
              "\n",
              "    .colab-df-convert:hover {\n",
              "      background-color: #E2EBFA;\n",
              "      box-shadow: 0px 1px 2px rgba(60, 64, 67, 0.3), 0px 1px 3px 1px rgba(60, 64, 67, 0.15);\n",
              "      fill: #174EA6;\n",
              "    }\n",
              "\n",
              "    [theme=dark] .colab-df-convert {\n",
              "      background-color: #3B4455;\n",
              "      fill: #D2E3FC;\n",
              "    }\n",
              "\n",
              "    [theme=dark] .colab-df-convert:hover {\n",
              "      background-color: #434B5C;\n",
              "      box-shadow: 0px 1px 3px 1px rgba(0, 0, 0, 0.15);\n",
              "      filter: drop-shadow(0px 1px 2px rgba(0, 0, 0, 0.3));\n",
              "      fill: #FFFFFF;\n",
              "    }\n",
              "  </style>\n",
              "\n",
              "      <script>\n",
              "        const buttonEl =\n",
              "          document.querySelector('#df-7a08b459-cdcc-4764-abef-2a1f6334feb8 button.colab-df-convert');\n",
              "        buttonEl.style.display =\n",
              "          google.colab.kernel.accessAllowed ? 'block' : 'none';\n",
              "\n",
              "        async function convertToInteractive(key) {\n",
              "          const element = document.querySelector('#df-7a08b459-cdcc-4764-abef-2a1f6334feb8');\n",
              "          const dataTable =\n",
              "            await google.colab.kernel.invokeFunction('convertToInteractive',\n",
              "                                                     [key], {});\n",
              "          if (!dataTable) return;\n",
              "\n",
              "          const docLinkHtml = 'Like what you see? Visit the ' +\n",
              "            '<a target=\"_blank\" href=https://colab.research.google.com/notebooks/data_table.ipynb>data table notebook</a>'\n",
              "            + ' to learn more about interactive tables.';\n",
              "          element.innerHTML = '';\n",
              "          dataTable['output_type'] = 'display_data';\n",
              "          await google.colab.output.renderOutput(dataTable, element);\n",
              "          const docLink = document.createElement('div');\n",
              "          docLink.innerHTML = docLinkHtml;\n",
              "          element.appendChild(docLink);\n",
              "        }\n",
              "      </script>\n",
              "    </div>\n",
              "  </div>\n",
              "  "
            ]
          },
          "metadata": {},
          "execution_count": 6
        }
      ]
    },
    {
      "cell_type": "code",
      "source": [
        "# Check Y\n",
        "y"
      ],
      "metadata": {
        "colab": {
          "base_uri": "https://localhost:8080/"
        },
        "id": "989C5GiwZsJy",
        "outputId": "5b2fb212-9816-475f-93e5-c391b30382c5"
      },
      "execution_count": 7,
      "outputs": [
        {
          "output_type": "execute_result",
          "data": {
            "text/plain": [
              "0       16884.92400\n",
              "1        1725.55230\n",
              "2        4449.46200\n",
              "3       21984.47061\n",
              "4        3866.85520\n",
              "           ...     \n",
              "1333    10600.54830\n",
              "1334     2205.98080\n",
              "1335     1629.83350\n",
              "1336     2007.94500\n",
              "1337    29141.36030\n",
              "Name: charges, Length: 1338, dtype: float64"
            ]
          },
          "metadata": {},
          "execution_count": 7
        }
      ]
    },
    {
      "cell_type": "code",
      "source": [
        "# Split the training and testing data\n",
        "from sklearn.model_selection import train_test_split\n",
        "X_train, X_test, y_train, y_test = train_test_split(X, y, test_size = 0.2, random_state = 42)"
      ],
      "metadata": {
        "id": "fAxAsxKrZsNY"
      },
      "execution_count": 8,
      "outputs": []
    },
    {
      "cell_type": "code",
      "source": [
        "# Check the split for X\n",
        "len(X), len(X_train), len(X_test)"
      ],
      "metadata": {
        "colab": {
          "base_uri": "https://localhost:8080/"
        },
        "id": "IDZlu3A4ZsQs",
        "outputId": "028dfd8c-43f7-4721-a14e-d8d8203c7cd3"
      },
      "execution_count": 9,
      "outputs": [
        {
          "output_type": "execute_result",
          "data": {
            "text/plain": [
              "(1338, 1070, 268)"
            ]
          },
          "metadata": {},
          "execution_count": 9
        }
      ]
    },
    {
      "cell_type": "code",
      "source": [
        "# Check the split for Y\n",
        "len(y), len(y_train), len(y_test)"
      ],
      "metadata": {
        "colab": {
          "base_uri": "https://localhost:8080/"
        },
        "id": "1b43tH9yZsT9",
        "outputId": "7f3d2ad7-b96f-4766-9672-c19ec1ea2243"
      },
      "execution_count": 10,
      "outputs": [
        {
          "output_type": "execute_result",
          "data": {
            "text/plain": [
              "(1338, 1070, 268)"
            ]
          },
          "metadata": {},
          "execution_count": 10
        }
      ]
    },
    {
      "cell_type": "code",
      "source": [
        "# Build the neural network\n",
        "tf.random.set_seed(42)\n",
        "\n",
        "insurance_model1 = tf.keras.Sequential([\n",
        "    tf.keras.layers.Dense(10),\n",
        "    tf.keras.layers.Dense(1),\n",
        "])\n",
        "\n",
        "insurance_model1.compile(\n",
        "    loss = tf.keras.losses.mae,\n",
        "    optimizer = tf.keras.optimizers.Adam(),\n",
        "    metrics = ['mae']\n",
        ")\n",
        "\n",
        "insurance_model1.fit(tf.expand_dims(X_train, axis = -1), y_train, epochs = 100)"
      ],
      "metadata": {
        "colab": {
          "base_uri": "https://localhost:8080/"
        },
        "id": "WNJH6TTbZsXQ",
        "outputId": "2450f98f-4a5a-40ce-d722-a50e4ee85b70"
      },
      "execution_count": 11,
      "outputs": [
        {
          "output_type": "stream",
          "name": "stdout",
          "text": [
            "Epoch 1/100\n",
            "34/34 [==============================] - 1s 2ms/step - loss: 13342.7617 - mae: 13342.7617\n",
            "Epoch 2/100\n",
            "34/34 [==============================] - 0s 2ms/step - loss: 13340.9502 - mae: 13340.9502\n",
            "Epoch 3/100\n",
            "34/34 [==============================] - 0s 2ms/step - loss: 13338.9932 - mae: 13338.9932\n",
            "Epoch 4/100\n",
            "34/34 [==============================] - 0s 2ms/step - loss: 13336.8438 - mae: 13336.8438\n",
            "Epoch 5/100\n",
            "34/34 [==============================] - 0s 2ms/step - loss: 13334.4639 - mae: 13334.4639\n",
            "Epoch 6/100\n",
            "34/34 [==============================] - 0s 3ms/step - loss: 13331.8008 - mae: 13331.8008\n",
            "Epoch 7/100\n",
            "34/34 [==============================] - 0s 2ms/step - loss: 13328.8477 - mae: 13328.8477\n",
            "Epoch 8/100\n",
            "34/34 [==============================] - 0s 2ms/step - loss: 13325.5811 - mae: 13325.5811\n",
            "Epoch 9/100\n",
            "34/34 [==============================] - 0s 2ms/step - loss: 13321.9756 - mae: 13321.9756\n",
            "Epoch 10/100\n",
            "34/34 [==============================] - 0s 2ms/step - loss: 13318.0225 - mae: 13318.0225\n",
            "Epoch 11/100\n",
            "34/34 [==============================] - 0s 2ms/step - loss: 13313.6963 - mae: 13313.6963\n",
            "Epoch 12/100\n",
            "34/34 [==============================] - 0s 2ms/step - loss: 13308.9893 - mae: 13308.9893\n",
            "Epoch 13/100\n",
            "34/34 [==============================] - 0s 2ms/step - loss: 13303.9014 - mae: 13303.9014\n",
            "Epoch 14/100\n",
            "34/34 [==============================] - 0s 2ms/step - loss: 13298.4043 - mae: 13298.4043\n",
            "Epoch 15/100\n",
            "34/34 [==============================] - 0s 2ms/step - loss: 13292.5264 - mae: 13292.5264\n",
            "Epoch 16/100\n",
            "34/34 [==============================] - 0s 2ms/step - loss: 13286.2119 - mae: 13286.2119\n",
            "Epoch 17/100\n",
            "34/34 [==============================] - 0s 2ms/step - loss: 13279.5029 - mae: 13279.5029\n",
            "Epoch 18/100\n",
            "34/34 [==============================] - 0s 2ms/step - loss: 13272.3604 - mae: 13272.3604\n",
            "Epoch 19/100\n",
            "34/34 [==============================] - 0s 2ms/step - loss: 13264.7910 - mae: 13264.7910\n",
            "Epoch 20/100\n",
            "34/34 [==============================] - 0s 4ms/step - loss: 13256.8018 - mae: 13256.8018\n",
            "Epoch 21/100\n",
            "34/34 [==============================] - 0s 2ms/step - loss: 13248.3857 - mae: 13248.3857\n",
            "Epoch 22/100\n",
            "34/34 [==============================] - 0s 2ms/step - loss: 13239.5410 - mae: 13239.5410\n",
            "Epoch 23/100\n",
            "34/34 [==============================] - 0s 2ms/step - loss: 13230.2686 - mae: 13230.2686\n",
            "Epoch 24/100\n",
            "34/34 [==============================] - 0s 2ms/step - loss: 13220.5479 - mae: 13220.5479\n",
            "Epoch 25/100\n",
            "34/34 [==============================] - 0s 2ms/step - loss: 13210.4150 - mae: 13210.4150\n",
            "Epoch 26/100\n",
            "34/34 [==============================] - 0s 2ms/step - loss: 13199.8252 - mae: 13199.8252\n",
            "Epoch 27/100\n",
            "34/34 [==============================] - 0s 2ms/step - loss: 13188.8379 - mae: 13188.8379\n",
            "Epoch 28/100\n",
            "34/34 [==============================] - 0s 2ms/step - loss: 13177.4551 - mae: 13177.4551\n",
            "Epoch 29/100\n",
            "34/34 [==============================] - 0s 2ms/step - loss: 13165.6660 - mae: 13165.6660\n",
            "Epoch 30/100\n",
            "34/34 [==============================] - 0s 2ms/step - loss: 13153.4951 - mae: 13153.4951\n",
            "Epoch 31/100\n",
            "34/34 [==============================] - 0s 2ms/step - loss: 13140.9268 - mae: 13140.9268\n",
            "Epoch 32/100\n",
            "34/34 [==============================] - 0s 2ms/step - loss: 13127.9883 - mae: 13127.9883\n",
            "Epoch 33/100\n",
            "34/34 [==============================] - 0s 2ms/step - loss: 13114.6504 - mae: 13114.6504\n",
            "Epoch 34/100\n",
            "34/34 [==============================] - 0s 2ms/step - loss: 13101.0264 - mae: 13101.0264\n",
            "Epoch 35/100\n",
            "34/34 [==============================] - 0s 2ms/step - loss: 13087.0273 - mae: 13087.0273\n",
            "Epoch 36/100\n",
            "34/34 [==============================] - 0s 2ms/step - loss: 13072.7412 - mae: 13072.7412\n",
            "Epoch 37/100\n",
            "34/34 [==============================] - 0s 2ms/step - loss: 13058.1416 - mae: 13058.1416\n",
            "Epoch 38/100\n",
            "34/34 [==============================] - 0s 2ms/step - loss: 13043.1992 - mae: 13043.1992\n",
            "Epoch 39/100\n",
            "34/34 [==============================] - 0s 2ms/step - loss: 13027.9307 - mae: 13027.9307\n",
            "Epoch 40/100\n",
            "34/34 [==============================] - 0s 2ms/step - loss: 13012.4287 - mae: 13012.4287\n",
            "Epoch 41/100\n",
            "34/34 [==============================] - 0s 2ms/step - loss: 12996.7148 - mae: 12996.7148\n",
            "Epoch 42/100\n",
            "34/34 [==============================] - 0s 2ms/step - loss: 12980.6445 - mae: 12980.6445\n",
            "Epoch 43/100\n",
            "34/34 [==============================] - 0s 2ms/step - loss: 12964.3799 - mae: 12964.3799\n",
            "Epoch 44/100\n",
            "34/34 [==============================] - 0s 2ms/step - loss: 12947.8623 - mae: 12947.8623\n",
            "Epoch 45/100\n",
            "34/34 [==============================] - 0s 2ms/step - loss: 12931.1729 - mae: 12931.1729\n",
            "Epoch 46/100\n",
            "34/34 [==============================] - 0s 2ms/step - loss: 12914.2002 - mae: 12914.2002\n",
            "Epoch 47/100\n",
            "34/34 [==============================] - 0s 2ms/step - loss: 12897.2090 - mae: 12897.2090\n",
            "Epoch 48/100\n",
            "34/34 [==============================] - 0s 2ms/step - loss: 12880.0693 - mae: 12880.0693\n",
            "Epoch 49/100\n",
            "34/34 [==============================] - 0s 2ms/step - loss: 12862.8975 - mae: 12862.8975\n",
            "Epoch 50/100\n",
            "34/34 [==============================] - 0s 2ms/step - loss: 12845.5889 - mae: 12845.5889\n",
            "Epoch 51/100\n",
            "34/34 [==============================] - 0s 2ms/step - loss: 12828.1250 - mae: 12828.1250\n",
            "Epoch 52/100\n",
            "34/34 [==============================] - 0s 4ms/step - loss: 12810.5801 - mae: 12810.5801\n",
            "Epoch 53/100\n",
            "34/34 [==============================] - 0s 4ms/step - loss: 12793.0146 - mae: 12793.0146\n",
            "Epoch 54/100\n",
            "34/34 [==============================] - 0s 3ms/step - loss: 12775.2930 - mae: 12775.2930\n",
            "Epoch 55/100\n",
            "34/34 [==============================] - 0s 4ms/step - loss: 12757.5312 - mae: 12757.5312\n",
            "Epoch 56/100\n",
            "34/34 [==============================] - 0s 4ms/step - loss: 12739.7109 - mae: 12739.7109\n",
            "Epoch 57/100\n",
            "34/34 [==============================] - 0s 3ms/step - loss: 12721.7695 - mae: 12721.7695\n",
            "Epoch 58/100\n",
            "34/34 [==============================] - 0s 3ms/step - loss: 12703.8154 - mae: 12703.8154\n",
            "Epoch 59/100\n",
            "34/34 [==============================] - 0s 3ms/step - loss: 12685.9512 - mae: 12685.9512\n",
            "Epoch 60/100\n",
            "34/34 [==============================] - 0s 2ms/step - loss: 12668.3848 - mae: 12668.3848\n",
            "Epoch 61/100\n",
            "34/34 [==============================] - 0s 3ms/step - loss: 12650.7402 - mae: 12650.7402\n",
            "Epoch 62/100\n",
            "34/34 [==============================] - 0s 2ms/step - loss: 12633.2744 - mae: 12633.2744\n",
            "Epoch 63/100\n",
            "34/34 [==============================] - 0s 3ms/step - loss: 12615.8975 - mae: 12615.8975\n",
            "Epoch 64/100\n",
            "34/34 [==============================] - 0s 5ms/step - loss: 12598.4834 - mae: 12598.4834\n",
            "Epoch 65/100\n",
            "34/34 [==============================] - 0s 4ms/step - loss: 12581.0742 - mae: 12581.0742\n",
            "Epoch 66/100\n",
            "34/34 [==============================] - 0s 5ms/step - loss: 12563.4609 - mae: 12563.4609\n",
            "Epoch 67/100\n",
            "34/34 [==============================] - 0s 5ms/step - loss: 12545.9014 - mae: 12545.9014\n",
            "Epoch 68/100\n",
            "34/34 [==============================] - 0s 3ms/step - loss: 12528.4258 - mae: 12528.4258\n",
            "Epoch 69/100\n",
            "34/34 [==============================] - 0s 3ms/step - loss: 12510.9873 - mae: 12510.9873\n",
            "Epoch 70/100\n",
            "34/34 [==============================] - 0s 4ms/step - loss: 12493.6729 - mae: 12493.6729\n",
            "Epoch 71/100\n",
            "34/34 [==============================] - 0s 4ms/step - loss: 12476.6182 - mae: 12476.6182\n",
            "Epoch 72/100\n",
            "34/34 [==============================] - 0s 3ms/step - loss: 12459.6875 - mae: 12459.6875\n",
            "Epoch 73/100\n",
            "34/34 [==============================] - 0s 3ms/step - loss: 12443.0479 - mae: 12443.0479\n",
            "Epoch 74/100\n",
            "34/34 [==============================] - 0s 4ms/step - loss: 12426.4092 - mae: 12426.4092\n",
            "Epoch 75/100\n",
            "34/34 [==============================] - 0s 3ms/step - loss: 12410.2891 - mae: 12410.2891\n",
            "Epoch 76/100\n",
            "34/34 [==============================] - 0s 3ms/step - loss: 12394.2246 - mae: 12394.2246\n",
            "Epoch 77/100\n",
            "34/34 [==============================] - 0s 3ms/step - loss: 12378.5195 - mae: 12378.5195\n",
            "Epoch 78/100\n",
            "34/34 [==============================] - 0s 3ms/step - loss: 12362.9346 - mae: 12362.9346\n",
            "Epoch 79/100\n",
            "34/34 [==============================] - 0s 3ms/step - loss: 12347.8262 - mae: 12347.8262\n",
            "Epoch 80/100\n",
            "34/34 [==============================] - 0s 3ms/step - loss: 12332.9971 - mae: 12332.9971\n",
            "Epoch 81/100\n",
            "34/34 [==============================] - 0s 3ms/step - loss: 12318.5547 - mae: 12318.5547\n",
            "Epoch 82/100\n",
            "34/34 [==============================] - 0s 2ms/step - loss: 12304.5527 - mae: 12304.5527\n",
            "Epoch 83/100\n",
            "34/34 [==============================] - 0s 3ms/step - loss: 12290.6689 - mae: 12290.6689\n",
            "Epoch 84/100\n",
            "34/34 [==============================] - 0s 3ms/step - loss: 12277.2812 - mae: 12277.2812\n",
            "Epoch 85/100\n",
            "34/34 [==============================] - 0s 4ms/step - loss: 12264.1992 - mae: 12264.1992\n",
            "Epoch 86/100\n",
            "34/34 [==============================] - 0s 3ms/step - loss: 12251.6777 - mae: 12251.6777\n",
            "Epoch 87/100\n",
            "34/34 [==============================] - 0s 3ms/step - loss: 12239.5693 - mae: 12239.5693\n",
            "Epoch 88/100\n",
            "34/34 [==============================] - 0s 2ms/step - loss: 12227.9258 - mae: 12227.9258\n",
            "Epoch 89/100\n",
            "34/34 [==============================] - 0s 5ms/step - loss: 12216.8730 - mae: 12216.8730\n",
            "Epoch 90/100\n",
            "34/34 [==============================] - 0s 5ms/step - loss: 12206.3584 - mae: 12206.3584\n",
            "Epoch 91/100\n",
            "34/34 [==============================] - 0s 4ms/step - loss: 12196.0098 - mae: 12196.0098\n",
            "Epoch 92/100\n",
            "34/34 [==============================] - 0s 3ms/step - loss: 12186.1533 - mae: 12186.1533\n",
            "Epoch 93/100\n",
            "34/34 [==============================] - 0s 2ms/step - loss: 12176.8916 - mae: 12176.8916\n",
            "Epoch 94/100\n",
            "34/34 [==============================] - 0s 3ms/step - loss: 12168.2012 - mae: 12168.2012\n",
            "Epoch 95/100\n",
            "34/34 [==============================] - 0s 5ms/step - loss: 12160.0205 - mae: 12160.0205\n",
            "Epoch 96/100\n",
            "34/34 [==============================] - 0s 4ms/step - loss: 12152.2363 - mae: 12152.2363\n",
            "Epoch 97/100\n",
            "34/34 [==============================] - 0s 3ms/step - loss: 12145.1162 - mae: 12145.1162\n",
            "Epoch 98/100\n",
            "34/34 [==============================] - 0s 3ms/step - loss: 12138.5312 - mae: 12138.5312\n",
            "Epoch 99/100\n",
            "34/34 [==============================] - 0s 6ms/step - loss: 12132.3447 - mae: 12132.3447\n",
            "Epoch 100/100\n",
            "34/34 [==============================] - 0s 4ms/step - loss: 12126.7637 - mae: 12126.7637\n"
          ]
        },
        {
          "output_type": "execute_result",
          "data": {
            "text/plain": [
              "<keras.callbacks.History at 0x7f99f555a310>"
            ]
          },
          "metadata": {},
          "execution_count": 11
        }
      ]
    },
    {
      "cell_type": "code",
      "source": [
        "# lets evaluate the model\n",
        "insurance_model1.evaluate(X_test, y_test)"
      ],
      "metadata": {
        "colab": {
          "base_uri": "https://localhost:8080/"
        },
        "id": "8JbIL8IrZsaN",
        "outputId": "8a6f78f0-0c07-4490-85af-cedad7c1cb76"
      },
      "execution_count": 12,
      "outputs": [
        {
          "output_type": "stream",
          "name": "stdout",
          "text": [
            "9/9 [==============================] - 0s 2ms/step - loss: 11807.0781 - mae: 11807.0781\n"
          ]
        },
        {
          "output_type": "execute_result",
          "data": {
            "text/plain": [
              "[11807.078125, 11807.078125]"
            ]
          },
          "metadata": {},
          "execution_count": 12
        }
      ]
    },
    {
      "cell_type": "code",
      "source": [
        "# try to make your analysis \n",
        "y_train.median(), y_train.mean()\n",
        "\n",
        "# result shows our model is significantly wrong, lets improve it"
      ],
      "metadata": {
        "colab": {
          "base_uri": "https://localhost:8080/"
        },
        "id": "vKHze4yLZsdm",
        "outputId": "a2862327-8087-4307-a06f-e1cb37f38954"
      },
      "execution_count": 48,
      "outputs": [
        {
          "output_type": "execute_result",
          "data": {
            "text/plain": [
              "(9575.4421, 13346.089736364485)"
            ]
          },
          "metadata": {},
          "execution_count": 48
        }
      ]
    },
    {
      "cell_type": "code",
      "source": [
        "tf.random.set_seed(42)\n",
        "\n",
        "insurance_model2 = tf.keras.Sequential([ \n",
        "    tf.keras.layers.Dense(10), \n",
        "    tf.keras.layers.Dense(10),\n",
        "    tf.keras.layers.Dense(1), \n",
        "])\n",
        "\n",
        "insurance_model2.compile( \n",
        "    loss = tf.keras.losses.mae, \n",
        "    optimizer = tf.keras.optimizers.Adam(), \n",
        "    metrics = ['mae'] \n",
        ")\n",
        "\n",
        "insurance_model2.fit(tf.expand_dims(X_train, axis = -1), y_train, epochs = 200, verbose = 0)"
      ],
      "metadata": {
        "colab": {
          "base_uri": "https://localhost:8080/"
        },
        "id": "EFfaXv6Q02Oa",
        "outputId": "a731c938-6192-444a-9597-c1be4f97856a"
      },
      "execution_count": 14,
      "outputs": [
        {
          "output_type": "execute_result",
          "data": {
            "text/plain": [
              "<keras.callbacks.History at 0x7f99f5448310>"
            ]
          },
          "metadata": {},
          "execution_count": 14
        }
      ]
    },
    {
      "cell_type": "code",
      "source": [
        "insurance_model2.evaluate(X_test, y_test)"
      ],
      "metadata": {
        "colab": {
          "base_uri": "https://localhost:8080/"
        },
        "id": "hl8CzoJamP_f",
        "outputId": "6d08d599-1e37-4ee3-d33f-6d8334c1bf88"
      },
      "execution_count": 15,
      "outputs": [
        {
          "output_type": "stream",
          "name": "stdout",
          "text": [
            "9/9 [==============================] - 0s 2ms/step - loss: 8628.6992 - mae: 8628.6992\n"
          ]
        },
        {
          "output_type": "execute_result",
          "data": {
            "text/plain": [
              "[8628.69921875, 8628.69921875]"
            ]
          },
          "metadata": {},
          "execution_count": 15
        }
      ]
    },
    {
      "cell_type": "code",
      "source": [
        "tf.random.set_seed(42)\n",
        "\n",
        "insurance_model3 = tf.keras.Sequential([ \n",
        "    tf.keras.layers.Dense(100), \n",
        "    tf.keras.layers.Dense(100), \n",
        "    tf.keras.layers.Dense(10),\n",
        "    tf.keras.layers.Dense(1), \n",
        "])\n",
        "\n",
        "insurance_model3.compile( \n",
        "    loss = tf.keras.losses.mae, \n",
        "    optimizer = tf.keras.optimizers.Adam(), \n",
        "    metrics = ['mae'] \n",
        ")\n",
        "\n",
        "history = insurance_model3.fit(tf.expand_dims(X_train, axis = -1), y_train, epochs = 300, verbose = 0)"
      ],
      "metadata": {
        "id": "ZHGcSO1EmQHd"
      },
      "execution_count": 16,
      "outputs": []
    },
    {
      "cell_type": "code",
      "source": [
        "insurance_model3.evaluate(X_test, y_test)"
      ],
      "metadata": {
        "colab": {
          "base_uri": "https://localhost:8080/"
        },
        "id": "dVKLKl_OmQPt",
        "outputId": "9817be53-cff2-4d0d-af02-7782ad9b5db1"
      },
      "execution_count": 17,
      "outputs": [
        {
          "output_type": "stream",
          "name": "stdout",
          "text": [
            "9/9 [==============================] - 0s 3ms/step - loss: 8633.2695 - mae: 8633.2695\n"
          ]
        },
        {
          "output_type": "execute_result",
          "data": {
            "text/plain": [
              "[8633.26953125, 8633.26953125]"
            ]
          },
          "metadata": {},
          "execution_count": 17
        }
      ]
    },
    {
      "cell_type": "code",
      "source": [
        "pd.DataFrame(history.history).plot()\n",
        "plt.ylabel('loss')\n",
        "plt.xlabel('epochs')"
      ],
      "metadata": {
        "colab": {
          "base_uri": "https://localhost:8080/",
          "height": 297
        },
        "id": "Nt59Pe73mQXx",
        "outputId": "9571d16e-876d-4847-f275-427d50daa83a"
      },
      "execution_count": 18,
      "outputs": [
        {
          "output_type": "execute_result",
          "data": {
            "text/plain": [
              "Text(0.5, 0, 'epochs')"
            ]
          },
          "metadata": {},
          "execution_count": 18
        },
        {
          "output_type": "display_data",
          "data": {
            "text/plain": [
              "<Figure size 432x288 with 1 Axes>"
            ],
            "image/png": "[encoded data removed]"
          },
          "metadata": {
            "needs_background": "light"
          }
        }
      ]
    },
    {
      "cell_type": "code",
      "source": [
        "# predicting by means of perticular feature. But seems I didnt understand it.\n",
        "pd_dataset = pd.DataFrame({\n",
        "    \"safdlkjsdkf\": [10],\n",
        "})\n",
        "\n",
        "insurance_model3.predict(pd_dataset)"
      ],
      "metadata": {
        "colab": {
          "base_uri": "https://localhost:8080/"
        },
        "id": "Vgae9tSemQel",
        "outputId": "ec15534f-eeb0-482c-ba5a-afc07fbeaf2f"
      },
      "execution_count": 19,
      "outputs": [
        {
          "output_type": "stream",
          "name": "stderr",
          "text": [
            "WARNING:tensorflow:Model was constructed with shape (None, 11, 1) for input KerasTensor(type_spec=TensorSpec(shape=(None, 11, 1), dtype=tf.float64, name='dense_5_input'), name='dense_5_input', description=\"created by layer 'dense_5_input'\"), but it was called on an input with incompatible shape (None, 1, 1).\n"
          ]
        },
        {
          "output_type": "stream",
          "name": "stdout",
          "text": [
            "1/1 [==============================] - 0s 175ms/step\n"
          ]
        },
        {
          "output_type": "execute_result",
          "data": {
            "text/plain": [
              "array([[[9619.113]]], dtype=float32)"
            ]
          },
          "metadata": {},
          "execution_count": 19
        }
      ]
    },
    {
      "cell_type": "code",
      "source": [
        "# Normalization and Distribution\n",
        "X['age'].plot(kind = 'hist')"
      ],
      "metadata": {
        "colab": {
          "base_uri": "https://localhost:8080/",
          "height": 283
        },
        "id": "I3r9CI76mQsN",
        "outputId": "95a60115-d1f3-45b5-cfeb-92ae3515ab60"
      },
      "execution_count": 22,
      "outputs": [
        {
          "output_type": "execute_result",
          "data": {
            "text/plain": [
              "<matplotlib.axes._subplots.AxesSubplot at 0x7f99f548ba00>"
            ]
          },
          "metadata": {},
          "execution_count": 22
        },
        {
          "output_type": "display_data",
          "data": {
            "text/plain": [
              "<Figure size 432x288 with 1 Axes>"
            ],
            "image/png": "[encoded data removed]"
          },
          "metadata": {
            "needs_background": "light"
          }
        }
      ]
    },
    {
      "cell_type": "code",
      "source": [
        "X['bmi'].plot(kind = 'hist')"
      ],
      "metadata": {
        "id": "dQ8pgVvMmQys",
        "colab": {
          "base_uri": "https://localhost:8080/",
          "height": 283
        },
        "outputId": "0672ad9a-0d63-4819-8001-3c32868e787e"
      },
      "execution_count": 23,
      "outputs": [
        {
          "output_type": "execute_result",
          "data": {
            "text/plain": [
              "<matplotlib.axes._subplots.AxesSubplot at 0x7f99f00fba00>"
            ]
          },
          "metadata": {},
          "execution_count": 23
        },
        {
          "output_type": "display_data",
          "data": {
            "text/plain": [
              "<Figure size 432x288 with 1 Axes>"
            ],
            "image/png": "[encoded data removed]"
          },
          "metadata": {
            "needs_background": "light"
          }
        }
      ]
    },
    {
      "cell_type": "code",
      "source": [
        "X['children'].plot(kind = 'hist')"
      ],
      "metadata": {
        "id": "Q6rQkzyxmQ5h",
        "colab": {
          "base_uri": "https://localhost:8080/",
          "height": 286
        },
        "outputId": "90193e40-dccd-42dc-aab3-d27f71eb92d5"
      },
      "execution_count": 24,
      "outputs": [
        {
          "output_type": "execute_result",
          "data": {
            "text/plain": [
              "<matplotlib.axes._subplots.AxesSubplot at 0x7f99f00ee250>"
            ]
          },
          "metadata": {},
          "execution_count": 24
        },
        {
          "output_type": "display_data",
          "data": {
            "text/plain": [
              "<Figure size 432x288 with 1 Axes>"
            ],
            "image/png": "[encoded data removed]"
          },
          "metadata": {
            "needs_background": "light"
          }
        }
      ]
    },
    {
      "cell_type": "code",
      "source": [
        "from sklearn.compose import make_column_transformer\n",
        "from sklearn.preprocessing import MinMaxScaler, OneHotEncoder\n",
        "\n",
        "# create a column transformer\n",
        "ct = make_column_transformer(\n",
        "    (MinMaxScaler(), ['age', 'bmi','children']),\n",
        "    (OneHotEncoder(handle_unknown = 'ignore'), ['sex', 'smoker', 'region'])\n",
        ")\n",
        "\n",
        "X = insurance.drop('charges', axis = 1)\n",
        "y = insurance['charges']\n",
        "\n",
        "X_train, X_test, y_train, y_test = train_test_split(X, y, test_size = 0.2, random_state = 42)\n",
        "\n",
        "ct.fit(X_train)\n",
        "\n",
        "X_train_normal = ct.transform(X_train)\n",
        "X_test_normal = ct.transform(X_test)"
      ],
      "metadata": {
        "id": "DRVecNPmmRAL"
      },
      "execution_count": 32,
      "outputs": []
    },
    {
      "cell_type": "code",
      "source": [
        "X_train.shape, X_train_normal.shape"
      ],
      "metadata": {
        "colab": {
          "base_uri": "https://localhost:8080/"
        },
        "id": "g2xxKQWsB9lv",
        "outputId": "10dd0ab0-06c6-4534-c347-30fa56365b86"
      },
      "execution_count": 35,
      "outputs": [
        {
          "output_type": "execute_result",
          "data": {
            "text/plain": [
              "((1070, 6), (1070, 11))"
            ]
          },
          "metadata": {},
          "execution_count": 35
        }
      ]
    },
    {
      "cell_type": "code",
      "source": [
        "# create neural network\n",
        "\n",
        "tf.random.set_seed(42)\n",
        "\n",
        "insurance_model4 = tf.keras.Sequential([ \n",
        "    tf.keras.layers.Dense(100), \n",
        "    tf.keras.layers.Dense(10),\n",
        "    tf.keras.layers.Dense(1), \n",
        "])\n",
        "\n",
        "insurance_model4.compile( \n",
        "    loss = tf.keras.losses.mae, \n",
        "    optimizer = tf.keras.optimizers.Adam(), \n",
        "    metrics = ['mae'] \n",
        ")\n",
        "\n",
        "history = insurance_model4.fit(tf.expand_dims(X_train_normal, axis = -1), y_train, epochs = 100, verbose = 0)"
      ],
      "metadata": {
        "id": "N5KK57-ABx4T"
      },
      "execution_count": 45,
      "outputs": []
    },
    {
      "cell_type": "code",
      "source": [
        "insurance_model4.evaluate(X_test_normal, y_test)"
      ],
      "metadata": {
        "colab": {
          "base_uri": "https://localhost:8080/"
        },
        "id": "hUgOJzt-Byj-",
        "outputId": "2f69428f-bab8-460a-8bed-e4200b2ab878"
      },
      "execution_count": 46,
      "outputs": [
        {
          "output_type": "stream",
          "name": "stdout",
          "text": [
            "9/9 [==============================] - 0s 3ms/step - loss: 8622.1045 - mae: 8622.1045\n"
          ]
        },
        {
          "output_type": "execute_result",
          "data": {
            "text/plain": [
              "[8622.1044921875, 8622.1044921875]"
            ]
          },
          "metadata": {},
          "execution_count": 46
        }
      ]
    },
    {
      "cell_type": "code",
      "source": [
        "pd.DataFrame(history.history).plot()     \n",
        "\n",
        "plt.ylabel('loss')\n",
        "plt.xlabel('epochs')"
      ],
      "metadata": {
        "colab": {
          "base_uri": "https://localhost:8080/",
          "height": 297
        },
        "id": "g2KOafzKCVeH",
        "outputId": "b1bc430d-0330-4803-9bca-4af2ccf61dfa"
      },
      "execution_count": 47,
      "outputs": [
        {
          "output_type": "execute_result",
          "data": {
            "text/plain": [
              "Text(0.5, 0, 'epochs')"
            ]
          },
          "metadata": {},
          "execution_count": 47
        },
        {
          "output_type": "display_data",
          "data": {
            "text/plain": [
              "<Figure size 432x288 with 1 Axes>"
            ],
            "image/png": "[encoded data removed]"
          },
          "metadata": {
            "needs_background": "light"
          }
        }
      ]
    }
  ]
}