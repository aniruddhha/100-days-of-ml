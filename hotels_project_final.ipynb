{
  "nbformat": 4,
  "nbformat_minor": 0,
  "metadata": {
    "colab": {
      "provenance": [],
      "authorship_tag": "ABX9TyOdmFIt0R092+jiof2lZG4w",
      "include_colab_link": true
    },
    "kernelspec": {
      "name": "python3",
      "display_name": "Python 3"
    },
    "language_info": {
      "name": "python"
    }
  },
  "cells": [
    {
      "cell_type": "markdown",
      "metadata": {
        "id": "view-in-github",
        "colab_type": "text"
      },
      "source": [
        "<a href=\"https://colab.research.google.com/github/aniruddhha/100-days-of-ml/blob/main/hotels_project_final.ipynb\" target=\"_parent\"><img src=\"https://colab.research.google.com/assets/colab-badge.svg\" alt=\"Open In Colab\"/></a>"
      ]
    },
    {
      "cell_type": "code",
      "source": [
        "!pip install geopy tabulate"
      ],
      "metadata": {
        "colab": {
          "base_uri": "https://localhost:8080/"
        },
        "id": "B45s_SRVgsLL",
        "outputId": "4e7e3950-24b3-4256-f1f3-4a577a48c8c5"
      },
      "execution_count": 1,
      "outputs": [
        {
          "output_type": "stream",
          "name": "stdout",
          "text": [
            "Requirement already satisfied: geopy in /usr/local/lib/python3.10/dist-packages (2.3.0)\n",
            "Requirement already satisfied: tabulate in /usr/local/lib/python3.10/dist-packages (0.9.0)\n",
            "Requirement already satisfied: geographiclib<3,>=1.52 in /usr/local/lib/python3.10/dist-packages (from geopy) (2.0)\n"
          ]
        }
      ]
    },
    {
      "cell_type": "code",
      "source": [
        "import numpy as np\n",
        "import pandas as pd\n",
        "from geopy.geocoders import Nominatim\n",
        "from geopy.geocoders import GoogleV3\n",
        "import matplotlib.pyplot as plt\n",
        "from tabulate import tabulate\n",
        "import time"
      ],
      "metadata": {
        "id": "k059oQj9gmht"
      },
      "execution_count": 2,
      "outputs": []
    },
    {
      "cell_type": "code",
      "source": [
        "def load_data(filepath):\n",
        "    return pd.read_csv(filepath)"
      ],
      "metadata": {
        "id": "rFOCOxZvhKyE"
      },
      "execution_count": 4,
      "outputs": []
    },
    {
      "cell_type": "code",
      "source": [
        "def save_data(df, filepath):\n",
        "    df.to_csv(filepath, index=False)"
      ],
      "metadata": {
        "id": "oVLV_h-7hR1V"
      },
      "execution_count": 6,
      "outputs": []
    },
    {
      "cell_type": "code",
      "source": [
        "def geocode_addresses(df, column_name):\n",
        "    #geolocator = GoogleV3()\n",
        "    geolocator = Nominatim(user_agent=\"my_request\")\n",
        "    latitudes = []\n",
        "    longitudes = []\n",
        "\n",
        "    for address in df[column_name]:\n",
        "        while True:\n",
        "            try:\n",
        "                location = geolocator.geocode(address, timeout=10)\n",
        "                if location is not None:\n",
        "                    latitudes.append(location.latitude)\n",
        "                    longitudes.append(location.longitude)\n",
        "                else:\n",
        "                    latitudes.append(0)\n",
        "                    longitudes.append(0)\n",
        "                break\n",
        "            except Exception as e:\n",
        "                print(f\"Error geocoding {address}: {e}\")\n",
        "                time.sleep(5)\n",
        "\n",
        "    df['latitude'] = latitudes\n",
        "    df['longitude'] = longitudes\n",
        "\n",
        "    return df"
      ],
      "metadata": {
        "id": "F9MEM1l3hPmu"
      },
      "execution_count": 5,
      "outputs": []
    },
    {
      "cell_type": "code",
      "source": [
        "def create_location_table(df):\n",
        "    location_data = []\n",
        "    for index, row in df.iterrows():\n",
        "        coordinates = (row['latitude'], row['longitude'])\n",
        "        location_data.append([index, row['Street'], int(row['zipcode']), coordinates])\n",
        "\n",
        "    headers = ['Index', 'Street Address', 'zipcode', 'Coordinates']\n",
        "    table = tabulate(location_data, headers, tablefmt='grid')\n",
        "    print(table)"
      ],
      "metadata": {
        "id": "gVpuEoRDhCLC"
      },
      "execution_count": 3,
      "outputs": []
    },
    {
      "cell_type": "code",
      "source": [
        "def calculate_boundaries(latitudes, longitudes):\n",
        "    min_lat = min(latitudes) - 2.5 / 69\n",
        "    max_lat = max(latitudes) + 2.5 / 69\n",
        "    min_lon = min(longitudes) - 2.5 / 54.6\n",
        "    max_lon = max(longitudes) + 2.5 / 54.6\n",
        "    return min_lat, max_lat, min_lon, max_lon"
      ],
      "metadata": {
        "id": "fMWPEpMAhU4V"
      },
      "execution_count": 7,
      "outputs": []
    },
    {
      "cell_type": "code",
      "source": [
        "def distance(lat1, lon1, lat2, lon2):\n",
        "    R = 3959  # Radius of the Earth in miles\n",
        "    dlat = np.radians(lat2 - lat1)\n",
        "    dlon = np.radians(lon2 - lon1)\n",
        "    a = np.sin(dlat / 2) ** 2 + np.cos(np.radians(lat1)) * np.cos(np.radians(lat2)) * np.sin(dlon / 2) ** 2\n",
        "    c = 2 * np.arctan2(np.sqrt(a), np.sqrt(1 - a))\n",
        "    distance_miles = R * c\n",
        "    return distance_miles"
      ],
      "metadata": {
        "id": "P-Bg_0ufh5qE"
      },
      "execution_count": 13,
      "outputs": []
    },
    {
      "cell_type": "code",
      "source": [
        "def calculate_distances(cloud_kitchens, service_stations):\n",
        "\n",
        "    d_matrix = np.zeros((len(cloud_kitchens), len(service_stations)))\n",
        "\n",
        "    for i in range(len(cloud_kitchens)):\n",
        "      for j in range(len(service_stations)):\n",
        "          d_matrix[i][j] = distance(cloud_kitchens[i][0], cloud_kitchens[i][1], service_stations[j][0], service_stations[j][1])\n",
        "\n",
        "    df = pd.DataFrame(d_matrix)\n",
        "\n",
        "    # Write the DataFrame to a CSV file\n",
        "    df.to_csv('distance_matrix.csv', index=False)\n",
        "\n",
        "\n",
        "    # headers = ['Cloud Kitchen Index', 'Service Station Index', 'Distance (miles)']\n",
        "    # distance_table = tabulate(d_matrix, headers, tablefmt='grid')\n",
        "    print(d_matrix[0])\n"
      ],
      "metadata": {
        "id": "NlKDwV2GhwyG"
      },
      "execution_count": 63,
      "outputs": []
    },
    {
      "cell_type": "code",
      "source": [
        "def plot_locations(latitudes, longitudes, min_lat, max_lat, min_lon, max_lon, title):\n",
        "    plt.scatter(longitudes, latitudes, label='Locations', c='red', marker='o')\n",
        "    plt.xlim(min_lon, max_lon)\n",
        "    plt.ylim(min_lat, max_lat)\n",
        "    plt.xlabel('Longitude')\n",
        "    plt.ylabel('Latitude')\n",
        "    plt.title(title)\n",
        "    plt.legend()\n",
        "    plt.grid(True)\n",
        "    plt.show()"
      ],
      "metadata": {
        "id": "OzulAUhFhWsZ"
      },
      "execution_count": 8,
      "outputs": []
    },
    {
      "cell_type": "code",
      "source": [
        "def generate_random_points(num_points, min_lat, max_lat, min_lon, max_lon):\n",
        "    random_latitudes = np.random.uniform(min_lat, max_lat, num_points)\n",
        "    random_longitudes = np.random.uniform(min_lon, max_lon, num_points)\n",
        "    return random_latitudes, random_longitudes"
      ],
      "metadata": {
        "id": "r2M-gkuChYb-"
      },
      "execution_count": 9,
      "outputs": []
    },
    {
      "cell_type": "code",
      "source": [
        "def main():\n",
        "    filepath_in = 'hotels.csv'\n",
        "    filepath_out = 'Hotels with coordinates.csv'\n",
        "\n",
        "    df = load_data(filepath_in)\n",
        "    df = geocode_addresses(df, 'Street')\n",
        "    save_data(df, filepath_out)\n",
        "\n",
        "\n",
        "\n",
        "    min_lat, max_lat, min_lon, max_lon = calculate_boundaries(df['latitude'].dropna(), df['longitude'].dropna())\n",
        "\n",
        "    # plot_locations(df['latitude'], df['longitude'], min_lat, max_lat, min_lon, max_lon, 'Cloud Kitchen Locations')\n",
        "\n",
        "    random_latitudes, random_longitudes = generate_random_points(50, min_lat, max_lat, min_lon, max_lon)\n",
        "    # plot_locations(random_latitudes, random_longitudes, min_lat, max_lat, min_lon, max_lon, 'Randomly Sampled Points within Boundaries')\n",
        "\n",
        "    # create_location_table(df)\n",
        "\n",
        "    latitude = df['latitude'].values\n",
        "    longitude = df['longitude'].values\n",
        "    cloud_kitchens = np.array(list(zip(latitude, longitude)))\n",
        "    service_stations = np.array(list(zip(random_latitudes, random_longitudes)))\n",
        "    # print(cloud_kitchens)\n",
        "    # print(service_stations)\n",
        "\n",
        "    calculate_distances(cloud_kitchens, service_stations)\n"
      ],
      "metadata": {
        "id": "vXHABANChakL"
      },
      "execution_count": 65,
      "outputs": []
    },
    {
      "cell_type": "code",
      "source": [
        "main()"
      ],
      "metadata": {
        "colab": {
          "base_uri": "https://localhost:8080/"
        },
        "id": "1GoOSN0OhnbH",
        "outputId": "b9a9a9ad-4c9f-433c-91b9-687e074ac761"
      },
      "execution_count": 64,
      "outputs": [
        {
          "output_type": "stream",
          "name": "stdout",
          "text": [
            "[2246.61703577  839.66457465 5123.81601178 3261.01089084 3933.80377359\n",
            " 2215.03417851 3433.5832289  2960.47153499 3168.83416447  625.59920049\n",
            " 2084.89298156 3918.31211008 1371.88589618 4464.69663474  997.33368057\n",
            " 2378.17046508  530.51155406 2016.2372178  1399.91282434 2049.32976742\n",
            " 3970.5515254  2339.06082847 2682.38567232 1411.81935221 3315.49698258\n",
            " 2459.68814916 5482.03615414 2246.92108703  961.74054675 3151.41525521\n",
            " 2052.63797656 2285.24351642 2777.41877305 3413.55850074 2447.96023986\n",
            " 5172.52726557 1823.58394024 2813.5149291  4363.22223618 1480.36468906\n",
            " 5158.18558472 1647.95079533 1699.39886423 4552.74761259 5519.67523165\n",
            " 5434.5192187  3484.97210998 2785.21985572 3780.69662609 3237.97820776]\n"
          ]
        }
      ]
    }
  ]
}