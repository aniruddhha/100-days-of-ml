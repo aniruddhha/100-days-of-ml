{
  "nbformat": 4,
  "nbformat_minor": 0,
  "metadata": {
    "colab": {
      "provenance": [],
      "authorship_tag": "ABX9TyOv9xZ38bDx5p47Sb3XOmz6",
      "include_colab_link": true
    },
    "kernelspec": {
      "name": "python3",
      "display_name": "Python 3"
    },
    "language_info": {
      "name": "python"
    }
  },
  "cells": [
    {
      "cell_type": "markdown",
      "metadata": {
        "id": "view-in-github",
        "colab_type": "text"
      },
      "source": [
        "<a href=\"https://colab.research.google.com/github/aniruddhha/100-days-of-ml/blob/main/project-pythom.ipynb\" target=\"_parent\"><img src=\"https://colab.research.google.com/assets/colab-badge.svg\" alt=\"Open In Colab\"/></a>"
      ]
    },
    {
      "cell_type": "code",
      "execution_count": 1,
      "metadata": {
        "id": "Z8J3a9OQqQzL",
        "colab": {
          "base_uri": "https://localhost:8080/"
        },
        "outputId": "caf581f9-feb1-47f7-f1d6-b734ab7c7f97"
      },
      "outputs": [
        {
          "output_type": "stream",
          "name": "stdout",
          "text": [
            "Requirement already satisfied: geopy in /usr/local/lib/python3.10/dist-packages (2.3.0)\n",
            "Requirement already satisfied: tabulate in /usr/local/lib/python3.10/dist-packages (0.9.0)\n",
            "Requirement already satisfied: geographiclib<3,>=1.52 in /usr/local/lib/python3.10/dist-packages (from geopy) (2.0)\n"
          ]
        }
      ],
      "source": [
        "!pip install geopy tabulate"
      ]
    },
    {
      "cell_type": "code",
      "source": [
        "import pandas as pd\n",
        "from geopy.geocoders import Nominatim\n",
        "import matplotlib.pyplot as plt\n",
        "import numpy as np\n",
        "from tabulate import tabulate\n",
        "\n",
        "import time\n",
        "from geopy.exc import GeocoderTimedOut, GeocoderServiceError"
      ],
      "metadata": {
        "id": "b-iqGeQmsNU-"
      },
      "execution_count": 70,
      "outputs": []
    },
    {
      "cell_type": "code",
      "source": [
        "cloud_kitchen_locations = [\n",
        "   \"1 Front St W, Toronto, ON M5J 2X5, Canada\",\n",
        "    \"10 Avenue of the Arts, Boston, MA 02116\",\n",
        "    \"1440 1st Ave, New York, NY 10021\",\n",
        "    \"20 W 34th St, New York, NY 10001\",\n",
        "    \"1001 3rd Ave, Seattle, WA 98104\",\n",
        "    \"3601 S Broad St, Philadelphia, PA 19148\",\n",
        "    \"200 E 25th St, New York, NY 10010\",\n",
        "    \"1000 E 41st St, Austin, TX 78751\",\n",
        "    \"2000 E Convention Center Way, Ontario, CA 91764\",\n",
        "    \"1000 E 14th St, Cleveland, OH 44114\",\n",
        "    \"1600 Pennsylvania Ave NW, Washington, DC 20500\",\n",
        "    \"2000 E Convention Center Way, Ontario, CA 91764\",\n",
        "    \"900 E Main St, Richmond, VA 23219\",\n",
        "    \"2500 Victory Ave, Dallas, TX 75219\",\n",
        "    \"50 N 3rd St, Phoenix, AZ 85004\",\n",
        "    \"1001 W University Ave, Urbana, IL 61801\",\n",
        "    \"1 E 161st St, Bronx, NY 10451\",\n",
        "    \"1 Museum Way, San Francisco, CA 94130\",\n",
        "    \"100 Universal City Plaza, Universal City, CA 91608\",\n",
        "    \"25th St, San Francisco, CA 94107\",\n",
        "    \"9500 Gilman Dr, La Jolla, CA 92093\",\n",
        "    \"1600 Holloway Ave, San Francisco, CA 94132\",\n",
        "   \"9599 Universal Blvd, Orlando, FL 32819\",\n",
        "]\n",
        "len(cloud_kitchen_locations)"
      ],
      "metadata": {
        "id": "hTLRL4DXsov6",
        "colab": {
          "base_uri": "https://localhost:8080/"
        },
        "outputId": "429746b0-e785-4516-c4f0-3cb88dc83467"
      },
      "execution_count": 26,
      "outputs": [
        {
          "output_type": "execute_result",
          "data": {
            "text/plain": [
              "23"
            ]
          },
          "metadata": {},
          "execution_count": 26
        }
      ]
    },
    {
      "cell_type": "code",
      "source": [
        "data = {'Address': cloud_kitchen_locations}\n",
        "df = pd.DataFrame(data)\n",
        "df.to_csv('cloud_kitchen_locations.csv', index=False)"
      ],
      "metadata": {
        "id": "kvDHjvKWtnmq"
      },
      "execution_count": 102,
      "outputs": []
    },
    {
      "cell_type": "code",
      "source": [
        "data = pd.read_csv('hotel-addresses.csv')"
      ],
      "metadata": {
        "id": "T4uCi1nWtrUo"
      },
      "execution_count": 114,
      "outputs": []
    },
    {
      "cell_type": "code",
      "source": [
        "def geocode_with_delay(address, geolocator, max_retries=5, delay=2):\n",
        "    retries = 0\n",
        "    while retries < max_retries:\n",
        "        time.sleep(delay)\n",
        "        try:\n",
        "            location = geolocator.geocode(address, timeout=10)\n",
        "            if location:\n",
        "                return location.latitude, location.longitude\n",
        "            else:\n",
        "                return None\n",
        "\n",
        "        except (GeocoderTimedOut, GeocoderServiceError):\n",
        "            retries += 1\n",
        "\n",
        "    return None\n",
        "\n",
        "\n",
        "geolocator = Nominatim(user_agent=\"ani_requests\")\n",
        "coordinates = data['address'].apply(lambda x: geocode_with_delay(x, geolocator))\n"
      ],
      "metadata": {
        "id": "lEjs8Hrct6MG"
      },
      "execution_count": 115,
      "outputs": []
    },
    {
      "cell_type": "code",
      "source": [
        "coordinates"
      ],
      "metadata": {
        "colab": {
          "base_uri": "https://localhost:8080/"
        },
        "id": "G7nwV_klZg2-",
        "outputId": "a90cb0dc-fe51-4a31-be85-cf8f651232f8"
      },
      "execution_count": 117,
      "outputs": [
        {
          "output_type": "execute_result",
          "data": {
            "text/plain": [
              "0                    (28.5370446, -81.3774396)\n",
              "1                                         None\n",
              "2                                         None\n",
              "3                                         None\n",
              "4                    (28.5173611, -81.3639966)\n",
              "5                    (28.5419309, -81.4075839)\n",
              "6                                         None\n",
              "7      (28.56774220169646, -81.34750807446191)\n",
              "8                      (28.511931, -81.372053)\n",
              "9                    (28.4944003, -81.4135404)\n",
              "10                   (28.5279579, -81.4343381)\n",
              "11                                        None\n",
              "12                   (28.4587148, -81.3101582)\n",
              "13     (28.53894279718032, -81.30806156524885)\n",
              "14               (28.567774125, -81.344144625)\n",
              "15                     (28.55314, -81.3751535)\n",
              "16    (28.563980790697673, -81.36678958139535)\n",
              "17                   (28.5631065, -81.3895725)\n",
              "18    (28.542878369022056, -81.39718238068907)\n",
              "19                   (28.5443978, -81.4077597)\n",
              "20     (28.55297899655011, -81.41567471147606)\n",
              "21           (28.53037175, -81.39754652425927)\n",
              "22                                        None\n",
              "23                    (28.537866, -81.3972181)\n",
              "24                                        None\n",
              "Name: address, dtype: object"
            ]
          },
          "metadata": {},
          "execution_count": 117
        }
      ]
    },
    {
      "cell_type": "code",
      "source": [
        "def impute_coordinates(coordinates_list):\n",
        "    imputed_coordinates = []\n",
        "    for coord in coordinates_list:\n",
        "        if coord is None:\n",
        "            imputed_coordinates.append((0, 0))  # Replace None with a default value, you can change it as needed\n",
        "        else:\n",
        "            imputed_coordinates.append(coord)\n",
        "    return imputed_coordinates\n",
        "\n",
        "\n"
      ],
      "metadata": {
        "id": "4Z6A0YD8vH4e"
      },
      "execution_count": 86,
      "outputs": []
    },
    {
      "cell_type": "code",
      "source": [
        "coordinates = impute_coordinates(coordinates)\n",
        "coordinates"
      ],
      "metadata": {
        "colab": {
          "base_uri": "https://localhost:8080/"
        },
        "id": "BDH_ih2GbUw0",
        "outputId": "af3ffc24-2dc5-4c66-ed8d-b45db78c8870"
      },
      "execution_count": 118,
      "outputs": [
        {
          "output_type": "execute_result",
          "data": {
            "text/plain": [
              "[(28.5370446, -81.3774396),\n",
              " (0, 0),\n",
              " (0, 0),\n",
              " (0, 0),\n",
              " (28.5173611, -81.3639966),\n",
              " (28.5419309, -81.4075839),\n",
              " (0, 0),\n",
              " (28.56774220169646, -81.34750807446191),\n",
              " (28.511931, -81.372053),\n",
              " (28.4944003, -81.4135404),\n",
              " (28.5279579, -81.4343381),\n",
              " (0, 0),\n",
              " (28.4587148, -81.3101582),\n",
              " (28.53894279718032, -81.30806156524885),\n",
              " (28.567774125, -81.344144625),\n",
              " (28.55314, -81.3751535),\n",
              " (28.563980790697673, -81.36678958139535),\n",
              " (28.5631065, -81.3895725),\n",
              " (28.542878369022056, -81.39718238068907),\n",
              " (28.5443978, -81.4077597),\n",
              " (28.55297899655011, -81.41567471147606),\n",
              " (28.53037175, -81.39754652425927),\n",
              " (0, 0),\n",
              " (28.537866, -81.3972181),\n",
              " (0, 0)]"
            ]
          },
          "metadata": {},
          "execution_count": 118
        }
      ]
    },
    {
      "cell_type": "code",
      "source": [
        "lats = [coordinate[0] for coordinate in coordinates]\n",
        "lons = [coordinate[1] for coordinate in coordinates]\n",
        "\n",
        "# Calculate the boundaries of the plot region\n",
        "min_lat, max_lat = min(lats), max(lats)\n",
        "min_lon, max_lon = min(lons), max(lons)\n",
        "\n",
        "# Add 2.5 miles to the boundaries\n",
        "buffer = 2.5 / 69  # Approximate miles to degrees conversion\n",
        "min_lat -= buffer\n",
        "max_lat += buffer\n",
        "min_lon -= buffer\n",
        "max_lon += buffer\n",
        "\n",
        "# Plotting the data\n",
        "plt.figure(figsize=(10, 6))\n",
        "plt.scatter(lons, lats, marker='o', color='b', label='Cloud Kitchens')\n",
        "plt.title('Locations of Cloud Kitchens')\n",
        "plt.xlabel('Longitude')\n",
        "plt.ylabel('Latitude')\n",
        "plt.grid(True)\n",
        "\n",
        "# Setting the plot boundaries\n",
        "plt.xlim(min_lon, max_lon)\n",
        "plt.ylim(min_lat, max_lat)\n",
        "\n",
        "# Display the plot\n",
        "plt.show()"
      ],
      "metadata": {
        "colab": {
          "base_uri": "https://localhost:8080/",
          "height": 564
        },
        "id": "dPXotlDnbaPL",
        "outputId": "e815d141-41f4-4511-82a7-d0b73173fb7f"
      },
      "execution_count": 119,
      "outputs": [
        {
          "output_type": "display_data",
          "data": {
            "text/plain": [
              "<Figure size 1000x600 with 1 Axes>"
            ],
            "image/png": "[encoded data removed]"
          },
          "metadata": {}
        }
      ]
    },
    {
      "cell_type": "code",
      "source": [
        "np.random.seed(0)  # Set a random seed\n",
        "sample_service_stations = 50\n",
        "\n",
        "service_stations = []\n",
        "random_lats = np.random.uniform(min_lat, max_lat, sample_service_stations)\n",
        "random_lons = np.random.uniform(min_lon, max_lon, sample_service_stations)\n",
        "\n",
        "for i in range(sample_service_stations):\n",
        "    print(f\"Random Point {i + 1}: Latitude {random_lats[i]}, Longitude {random_lons[i]}\")\n",
        "    service_stations.append((random_lats[i], random_lons[i]))"
      ],
      "metadata": {
        "colab": {
          "base_uri": "https://localhost:8080/"
        },
        "id": "vjx3-ghGd1Qw",
        "outputId": "405cfc7f-154b-4d64-d803-9093b0b2402c"
      },
      "execution_count": 130,
      "outputs": [
        {
          "output_type": "stream",
          "name": "stdout",
          "text": [
            "Random Point 1: Latitude 15.681917427375131, Longitude -34.99565479176827\n",
            "Random Point 2: Latitude 20.44696170747498, Longitude -45.72156332722884\n",
            "Random Point 3: Latitude 17.22705459989162, Longitude -0.9113793937353165\n",
            "Random Point 4: Latitude 15.569352100931384, Longitude -73.15322381274906\n",
            "Random Point 5: Latitude 12.09734235356856, Longitude -64.44569361018151\n",
            "Random Point 6: Latitude 18.462329167934186, Longitude -68.32274707036427\n",
            "Random Point 7: Latitude 12.496369945490727, Longitude -28.237799101932765\n",
            "Random Point 8: Latitude 25.504359004998662, Longitude -60.82558152099038\n",
            "Random Point 9: Latitude 27.563298825428323, Longitude -43.463070211891\n",
            "Random Point 10: Latitude 10.945624433209998, Longitude -61.54822168528639\n",
            "Random Point 11: Latitude 22.63896155256582, Longitude -68.51346762680572\n",
            "Random Point 12: Latitude 15.11144443812568, Longitude -72.47424522201362\n",
            "Random Point 13: Latitude 16.232699479562882, Longitude -27.975244175330054\n",
            "Random Point 14: Latitude 26.47307602971223, Longitude -70.20771954693501\n",
            "Random Point 15: Latitude 1.9982577217187403, Longitude -65.44777037983555\n",
            "Random Point 16: Latitude 2.459171986854751, Longitude -51.41696055520754\n",
            "Random Point 17: Latitude 0.542827828450524, Longitude -14.55403746377776\n",
            "Random Point 18: Latitude 23.810198566964427, Longitude -73.55615553685165\n",
            "Random Point 19: Latitude 22.250362581279923, Longitude -13.172360432156225\n",
            "Random Point 20: Latitude 24.881123011631786, Longitude -73.63789609200333\n",
            "Random Point 21: Latitude 27.99163024405514, Longitude -1.8824818369646295\n",
            "Random Point 22: Latitude 22.851859509429968, Longitude -43.27230934610431\n",
            "Random Point 23: Latitude 13.180646833629428, Longitude -1.8578974964428454\n",
            "Random Point 24: Latitude 22.318309407303943, Longitude -32.1715460453809\n",
            "Random Point 25: Latitude 3.3511758094999826, Longitude -21.2155598897264\n",
            "Random Point 26: Latitude 18.291258399568033, Longitude -78.27649836513618\n",
            "Random Point 27: Latitude 4.0694403700973405, Longitude -58.419878918418874\n",
            "Random Point 28: Latitude 27.019310630474322, Longitude -71.67373268402734\n",
            "Random Point 29: Latitude 14.909628194987393, Longitude -57.33312957943579\n",
            "Random Point 30: Latitude 11.839784722491594, Longitude -71.79345331900105\n",
            "Random Point 31: Latitude 7.54070378257745, Longitude -55.5527779837996\n",
            "Random Point 32: Latitude 22.13800516620284, Longitude -47.70531816885837\n",
            "Random Point 33: Latitude 13.02802214564785, Longitude -76.24211270882192\n",
            "Random Point 34: Latitude 16.243851638063425, Longitude -25.029382151371436\n",
            "Random Point 35: Latitude 0.501912470403414, Longitude -35.288697517856285\n",
            "Random Point 36: Latitude 17.652995683428063, Longitude -59.839521328176446\n",
            "Random Point 37: Latitude 17.494335228070913, Longitude -38.82229456227034\n",
            "Random Point 38: Latitude 17.632904550785913, Longitude -73.81377938628006\n",
            "Random Point 39: Latitude 26.992937595771927, Longitude -34.527013084124754\n",
            "Random Point 40: Latitude 19.49126368262126, Longitude -5.72660893141996\n",
            "Random Point 41: Latitude 10.260159912829934, Longitude -55.50503349527469\n",
            "Random Point 42: Latitude 12.480467239648425, Longitude -27.07208437963419\n",
            "Random Point 43: Latitude 19.944091528957873, Longitude -70.72814772642198\n",
            "Random Point 44: Latitude 1.6886399506294223, Longitude -23.085030485224607\n",
            "Random Point 45: Latitude 19.060125465517494, Longitude -57.88200490678491\n",
            "Random Point 46: Latitude 19.170996241938585, Longitude -66.5392279369936\n",
            "Random Point 47: Latitude 5.989174713659827, Longitude -33.665776413405325\n",
            "Random Point 48: Latitude 3.656247951455704, Longitude -79.83166820089994\n",
            "Random Point 49: Latitude 8.997711124643914, Longitude -13.906319262088118\n",
            "Random Point 50: Latitude 10.380531120027342, Longitude -81.08785673635559\n"
          ]
        }
      ]
    },
    {
      "cell_type": "code",
      "source": [
        "table = tabulate(data, headers='keys', tablefmt='grid')\n",
        "table"
      ],
      "metadata": {
        "colab": {
          "base_uri": "https://localhost:8080/",
          "height": 122
        },
        "id": "YpHwnEeleCq-",
        "outputId": "67ae865d-811b-47b5-b4ab-d8be77ee8273"
      },
      "execution_count": 121,
      "outputs": [
        {
          "output_type": "execute_result",
          "data": {
            "text/plain": [
              "'+----+------+-------------------------------------------------------------+-----------+\\n|    |   sr | address                                                     |   zipcode |\\n+====+======+=============================================================+===========+\\n|  0 |    1 | 25 S Magnolia Ave, Orlando, FL                              |     32801 |\\n+----+------+-------------------------------------------------------------+-----------+\\n|  1 |    2 | 390 N Orange Ave Suite 110, Orlando, FL                     |     32801 |\\n+----+------+-------------------------------------------------------------+-----------+\\n|  2 |    3 | 4200 Conroy Rd A146, Orlando, FL                            |     32839 |\\n+----+------+-------------------------------------------------------------+-----------+\\n|  3 |    4 | Grand Bohemian Hotel Orlando, 325 S Orange Ave, Orlando, FL |     32801 |\\n+----+------+-------------------------------------------------------------+-----------+\\n|  4 |    5 | 1103 N Mills Ave, Orlando, FL                               |     32803 |\\n+----+------+-------------------------------------------------------------+-----------+\\n|  5 |    6 | 629 E Central Blvd, Orlando, FL                             |     32801 |\\n+----+------+-------------------------------------------------------------+-----------+\\n|  6 |    7 | 60 S Ivanhoe Blvd 1st floor, Orlando, FL                    |     32804 |\\n+----+------+-------------------------------------------------------------+-----------+\\n|  7 |    8 | 2816 Corrine Dr, Orlando, FL                                |     32803 |\\n+----+------+-------------------------------------------------------------+-----------+\\n|  8 |    9 | 400 Compton St, Orlando, FL                                 |     32806 |\\n+----+------+-------------------------------------------------------------+-----------+\\n|  9 |   10 | 290 Holden Ave, Orlando, FL                                 |     32839 |\\n+----+------+-------------------------------------------------------------+-----------+\\n| 10 |   11 | 254 S Ivey Ln, Orlando, FL                                  |     32811 |\\n+----+------+-------------------------------------------------------------+-----------+\\n| 11 |   12 | 2423 S Orange Ave Suite 321, Orlando, FL                    |     32806 |\\n+----+------+-------------------------------------------------------------+-----------+\\n| 12 |   13 | 1125 S Semoran Blvd, Orlando, FL                            |     32807 |\\n+----+------+-------------------------------------------------------------+-----------+\\n| 13 |   14 | 5806 Lake Underhill Rd, Orlando, FL                         |     32807 |\\n+----+------+-------------------------------------------------------------+-----------+\\n| 14 |   15 | 3201 Corrine Dr, Orlando, FL                                |     32803 |\\n+----+------+-------------------------------------------------------------+-----------+\\n| 15 |   16 | 6432 E Colonial Dr, Orlando, FL                             |     32807 |\\n+----+------+-------------------------------------------------------------+-----------+\\n| 16 |   17 | 802 Virginia Dr, Orlando, FL                                |     32803 |\\n+----+------+-------------------------------------------------------------+-----------+\\n| 17 |   18 | 1308 Edgewater Dr, Orlando, FL                              |     32804 |\\n+----+------+-------------------------------------------------------------+-----------+\\n| 18 |   19 | 23 N Orange Blossom Trl, Orlando, FL                        |     32805 |\\n+----+------+-------------------------------------------------------------+-----------+\\n| 19 |   20 | 18 N Dollins Ave, Orlando, FL                               |     32805 |\\n+----+------+-------------------------------------------------------------+-----------+\\n| 20 |   21 | 3009 W Colonial Dr, Orlando, FL                             |     32808 |\\n+----+------+-------------------------------------------------------------+-----------+\\n| 21 |   22 | 950 S Orange Blossom Trail, Orlando, FL                     |     32805 |\\n+----+------+-------------------------------------------------------------+-----------+\\n| 22 |   23 | 5406 Hansel Ave, Orlando, FL                                |     32809 |\\n+----+------+-------------------------------------------------------------+-----------+\\n| 23 |   24 | 6215 S Orange Blossom Trl, Orlando, FL                      |     32809 |\\n+----+------+-------------------------------------------------------------+-----------+\\n| 24 |   25 | 7581 University Blvd, Winter Park, FL                       |     32792 |\\n+----+------+-------------------------------------------------------------+-----------+'"
            ],
            "application/vnd.google.colaboratory.intrinsic+json": {
              "type": "string"
            }
          },
          "metadata": {},
          "execution_count": 121
        }
      ]
    },
    {
      "cell_type": "code",
      "source": [
        "def distance(lat1, lon1, lat2, lon2):\n",
        "    R = 3959  # Radius of the Earth in miles\n",
        "    dlat = np.radians(lat2 - lat1)\n",
        "    dlon = np.radians(lon2 - lon1)\n",
        "    a = np.sin(dlat / 2) ** 2 + np.cos(np.radians(lat1)) * np.cos(np.radians(lat2)) * np.sin(dlon / 2) ** 2\n",
        "    c = 2 * np.arctan2(np.sqrt(a), np.sqrt(1 - a))\n",
        "    distance_miles = R * c\n",
        "    return distance_miles\n"
      ],
      "metadata": {
        "id": "kWcw3O_UeNjT"
      },
      "execution_count": 125,
      "outputs": []
    },
    {
      "cell_type": "code",
      "source": [
        "d_matrix = np.zeros((len(coordinates), len(service_stations)))"
      ],
      "metadata": {
        "id": "7k4O1r0EeT17"
      },
      "execution_count": 131,
      "outputs": []
    },
    {
      "cell_type": "code",
      "source": [
        "for i in range(len(coordinates)):\n",
        "    for j in range(len(service_stations)):\n",
        "        d_matrix[i][j] = distance(coordinates[i][0], coordinates[i][1], service_locations[j][0], service_stations[j][1])"
      ],
      "metadata": {
        "id": "MYoXiPGUeYZB"
      },
      "execution_count": 132,
      "outputs": []
    },
    {
      "cell_type": "code",
      "source": [
        "d_matrix"
      ],
      "metadata": {
        "colab": {
          "base_uri": "https://localhost:8080/"
        },
        "id": "oguUABgMec7x",
        "outputId": "1bdb2b19-240a-458e-f2ac-3a57b644dca8"
      },
      "execution_count": 133,
      "outputs": [
        {
          "output_type": "execute_result",
          "data": {
            "text/plain": [
              "array([[3078.46835102, 2301.48833127, 5093.32662134, ..., 1722.20264813,\n",
              "        4558.55469689, 1254.71144983],\n",
              "       [2621.25543144, 3395.73321461, 1191.96206378, ..., 5517.62072725,\n",
              "        1141.14808783, 5613.13420272],\n",
              "       [2621.25543144, 3395.73321461, 1191.96206378, ..., 5517.62072725,\n",
              "        1141.14808783, 5613.13420272],\n",
              "       ...,\n",
              "       [2621.25543144, 3395.73321461, 1191.96206378, ..., 5517.62072725,\n",
              "        1141.14808783, 5613.13420272],\n",
              "       [3079.66762405, 2302.68837266, 5094.49387851, ..., 1722.33647099,\n",
              "        4559.75664352, 1254.7880045 ],\n",
              "       [2621.25543144, 3395.73321461, 1191.96206378, ..., 5517.62072725,\n",
              "        1141.14808783, 5613.13420272]])"
            ]
          },
          "metadata": {},
          "execution_count": 133
        }
      ]
    }
  ]
}