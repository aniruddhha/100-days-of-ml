{
  "nbformat": 4,
  "nbformat_minor": 0,
  "metadata": {
    "colab": {
      "provenance": [],
      "authorship_tag": "ABX9TyNsFStVcRzyxxxVrriXEWhM",
      "include_colab_link": true
    },
    "kernelspec": {
      "name": "python3",
      "display_name": "Python 3"
    },
    "language_info": {
      "name": "python"
    }
  },
  "cells": [
    {
      "cell_type": "markdown",
      "metadata": {
        "id": "view-in-github",
        "colab_type": "text"
      },
      "source": [
        "<a href=\"https://colab.research.google.com/github/aniruddhha/100-days-of-ml/blob/main/03_day_tf_linear_regressionipynb.ipynb\" target=\"_parent\"><img src=\"https://colab.research.google.com/assets/colab-badge.svg\" alt=\"Open In Colab\"/></a>"
      ]
    },
    {
      "cell_type": "markdown",
      "source": [
        "# **✅ Linear Regression using tensorflow 2.0**"
      ],
      "metadata": {
        "id": "mqtPBbHgywKT"
      }
    },
    {
      "cell_type": "code",
      "source": [
        "import tensorflow as tf\n",
        "print(tf.__version__) "
      ],
      "metadata": {
        "colab": {
          "base_uri": "https://localhost:8080/"
        },
        "id": "PR7zuTQqxaN-",
        "outputId": "afd96649-c43b-49b7-de3b-9c957de555f3"
      },
      "execution_count": null,
      "outputs": [
        {
          "output_type": "stream",
          "name": "stdout",
          "text": [
            "2.9.2\n"
          ]
        }
      ]
    },
    {
      "cell_type": "code",
      "source": [
        "import numpy as np\n",
        "import matplotlib.pyplot as plt"
      ],
      "metadata": {
        "id": "IBq3QvMaxWwr"
      },
      "execution_count": null,
      "outputs": []
    },
    {
      "cell_type": "code",
      "source": [
        "#creating sample data\n",
        "\n",
        "# X can be house info\n",
        "X = np.array([-7.0, -4.0, -1.0, 2.0, 5.0, 8.0, 11.0, 14.0])\n",
        "\n",
        "# y can be house price\n",
        "y = np.array([3.0, 6.0, 9.0, 12.0, 15.0, 18.0, 21.0, 24.0])"
      ],
      "metadata": {
        "id": "pdUVRHYozi3y"
      },
      "execution_count": null,
      "outputs": []
    },
    {
      "cell_type": "code",
      "source": [
        "#visualizing the data\n",
        "plt.scatter(X, y)"
      ],
      "metadata": {
        "colab": {
          "base_uri": "https://localhost:8080/",
          "height": 287
        },
        "id": "wlGaxIpVzzfD",
        "outputId": "6d6c430f-947b-4a4e-e2c0-465ce8a2d279"
      },
      "execution_count": null,
      "outputs": [
        {
          "output_type": "execute_result",
          "data": {
            "text/plain": [
              "<matplotlib.collections.PathCollection at 0x7f7235bda790>"
            ]
          },
          "metadata": {},
          "execution_count": 4
        },
        {
          "output_type": "display_data",
          "data": {
            "text/plain": [
              "<Figure size 432x288 with 1 Axes>"
            ],
            "image/png": "[encoded data removed]"
          },
          "metadata": {
            "needs_background": "light"
          }
        }
      ]
    },
    {
      "cell_type": "code",
      "source": [
        "# we have found relation between X and y\n",
        "y = X + 10\n",
        "y"
      ],
      "metadata": {
        "colab": {
          "base_uri": "https://localhost:8080/"
        },
        "id": "qbrwiVxx1dUW",
        "outputId": "6c75859c-5b3d-4ce4-b45a-844d45635534"
      },
      "execution_count": null,
      "outputs": [
        {
          "output_type": "execute_result",
          "data": {
            "text/plain": [
              "array([ 3.,  6.,  9., 12., 15., 18., 21., 24.])"
            ]
          },
          "metadata": {},
          "execution_count": 5
        }
      ]
    },
    {
      "cell_type": "code",
      "source": [
        "# check the relationship\n",
        "y == X + 10"
      ],
      "metadata": {
        "colab": {
          "base_uri": "https://localhost:8080/"
        },
        "id": "bAuW3cRW1nx5",
        "outputId": "e9f081b3-0184-43fa-8710-51833365a853"
      },
      "execution_count": null,
      "outputs": [
        {
          "output_type": "execute_result",
          "data": {
            "text/plain": [
              "array([ True,  True,  True,  True,  True,  True,  True,  True])"
            ]
          },
          "metadata": {},
          "execution_count": 6
        }
      ]
    },
    {
      "cell_type": "code",
      "source": [
        "#uniformity in randomness\n",
        "tf.random.set_seed(42)\n",
        "\n",
        "#keras layers \n",
        "model1 = tf.keras.Sequential([\n",
        "    tf.keras.layers.Dense(1)\n",
        "])\n",
        "\n",
        "# COnfigure the model\n",
        "model1.compile(\n",
        "    loss = tf.keras.losses.mae,\n",
        "    optimizer = tf.keras.optimizers.SGD(),\n",
        "    metrics = [\"mae\"]\n",
        ")\n",
        "\n",
        "# train the model\n",
        "model1.fit(tf.expand_dims(X, axis = -1), y, epochs = 5)"
      ],
      "metadata": {
        "colab": {
          "base_uri": "https://localhost:8080/"
        },
        "id": "eJ3iToqh2hci",
        "outputId": "6099607a-27df-4e42-b4bc-9ab0c4d3043c"
      },
      "execution_count": null,
      "outputs": [
        {
          "output_type": "stream",
          "name": "stdout",
          "text": [
            "Epoch 1/5\n",
            "1/1 [==============================] - 1s 630ms/step - loss: 11.5048 - mae: 11.5048\n",
            "Epoch 2/5\n",
            "1/1 [==============================] - 0s 9ms/step - loss: 11.3723 - mae: 11.3723\n",
            "Epoch 3/5\n",
            "1/1 [==============================] - 0s 8ms/step - loss: 11.2398 - mae: 11.2398\n",
            "Epoch 4/5\n",
            "1/1 [==============================] - 0s 8ms/step - loss: 11.1073 - mae: 11.1073\n",
            "Epoch 5/5\n",
            "1/1 [==============================] - 0s 9ms/step - loss: 10.9748 - mae: 10.9748\n"
          ]
        },
        {
          "output_type": "execute_result",
          "data": {
            "text/plain": [
              "<keras.callbacks.History at 0x7f7231116040>"
            ]
          },
          "metadata": {},
          "execution_count": 7
        }
      ]
    },
    {
      "cell_type": "code",
      "source": [
        "model1.predict([17.0])"
      ],
      "metadata": {
        "colab": {
          "base_uri": "https://localhost:8080/"
        },
        "id": "Y8TkrfI791Nj",
        "outputId": "37eaa28f-f568-4a20-a7ed-5615005659e2"
      },
      "execution_count": null,
      "outputs": [
        {
          "output_type": "stream",
          "name": "stdout",
          "text": [
            "1/1 [==============================] - 0s 107ms/step\n"
          ]
        },
        {
          "output_type": "execute_result",
          "data": {
            "text/plain": [
              "array([[12.716021]], dtype=float32)"
            ]
          },
          "metadata": {},
          "execution_count": 8
        }
      ]
    },
    {
      "cell_type": "code",
      "source": [
        "# Revision 1 . Imrpoving the model\n",
        "# Increasing the epochs\n",
        "# Adding dense layer with few more neurons\n",
        "# Changing optimizer\n",
        "# Changing the learning rate\n",
        "\n",
        "#uniformity in randomness\n",
        "tf.random.set_seed(42)\n",
        "\n",
        "#keras layers \n",
        "model2 = tf.keras.Sequential([\n",
        "      tf.keras.layers.Dense(50, activation = 'relu'),\n",
        "       tf.keras.layers.Dense(175, activation = 'relu'),\n",
        "        tf.keras.layers.Dense(250, activation = 'relu'),\n",
        "    tf.keras.layers.Dense(1000, activation = 'relu'),\n",
        "    tf.keras.layers.Dense(500, activation = 'relu'),\n",
        "   \n",
        "   \n",
        "  \n",
        "    tf.keras.layers.Dense(1),\n",
        "])\n",
        "\n",
        "# Configure the model\n",
        "model2.compile(\n",
        "    loss = tf.keras.losses.mae,\n",
        "    optimizer = tf.keras.optimizers.Adam(learning_rate=0.001),\n",
        "    metrics = [\"mae\"]\n",
        ")\n",
        "\n",
        "# train the model\n",
        "model2.fit(tf.expand_dims(X, axis = -1), y, epochs = 200)"
      ],
      "metadata": {
        "colab": {
          "base_uri": "https://localhost:8080/"
        },
        "id": "d948-uQNROMs",
        "outputId": "2ea24a5e-f83b-41d6-cd4f-117e3a1c33a6"
      },
      "execution_count": null,
      "outputs": [
        {
          "output_type": "stream",
          "name": "stdout",
          "text": [
            "Epoch 1/200\n",
            "1/1 [==============================] - 2s 2s/step - loss: 13.5296 - mae: 13.5296\n",
            "Epoch 2/200\n",
            "1/1 [==============================] - 0s 28ms/step - loss: 13.0232 - mae: 13.0232\n",
            "Epoch 3/200\n",
            "1/1 [==============================] - 0s 27ms/step - loss: 12.4508 - mae: 12.4508\n",
            "Epoch 4/200\n",
            "1/1 [==============================] - 0s 21ms/step - loss: 11.6927 - mae: 11.6927\n",
            "Epoch 5/200\n",
            "1/1 [==============================] - 0s 20ms/step - loss: 10.8798 - mae: 10.8798\n",
            "Epoch 6/200\n",
            "1/1 [==============================] - 0s 33ms/step - loss: 9.8879 - mae: 9.8879\n",
            "Epoch 7/200\n",
            "1/1 [==============================] - 0s 21ms/step - loss: 8.5281 - mae: 8.5281\n",
            "Epoch 8/200\n",
            "1/1 [==============================] - 0s 36ms/step - loss: 6.6767 - mae: 6.6767\n",
            "Epoch 9/200\n",
            "1/1 [==============================] - 0s 25ms/step - loss: 4.3101 - mae: 4.3101\n",
            "Epoch 10/200\n",
            "1/1 [==============================] - 0s 27ms/step - loss: 4.8207 - mae: 4.8207\n",
            "Epoch 11/200\n",
            "1/1 [==============================] - 0s 26ms/step - loss: 5.7456 - mae: 5.7456\n",
            "Epoch 12/200\n",
            "1/1 [==============================] - 0s 49ms/step - loss: 5.8202 - mae: 5.8202\n",
            "Epoch 13/200\n",
            "1/1 [==============================] - 0s 27ms/step - loss: 5.3008 - mae: 5.3008\n",
            "Epoch 14/200\n",
            "1/1 [==============================] - 0s 25ms/step - loss: 4.4428 - mae: 4.4428\n",
            "Epoch 15/200\n",
            "1/1 [==============================] - 0s 28ms/step - loss: 3.9579 - mae: 3.9579\n",
            "Epoch 16/200\n",
            "1/1 [==============================] - 0s 37ms/step - loss: 4.3317 - mae: 4.3317\n",
            "Epoch 17/200\n",
            "1/1 [==============================] - 0s 33ms/step - loss: 4.7685 - mae: 4.7685\n",
            "Epoch 18/200\n",
            "1/1 [==============================] - 0s 38ms/step - loss: 4.6780 - mae: 4.6780\n",
            "Epoch 19/200\n",
            "1/1 [==============================] - 0s 46ms/step - loss: 4.2314 - mae: 4.2314\n",
            "Epoch 20/200\n",
            "1/1 [==============================] - 0s 26ms/step - loss: 3.8066 - mae: 3.8066\n",
            "Epoch 21/200\n",
            "1/1 [==============================] - 0s 23ms/step - loss: 3.9844 - mae: 3.9844\n",
            "Epoch 22/200\n",
            "1/1 [==============================] - 0s 29ms/step - loss: 4.3557 - mae: 4.3557\n",
            "Epoch 23/200\n",
            "1/1 [==============================] - 0s 28ms/step - loss: 4.5824 - mae: 4.5824\n",
            "Epoch 24/200\n",
            "1/1 [==============================] - 0s 35ms/step - loss: 4.4964 - mae: 4.4964\n",
            "Epoch 25/200\n",
            "1/1 [==============================] - 0s 36ms/step - loss: 4.1517 - mae: 4.1517\n",
            "Epoch 26/200\n",
            "1/1 [==============================] - 0s 35ms/step - loss: 3.8844 - mae: 3.8844\n",
            "Epoch 27/200\n",
            "1/1 [==============================] - 0s 30ms/step - loss: 3.6777 - mae: 3.6777\n",
            "Epoch 28/200\n",
            "1/1 [==============================] - 0s 28ms/step - loss: 3.8949 - mae: 3.8949\n",
            "Epoch 29/200\n",
            "1/1 [==============================] - 0s 37ms/step - loss: 4.3408 - mae: 4.3408\n",
            "Epoch 30/200\n",
            "1/1 [==============================] - 0s 30ms/step - loss: 4.3643 - mae: 4.3643\n",
            "Epoch 31/200\n",
            "1/1 [==============================] - 0s 23ms/step - loss: 3.9687 - mae: 3.9687\n",
            "Epoch 32/200\n",
            "1/1 [==============================] - 0s 40ms/step - loss: 3.6164 - mae: 3.6164\n",
            "Epoch 33/200\n",
            "1/1 [==============================] - 0s 36ms/step - loss: 3.6856 - mae: 3.6856\n",
            "Epoch 34/200\n",
            "1/1 [==============================] - 0s 37ms/step - loss: 3.8480 - mae: 3.8480\n",
            "Epoch 35/200\n",
            "1/1 [==============================] - 0s 21ms/step - loss: 4.0001 - mae: 4.0001\n",
            "Epoch 36/200\n",
            "1/1 [==============================] - 0s 38ms/step - loss: 3.8841 - mae: 3.8841\n",
            "Epoch 37/200\n",
            "1/1 [==============================] - 0s 24ms/step - loss: 3.6614 - mae: 3.6614\n",
            "Epoch 38/200\n",
            "1/1 [==============================] - 0s 20ms/step - loss: 3.5110 - mae: 3.5110\n",
            "Epoch 39/200\n",
            "1/1 [==============================] - 0s 14ms/step - loss: 3.3627 - mae: 3.3627\n",
            "Epoch 40/200\n",
            "1/1 [==============================] - 0s 16ms/step - loss: 3.5140 - mae: 3.5140\n",
            "Epoch 41/200\n",
            "1/1 [==============================] - 0s 26ms/step - loss: 3.6498 - mae: 3.6498\n",
            "Epoch 42/200\n",
            "1/1 [==============================] - 0s 28ms/step - loss: 3.5040 - mae: 3.5040\n",
            "Epoch 43/200\n",
            "1/1 [==============================] - 0s 27ms/step - loss: 3.3441 - mae: 3.3441\n",
            "Epoch 44/200\n",
            "1/1 [==============================] - 0s 25ms/step - loss: 3.1514 - mae: 3.1514\n",
            "Epoch 45/200\n",
            "1/1 [==============================] - 0s 22ms/step - loss: 3.1528 - mae: 3.1528\n",
            "Epoch 46/200\n",
            "1/1 [==============================] - 0s 31ms/step - loss: 3.1228 - mae: 3.1228\n",
            "Epoch 47/200\n",
            "1/1 [==============================] - 0s 25ms/step - loss: 3.0573 - mae: 3.0573\n",
            "Epoch 48/200\n",
            "1/1 [==============================] - 0s 32ms/step - loss: 2.9598 - mae: 2.9598\n",
            "Epoch 49/200\n",
            "1/1 [==============================] - 0s 24ms/step - loss: 2.8242 - mae: 2.8242\n",
            "Epoch 50/200\n",
            "1/1 [==============================] - 0s 25ms/step - loss: 2.6462 - mae: 2.6462\n",
            "Epoch 51/200\n",
            "1/1 [==============================] - 0s 21ms/step - loss: 2.4828 - mae: 2.4828\n",
            "Epoch 52/200\n",
            "1/1 [==============================] - 0s 23ms/step - loss: 2.2999 - mae: 2.2999\n",
            "Epoch 53/200\n",
            "1/1 [==============================] - 0s 26ms/step - loss: 2.1449 - mae: 2.1449\n",
            "Epoch 54/200\n",
            "1/1 [==============================] - 0s 25ms/step - loss: 1.9308 - mae: 1.9308\n",
            "Epoch 55/200\n",
            "1/1 [==============================] - 0s 24ms/step - loss: 1.9707 - mae: 1.9707\n",
            "Epoch 56/200\n",
            "1/1 [==============================] - 0s 30ms/step - loss: 1.6650 - mae: 1.6650\n",
            "Epoch 57/200\n",
            "1/1 [==============================] - 0s 25ms/step - loss: 1.2480 - mae: 1.2480\n",
            "Epoch 58/200\n",
            "1/1 [==============================] - 0s 47ms/step - loss: 0.9426 - mae: 0.9426\n",
            "Epoch 59/200\n",
            "1/1 [==============================] - 0s 23ms/step - loss: 0.6767 - mae: 0.6767\n",
            "Epoch 60/200\n",
            "1/1 [==============================] - 0s 36ms/step - loss: 0.8016 - mae: 0.8016\n",
            "Epoch 61/200\n",
            "1/1 [==============================] - 0s 51ms/step - loss: 0.8644 - mae: 0.8644\n",
            "Epoch 62/200\n",
            "1/1 [==============================] - 0s 46ms/step - loss: 0.4659 - mae: 0.4659\n",
            "Epoch 63/200\n",
            "1/1 [==============================] - 0s 18ms/step - loss: 1.3946 - mae: 1.3946\n",
            "Epoch 64/200\n",
            "1/1 [==============================] - 0s 39ms/step - loss: 0.5243 - mae: 0.5243\n",
            "Epoch 65/200\n",
            "1/1 [==============================] - 0s 30ms/step - loss: 0.6441 - mae: 0.6441\n",
            "Epoch 66/200\n",
            "1/1 [==============================] - 0s 35ms/step - loss: 1.0112 - mae: 1.0112\n",
            "Epoch 67/200\n",
            "1/1 [==============================] - 0s 31ms/step - loss: 0.4699 - mae: 0.4699\n",
            "Epoch 68/200\n",
            "1/1 [==============================] - 0s 25ms/step - loss: 0.6082 - mae: 0.6082\n",
            "Epoch 69/200\n",
            "1/1 [==============================] - 0s 27ms/step - loss: 0.7608 - mae: 0.7608\n",
            "Epoch 70/200\n",
            "1/1 [==============================] - 0s 26ms/step - loss: 0.3341 - mae: 0.3341\n",
            "Epoch 71/200\n",
            "1/1 [==============================] - 0s 25ms/step - loss: 0.5419 - mae: 0.5419\n",
            "Epoch 72/200\n",
            "1/1 [==============================] - 0s 25ms/step - loss: 0.4098 - mae: 0.4098\n",
            "Epoch 73/200\n",
            "1/1 [==============================] - 0s 36ms/step - loss: 0.3462 - mae: 0.3462\n",
            "Epoch 74/200\n",
            "1/1 [==============================] - 0s 30ms/step - loss: 0.2863 - mae: 0.2863\n",
            "Epoch 75/200\n",
            "1/1 [==============================] - 0s 62ms/step - loss: 0.7053 - mae: 0.7053\n",
            "Epoch 76/200\n",
            "1/1 [==============================] - 0s 40ms/step - loss: 0.4443 - mae: 0.4443\n",
            "Epoch 77/200\n",
            "1/1 [==============================] - 0s 22ms/step - loss: 0.8334 - mae: 0.8334\n",
            "Epoch 78/200\n",
            "1/1 [==============================] - 0s 26ms/step - loss: 0.9333 - mae: 0.9333\n",
            "Epoch 79/200\n",
            "1/1 [==============================] - 0s 26ms/step - loss: 0.2236 - mae: 0.2236\n",
            "Epoch 80/200\n",
            "1/1 [==============================] - 0s 22ms/step - loss: 0.6861 - mae: 0.6861\n",
            "Epoch 81/200\n",
            "1/1 [==============================] - 0s 38ms/step - loss: 0.3581 - mae: 0.3581\n",
            "Epoch 82/200\n",
            "1/1 [==============================] - 0s 21ms/step - loss: 1.2894 - mae: 1.2894\n",
            "Epoch 83/200\n",
            "1/1 [==============================] - 0s 95ms/step - loss: 1.3577 - mae: 1.3577\n",
            "Epoch 84/200\n",
            "1/1 [==============================] - 0s 40ms/step - loss: 0.7010 - mae: 0.7010\n",
            "Epoch 85/200\n",
            "1/1 [==============================] - 0s 42ms/step - loss: 1.0369 - mae: 1.0369\n",
            "Epoch 86/200\n",
            "1/1 [==============================] - 0s 41ms/step - loss: 1.2157 - mae: 1.2157\n",
            "Epoch 87/200\n",
            "1/1 [==============================] - 0s 45ms/step - loss: 0.3348 - mae: 0.3348\n",
            "Epoch 88/200\n",
            "1/1 [==============================] - 0s 36ms/step - loss: 1.3144 - mae: 1.3144\n",
            "Epoch 89/200\n",
            "1/1 [==============================] - 0s 41ms/step - loss: 1.8285 - mae: 1.8285\n",
            "Epoch 90/200\n",
            "1/1 [==============================] - 0s 48ms/step - loss: 1.5266 - mae: 1.5266\n",
            "Epoch 91/200\n",
            "1/1 [==============================] - 0s 46ms/step - loss: 0.4857 - mae: 0.4857\n",
            "Epoch 92/200\n",
            "1/1 [==============================] - 0s 48ms/step - loss: 1.3528 - mae: 1.3528\n",
            "Epoch 93/200\n",
            "1/1 [==============================] - 0s 45ms/step - loss: 2.0307 - mae: 2.0307\n",
            "Epoch 94/200\n",
            "1/1 [==============================] - 0s 48ms/step - loss: 1.6016 - mae: 1.6016\n",
            "Epoch 95/200\n",
            "1/1 [==============================] - 0s 45ms/step - loss: 0.5348 - mae: 0.5348\n",
            "Epoch 96/200\n",
            "1/1 [==============================] - 0s 43ms/step - loss: 1.3002 - mae: 1.3002\n",
            "Epoch 97/200\n",
            "1/1 [==============================] - 0s 42ms/step - loss: 1.9437 - mae: 1.9437\n",
            "Epoch 98/200\n",
            "1/1 [==============================] - 0s 40ms/step - loss: 1.8751 - mae: 1.8751\n",
            "Epoch 99/200\n",
            "1/1 [==============================] - 0s 46ms/step - loss: 1.2104 - mae: 1.2104\n",
            "Epoch 100/200\n",
            "1/1 [==============================] - 0s 42ms/step - loss: 0.4407 - mae: 0.4407\n",
            "Epoch 101/200\n",
            "1/1 [==============================] - 0s 43ms/step - loss: 1.4906 - mae: 1.4906\n",
            "Epoch 102/200\n",
            "1/1 [==============================] - 0s 47ms/step - loss: 1.8028 - mae: 1.8028\n",
            "Epoch 103/200\n",
            "1/1 [==============================] - 0s 52ms/step - loss: 1.1997 - mae: 1.1997\n",
            "Epoch 104/200\n",
            "1/1 [==============================] - 0s 41ms/step - loss: 0.4653 - mae: 0.4653\n",
            "Epoch 105/200\n",
            "1/1 [==============================] - 0s 46ms/step - loss: 1.1349 - mae: 1.1349\n",
            "Epoch 106/200\n",
            "1/1 [==============================] - 0s 39ms/step - loss: 1.3884 - mae: 1.3884\n",
            "Epoch 107/200\n",
            "1/1 [==============================] - 0s 29ms/step - loss: 0.9982 - mae: 0.9982\n",
            "Epoch 108/200\n",
            "1/1 [==============================] - 0s 21ms/step - loss: 0.4145 - mae: 0.4145\n",
            "Epoch 109/200\n",
            "1/1 [==============================] - 0s 26ms/step - loss: 0.7582 - mae: 0.7582\n",
            "Epoch 110/200\n",
            "1/1 [==============================] - 0s 37ms/step - loss: 0.6210 - mae: 0.6210\n",
            "Epoch 111/200\n",
            "1/1 [==============================] - 0s 22ms/step - loss: 0.3872 - mae: 0.3872\n",
            "Epoch 112/200\n",
            "1/1 [==============================] - 0s 31ms/step - loss: 0.5104 - mae: 0.5104\n",
            "Epoch 113/200\n",
            "1/1 [==============================] - 0s 30ms/step - loss: 0.2177 - mae: 0.2177\n",
            "Epoch 114/200\n",
            "1/1 [==============================] - 0s 26ms/step - loss: 0.5353 - mae: 0.5353\n",
            "Epoch 115/200\n",
            "1/1 [==============================] - 0s 34ms/step - loss: 0.4229 - mae: 0.4229\n",
            "Epoch 116/200\n",
            "1/1 [==============================] - 0s 27ms/step - loss: 0.3701 - mae: 0.3701\n",
            "Epoch 117/200\n",
            "1/1 [==============================] - 0s 44ms/step - loss: 0.4565 - mae: 0.4565\n",
            "Epoch 118/200\n",
            "1/1 [==============================] - 0s 34ms/step - loss: 0.2062 - mae: 0.2062\n",
            "Epoch 119/200\n",
            "1/1 [==============================] - 0s 22ms/step - loss: 0.2421 - mae: 0.2421\n",
            "Epoch 120/200\n",
            "1/1 [==============================] - 0s 31ms/step - loss: 0.2102 - mae: 0.2102\n",
            "Epoch 121/200\n",
            "1/1 [==============================] - 0s 27ms/step - loss: 0.2311 - mae: 0.2311\n",
            "Epoch 122/200\n",
            "1/1 [==============================] - 0s 21ms/step - loss: 0.2584 - mae: 0.2584\n",
            "Epoch 123/200\n",
            "1/1 [==============================] - 0s 25ms/step - loss: 0.1235 - mae: 0.1235\n",
            "Epoch 124/200\n",
            "1/1 [==============================] - 0s 23ms/step - loss: 0.1553 - mae: 0.1553\n",
            "Epoch 125/200\n",
            "1/1 [==============================] - 0s 19ms/step - loss: 0.1376 - mae: 0.1376\n",
            "Epoch 126/200\n",
            "1/1 [==============================] - 0s 22ms/step - loss: 0.3090 - mae: 0.3090\n",
            "Epoch 127/200\n",
            "1/1 [==============================] - 0s 19ms/step - loss: 0.1036 - mae: 0.1036\n",
            "Epoch 128/200\n",
            "1/1 [==============================] - 0s 21ms/step - loss: 0.6828 - mae: 0.6828\n",
            "Epoch 129/200\n",
            "1/1 [==============================] - 0s 27ms/step - loss: 0.6772 - mae: 0.6772\n",
            "Epoch 130/200\n",
            "1/1 [==============================] - 0s 25ms/step - loss: 0.1399 - mae: 0.1399\n",
            "Epoch 131/200\n",
            "1/1 [==============================] - 0s 26ms/step - loss: 0.1369 - mae: 0.1369\n",
            "Epoch 132/200\n",
            "1/1 [==============================] - 0s 30ms/step - loss: 0.4471 - mae: 0.4471\n",
            "Epoch 133/200\n",
            "1/1 [==============================] - 0s 35ms/step - loss: 0.2176 - mae: 0.2176\n",
            "Epoch 134/200\n",
            "1/1 [==============================] - 0s 33ms/step - loss: 0.8085 - mae: 0.8085\n",
            "Epoch 135/200\n",
            "1/1 [==============================] - 0s 28ms/step - loss: 1.0061 - mae: 1.0061\n",
            "Epoch 136/200\n",
            "1/1 [==============================] - 0s 27ms/step - loss: 0.6188 - mae: 0.6188\n",
            "Epoch 137/200\n",
            "1/1 [==============================] - 0s 29ms/step - loss: 0.4348 - mae: 0.4348\n",
            "Epoch 138/200\n",
            "1/1 [==============================] - 0s 31ms/step - loss: 0.6965 - mae: 0.6965\n",
            "Epoch 139/200\n",
            "1/1 [==============================] - 0s 29ms/step - loss: 0.3879 - mae: 0.3879\n",
            "Epoch 140/200\n",
            "1/1 [==============================] - 0s 33ms/step - loss: 0.5447 - mae: 0.5447\n",
            "Epoch 141/200\n",
            "1/1 [==============================] - 0s 33ms/step - loss: 0.7716 - mae: 0.7716\n",
            "Epoch 142/200\n",
            "1/1 [==============================] - 0s 33ms/step - loss: 0.4749 - mae: 0.4749\n",
            "Epoch 143/200\n",
            "1/1 [==============================] - 0s 26ms/step - loss: 0.4161 - mae: 0.4161\n",
            "Epoch 144/200\n",
            "1/1 [==============================] - 0s 31ms/step - loss: 0.5681 - mae: 0.5681\n",
            "Epoch 145/200\n",
            "1/1 [==============================] - 0s 32ms/step - loss: 0.1950 - mae: 0.1950\n",
            "Epoch 146/200\n",
            "1/1 [==============================] - 0s 32ms/step - loss: 0.6266 - mae: 0.6266\n",
            "Epoch 147/200\n",
            "1/1 [==============================] - 0s 27ms/step - loss: 0.5857 - mae: 0.5857\n",
            "Epoch 148/200\n",
            "1/1 [==============================] - 0s 32ms/step - loss: 0.1764 - mae: 0.1764\n",
            "Epoch 149/200\n",
            "1/1 [==============================] - 0s 27ms/step - loss: 0.6675 - mae: 0.6675\n",
            "Epoch 150/200\n",
            "1/1 [==============================] - 0s 29ms/step - loss: 0.5756 - mae: 0.5756\n",
            "Epoch 151/200\n",
            "1/1 [==============================] - 0s 28ms/step - loss: 0.1832 - mae: 0.1832\n",
            "Epoch 152/200\n",
            "1/1 [==============================] - 0s 26ms/step - loss: 0.4847 - mae: 0.4847\n",
            "Epoch 153/200\n",
            "1/1 [==============================] - 0s 31ms/step - loss: 0.1599 - mae: 0.1599\n",
            "Epoch 154/200\n",
            "1/1 [==============================] - 0s 30ms/step - loss: 0.7301 - mae: 0.7301\n",
            "Epoch 155/200\n",
            "1/1 [==============================] - 0s 31ms/step - loss: 0.9152 - mae: 0.9152\n",
            "Epoch 156/200\n",
            "1/1 [==============================] - 0s 33ms/step - loss: 0.3873 - mae: 0.3873\n",
            "Epoch 157/200\n",
            "1/1 [==============================] - 0s 29ms/step - loss: 0.7270 - mae: 0.7270\n",
            "Epoch 158/200\n",
            "1/1 [==============================] - 0s 23ms/step - loss: 1.1074 - mae: 1.1074\n",
            "Epoch 159/200\n",
            "1/1 [==============================] - 0s 26ms/step - loss: 0.9116 - mae: 0.9116\n",
            "Epoch 160/200\n",
            "1/1 [==============================] - 0s 19ms/step - loss: 0.2177 - mae: 0.2177\n",
            "Epoch 161/200\n",
            "1/1 [==============================] - 0s 26ms/step - loss: 0.9486 - mae: 0.9486\n",
            "Epoch 162/200\n",
            "1/1 [==============================] - 0s 22ms/step - loss: 1.2829 - mae: 1.2829\n",
            "Epoch 163/200\n",
            "1/1 [==============================] - 0s 19ms/step - loss: 0.9114 - mae: 0.9114\n",
            "Epoch 164/200\n",
            "1/1 [==============================] - 0s 30ms/step - loss: 0.1545 - mae: 0.1545\n",
            "Epoch 165/200\n",
            "1/1 [==============================] - 0s 20ms/step - loss: 1.0182 - mae: 1.0182\n",
            "Epoch 166/200\n",
            "1/1 [==============================] - 0s 24ms/step - loss: 1.3660 - mae: 1.3660\n",
            "Epoch 167/200\n",
            "1/1 [==============================] - 0s 29ms/step - loss: 1.2832 - mae: 1.2832\n",
            "Epoch 168/200\n",
            "1/1 [==============================] - 0s 20ms/step - loss: 0.7696 - mae: 0.7696\n",
            "Epoch 169/200\n",
            "1/1 [==============================] - 0s 22ms/step - loss: 0.3724 - mae: 0.3724\n",
            "Epoch 170/200\n",
            "1/1 [==============================] - 0s 18ms/step - loss: 0.6755 - mae: 0.6755\n",
            "Epoch 171/200\n",
            "1/1 [==============================] - 0s 23ms/step - loss: 0.4467 - mae: 0.4467\n",
            "Epoch 172/200\n",
            "1/1 [==============================] - 0s 28ms/step - loss: 0.4409 - mae: 0.4409\n",
            "Epoch 173/200\n",
            "1/1 [==============================] - 0s 26ms/step - loss: 0.5649 - mae: 0.5649\n",
            "Epoch 174/200\n",
            "1/1 [==============================] - 0s 26ms/step - loss: 0.1662 - mae: 0.1662\n",
            "Epoch 175/200\n",
            "1/1 [==============================] - 0s 24ms/step - loss: 0.5831 - mae: 0.5831\n",
            "Epoch 176/200\n",
            "1/1 [==============================] - 0s 21ms/step - loss: 0.6094 - mae: 0.6094\n",
            "Epoch 177/200\n",
            "1/1 [==============================] - 0s 20ms/step - loss: 0.1647 - mae: 0.1647\n",
            "Epoch 178/200\n",
            "1/1 [==============================] - 0s 24ms/step - loss: 0.4307 - mae: 0.4307\n",
            "Epoch 179/200\n",
            "1/1 [==============================] - 0s 20ms/step - loss: 0.2400 - mae: 0.2400\n",
            "Epoch 180/200\n",
            "1/1 [==============================] - 0s 28ms/step - loss: 0.5030 - mae: 0.5030\n",
            "Epoch 181/200\n",
            "1/1 [==============================] - 0s 30ms/step - loss: 0.6076 - mae: 0.6076\n",
            "Epoch 182/200\n",
            "1/1 [==============================] - 0s 29ms/step - loss: 0.1870 - mae: 0.1870\n",
            "Epoch 183/200\n",
            "1/1 [==============================] - 0s 26ms/step - loss: 0.7193 - mae: 0.7193\n",
            "Epoch 184/200\n",
            "1/1 [==============================] - 0s 22ms/step - loss: 0.9930 - mae: 0.9930\n",
            "Epoch 185/200\n",
            "1/1 [==============================] - 0s 21ms/step - loss: 0.8208 - mae: 0.8208\n",
            "Epoch 186/200\n",
            "1/1 [==============================] - 0s 24ms/step - loss: 0.2481 - mae: 0.2481\n",
            "Epoch 187/200\n",
            "1/1 [==============================] - 0s 19ms/step - loss: 0.9040 - mae: 0.9040\n",
            "Epoch 188/200\n",
            "1/1 [==============================] - 0s 15ms/step - loss: 1.2836 - mae: 1.2836\n",
            "Epoch 189/200\n",
            "1/1 [==============================] - 0s 26ms/step - loss: 1.0667 - mae: 1.0667\n",
            "Epoch 190/200\n",
            "1/1 [==============================] - 0s 15ms/step - loss: 0.4204 - mae: 0.4204\n",
            "Epoch 191/200\n",
            "1/1 [==============================] - 0s 29ms/step - loss: 0.8959 - mae: 0.8959\n",
            "Epoch 192/200\n",
            "1/1 [==============================] - 0s 23ms/step - loss: 1.3012 - mae: 1.3012\n",
            "Epoch 193/200\n",
            "1/1 [==============================] - 0s 20ms/step - loss: 1.2153 - mae: 1.2153\n",
            "Epoch 194/200\n",
            "1/1 [==============================] - 0s 18ms/step - loss: 0.7902 - mae: 0.7902\n",
            "Epoch 195/200\n",
            "1/1 [==============================] - 0s 18ms/step - loss: 0.3185 - mae: 0.3185\n",
            "Epoch 196/200\n",
            "1/1 [==============================] - 0s 17ms/step - loss: 0.6216 - mae: 0.6216\n",
            "Epoch 197/200\n",
            "1/1 [==============================] - 0s 22ms/step - loss: 0.3127 - mae: 0.3127\n",
            "Epoch 198/200\n",
            "1/1 [==============================] - 0s 22ms/step - loss: 0.5454 - mae: 0.5454\n",
            "Epoch 199/200\n",
            "1/1 [==============================] - 0s 18ms/step - loss: 0.7932 - mae: 0.7932\n",
            "Epoch 200/200\n",
            "1/1 [==============================] - 0s 19ms/step - loss: 0.5606 - mae: 0.5606\n"
          ]
        },
        {
          "output_type": "execute_result",
          "data": {
            "text/plain": [
              "<keras.callbacks.History at 0x7f722ecf9d60>"
            ]
          },
          "metadata": {},
          "execution_count": 36
        }
      ]
    },
    {
      "cell_type": "code",
      "source": [
        "model2.predict([17.0])"
      ],
      "metadata": {
        "colab": {
          "base_uri": "https://localhost:8080/"
        },
        "id": "KP21MrtYEGvf",
        "outputId": "806d7583-0dfc-464d-ee57-0d478f1efdf6"
      },
      "execution_count": null,
      "outputs": [
        {
          "output_type": "stream",
          "name": "stdout",
          "text": [
            "1/1 [==============================] - 0s 89ms/step\n"
          ]
        },
        {
          "output_type": "execute_result",
          "data": {
            "text/plain": [
              "array([[28.395092]], dtype=float32)"
            ]
          },
          "metadata": {},
          "execution_count": 29
        }
      ]
    }
  ]
}
