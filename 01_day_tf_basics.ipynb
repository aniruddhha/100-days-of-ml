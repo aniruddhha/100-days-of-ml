{
  "nbformat": 4,
  "nbformat_minor": 0,
  "metadata": {
    "colab": {
      "provenance": [],
      "authorship_tag": "ABX9TyOsYnF3dz1Z+MsL02thGocR",
      "include_colab_link": true
    },
    "kernelspec": {
      "name": "python3",
      "display_name": "Python 3"
    },
    "language_info": {
      "name": "python"
    }
  },
  "cells": [
    {
      "cell_type": "markdown",
      "metadata": {
        "id": "view-in-github",
        "colab_type": "text"
      },
      "source": [
        "<a href=\"https://colab.research.google.com/github/aniruddhha/100-days-of-ml/blob/main/01_day_tf_basics.ipynb\" target=\"_parent\"><img src=\"https://colab.research.google.com/assets/colab-badge.svg\" alt=\"Open In Colab\"/></a>"
      ]
    },
    {
      "cell_type": "markdown",
      "source": [
        "# **✅ Working with tensorflow 2.0**"
      ],
      "metadata": {
        "id": "mqtPBbHgywKT"
      }
    },
    {
      "cell_type": "code",
      "source": [
        "import tensorflow as tf\n",
        "print(tf.__version__)"
      ],
      "metadata": {
        "colab": {
          "base_uri": "https://localhost:8080/"
        },
        "id": "3dnEAJhyYT7q",
        "outputId": "0461b276-efaa-4e27-cf1b-264fb3c14b39"
      },
      "execution_count": 2,
      "outputs": [
        {
          "output_type": "stream",
          "name": "stdout",
          "text": [
            "2.9.2\n"
          ]
        }
      ]
    },
    {
      "cell_type": "markdown",
      "source": [
        "# **✅ What is scalar ?**"
      ],
      "metadata": {
        "id": "6UMUIlrny14t"
      }
    },
    {
      "cell_type": "code",
      "source": [
        "scalar = tf.constant(4)\n",
        "scalar"
      ],
      "metadata": {
        "colab": {
          "base_uri": "https://localhost:8080/"
        },
        "id": "hR3Bvd-kYV7x",
        "outputId": "aac72974-9cfe-4c1e-8f3e-e4984b1f7b53"
      },
      "execution_count": 3,
      "outputs": [
        {
          "output_type": "execute_result",
          "data": {
            "text/plain": [
              "<tf.Tensor: shape=(), dtype=int32, numpy=4>"
            ]
          },
          "metadata": {},
          "execution_count": 3
        }
      ]
    },
    {
      "cell_type": "markdown",
      "source": [
        "### **👉 *Dimensions of scalar***"
      ],
      "metadata": {
        "id": "cREyneZ0y9yC"
      }
    },
    {
      "cell_type": "code",
      "source": [
        "scalar.ndim"
      ],
      "metadata": {
        "colab": {
          "base_uri": "https://localhost:8080/"
        },
        "id": "_yvS3KvmkODJ",
        "outputId": "e43b7b83-a8f2-431c-8f15-f9abbb401f93"
      },
      "execution_count": 4,
      "outputs": [
        {
          "output_type": "execute_result",
          "data": {
            "text/plain": [
              "0"
            ]
          },
          "metadata": {},
          "execution_count": 4
        }
      ]
    },
    {
      "cell_type": "markdown",
      "source": [
        "# ✅ **What is Vector**"
      ],
      "metadata": {
        "id": "aGexIjGlzy4n"
      }
    },
    {
      "cell_type": "code",
      "source": [
        "vector = tf.constant([10 , 5])\n",
        "vector "
      ],
      "metadata": {
        "colab": {
          "base_uri": "https://localhost:8080/"
        },
        "id": "C3lCBgeRlPJ_",
        "outputId": "8883cb75-b27a-45e7-8a20-02c6dad8b5cc"
      },
      "execution_count": 5,
      "outputs": [
        {
          "output_type": "execute_result",
          "data": {
            "text/plain": [
              "<tf.Tensor: shape=(2,), dtype=int32, numpy=array([10,  5], dtype=int32)>"
            ]
          },
          "metadata": {},
          "execution_count": 5
        }
      ]
    },
    {
      "cell_type": "markdown",
      "source": [
        "### **👉 *Dimensions of Vector***"
      ],
      "metadata": {
        "id": "eaY_rEjn0BIE"
      }
    },
    {
      "cell_type": "code",
      "source": [
        "vector.ndim"
      ],
      "metadata": {
        "colab": {
          "base_uri": "https://localhost:8080/"
        },
        "id": "EP13vP1blZV8",
        "outputId": "7db6b772-117f-48e3-fa95-239f4c4e7e29"
      },
      "execution_count": 6,
      "outputs": [
        {
          "output_type": "execute_result",
          "data": {
            "text/plain": [
              "1"
            ]
          },
          "metadata": {},
          "execution_count": 6
        }
      ]
    },
    {
      "cell_type": "markdown",
      "source": [
        "# **✅ What is Matrix**"
      ],
      "metadata": {
        "id": "0noVSV670FGF"
      }
    },
    {
      "cell_type": "code",
      "source": [
        "matrix = tf.constant([\n",
        "    [1, 3],\n",
        "    [6, 9]\n",
        "])\n",
        "matrix"
      ],
      "metadata": {
        "colab": {
          "base_uri": "https://localhost:8080/"
        },
        "id": "4j_GA_cRlfJ9",
        "outputId": "da576b37-be94-4e13-c58c-73b47e0c658f"
      },
      "execution_count": 7,
      "outputs": [
        {
          "output_type": "execute_result",
          "data": {
            "text/plain": [
              "<tf.Tensor: shape=(2, 2), dtype=int32, numpy=\n",
              "array([[1, 3],\n",
              "       [6, 9]], dtype=int32)>"
            ]
          },
          "metadata": {},
          "execution_count": 7
        }
      ]
    },
    {
      "cell_type": "markdown",
      "source": [
        "### **👉 *Dimensions of Matrix***"
      ],
      "metadata": {
        "id": "51NUxDRt0MhY"
      }
    },
    {
      "cell_type": "code",
      "source": [
        "matrix.ndim"
      ],
      "metadata": {
        "colab": {
          "base_uri": "https://localhost:8080/"
        },
        "id": "kOzJsY1TlnRl",
        "outputId": "57429afc-5e99-4999-bbe2-90174cba4c98"
      },
      "execution_count": 8,
      "outputs": [
        {
          "output_type": "execute_result",
          "data": {
            "text/plain": [
              "2"
            ]
          },
          "metadata": {},
          "execution_count": 8
        }
      ]
    },
    {
      "cell_type": "code",
      "source": [
        "matrix_one = tf.constant([\n",
        "    [8., 0.9, 7.0],\n",
        "    [6, 7, 8],\n",
        "    [52.34, 67.45, 89.45]\n",
        "])\n",
        "\n",
        "matrix_one"
      ],
      "metadata": {
        "colab": {
          "base_uri": "https://localhost:8080/"
        },
        "id": "9BByS_2Pl1Xp",
        "outputId": "44e60fa6-5b91-4b0a-aefd-7f632d66bbe7"
      },
      "execution_count": 9,
      "outputs": [
        {
          "output_type": "execute_result",
          "data": {
            "text/plain": [
              "<tf.Tensor: shape=(3, 3), dtype=float32, numpy=\n",
              "array([[ 8.  ,  0.9 ,  7.  ],\n",
              "       [ 6.  ,  7.  ,  8.  ],\n",
              "       [52.34, 67.45, 89.45]], dtype=float32)>"
            ]
          },
          "metadata": {},
          "execution_count": 9
        }
      ]
    },
    {
      "cell_type": "code",
      "source": [
        "matrix_one.ndim"
      ],
      "metadata": {
        "colab": {
          "base_uri": "https://localhost:8080/"
        },
        "id": "aw9P-fjbmXtv",
        "outputId": "c95ae586-d4ae-4fb1-91ad-2a466c8902c7"
      },
      "execution_count": 10,
      "outputs": [
        {
          "output_type": "execute_result",
          "data": {
            "text/plain": [
              "2"
            ]
          },
          "metadata": {},
          "execution_count": 10
        }
      ]
    },
    {
      "cell_type": "markdown",
      "source": [
        "# **✅ What is Tensor**"
      ],
      "metadata": {
        "id": "0l7zS_jN0WwT"
      }
    },
    {
      "cell_type": "code",
      "source": [
        "tensor1 = tf.constant([\n",
        "    [\n",
        "        [1, 3, 4],\n",
        "        [2, 4,5]\n",
        "    ],\n",
        "    [\n",
        "        [1, 5, 7],\n",
        "        [6, 9, 0]  \n",
        "    ],\n",
        "    [\n",
        "        [1, 4, 0],\n",
        "        [2, 4, 5]\n",
        "    ]\n",
        "])\n",
        "tensor1"
      ],
      "metadata": {
        "colab": {
          "base_uri": "https://localhost:8080/"
        },
        "id": "jHGLs592mosK",
        "outputId": "a117d2dc-10be-4bf0-b8d0-75e03ec83b8b"
      },
      "execution_count": 11,
      "outputs": [
        {
          "output_type": "execute_result",
          "data": {
            "text/plain": [
              "<tf.Tensor: shape=(3, 2, 3), dtype=int32, numpy=\n",
              "array([[[1, 3, 4],\n",
              "        [2, 4, 5]],\n",
              "\n",
              "       [[1, 5, 7],\n",
              "        [6, 9, 0]],\n",
              "\n",
              "       [[1, 4, 0],\n",
              "        [2, 4, 5]]], dtype=int32)>"
            ]
          },
          "metadata": {},
          "execution_count": 11
        }
      ]
    },
    {
      "cell_type": "markdown",
      "source": [
        "### **👉 *Dimensions of Tensor***"
      ],
      "metadata": {
        "id": "71cjpUg80oJL"
      }
    },
    {
      "cell_type": "code",
      "source": [
        "tensor1.ndim"
      ],
      "metadata": {
        "colab": {
          "base_uri": "https://localhost:8080/"
        },
        "id": "nE0MW9nVoWKc",
        "outputId": "c647a822-4613-431b-8653-2c3edb557e08"
      },
      "execution_count": 12,
      "outputs": [
        {
          "output_type": "execute_result",
          "data": {
            "text/plain": [
              "3"
            ]
          },
          "metadata": {},
          "execution_count": 12
        }
      ]
    },
    {
      "cell_type": "code",
      "source": [
        "# 2, 2, 2, 3, 2\n",
        "tensor2 = tf.constant([\n",
        "    [\n",
        "        [\n",
        "            [\n",
        "              [1,2],\n",
        "              [3,4],\n",
        "              [5,6]\n",
        "            ],\n",
        "            [\n",
        "              [1,2],\n",
        "              [8, 9],\n",
        "              [10, 8]\n",
        "            ],\n",
        "        ],\n",
        "        [\n",
        "           [\n",
        "              [1,2],\n",
        "              [3,4],\n",
        "              [5,6]\n",
        "            ],\n",
        "            [\n",
        "              [1,2],\n",
        "              [8, 9],\n",
        "              [10, 8]\n",
        "            ] \n",
        "        ]\n",
        "    ],\n",
        "    [\n",
        "        [\n",
        "            [\n",
        "              [1,2],\n",
        "              [3,4],\n",
        "              [5,6]\n",
        "            ],\n",
        "            [\n",
        "              [1,2],\n",
        "              [8, 9],\n",
        "              [10, 8]\n",
        "            ],\n",
        "        ],\n",
        "        [\n",
        "           [\n",
        "              [1,2],\n",
        "              [3,4],\n",
        "              [5,6]\n",
        "            ],\n",
        "            [\n",
        "              [1,2],\n",
        "              [8, 9],\n",
        "              [10, 8]\n",
        "            ] \n",
        "        ]\n",
        "    ],\n",
        "\n",
        "])\n",
        "tensor2"
      ],
      "metadata": {
        "colab": {
          "base_uri": "https://localhost:8080/"
        },
        "id": "H8B2Rv8EokOg",
        "outputId": "90684776-43b0-401c-a71f-5a7e0ea03a70"
      },
      "execution_count": 13,
      "outputs": [
        {
          "output_type": "execute_result",
          "data": {
            "text/plain": [
              "<tf.Tensor: shape=(2, 2, 2, 3, 2), dtype=int32, numpy=\n",
              "array([[[[[ 1,  2],\n",
              "          [ 3,  4],\n",
              "          [ 5,  6]],\n",
              "\n",
              "         [[ 1,  2],\n",
              "          [ 8,  9],\n",
              "          [10,  8]]],\n",
              "\n",
              "\n",
              "        [[[ 1,  2],\n",
              "          [ 3,  4],\n",
              "          [ 5,  6]],\n",
              "\n",
              "         [[ 1,  2],\n",
              "          [ 8,  9],\n",
              "          [10,  8]]]],\n",
              "\n",
              "\n",
              "\n",
              "       [[[[ 1,  2],\n",
              "          [ 3,  4],\n",
              "          [ 5,  6]],\n",
              "\n",
              "         [[ 1,  2],\n",
              "          [ 8,  9],\n",
              "          [10,  8]]],\n",
              "\n",
              "\n",
              "        [[[ 1,  2],\n",
              "          [ 3,  4],\n",
              "          [ 5,  6]],\n",
              "\n",
              "         [[ 1,  2],\n",
              "          [ 8,  9],\n",
              "          [10,  8]]]]], dtype=int32)>"
            ]
          },
          "metadata": {},
          "execution_count": 13
        }
      ]
    },
    {
      "cell_type": "markdown",
      "source": [
        "# **✅ Variables**"
      ],
      "metadata": {
        "id": "EhL4Kiy-075X"
      }
    },
    {
      "cell_type": "code",
      "source": [
        "vr = tf.Variable([7, 8])\n",
        "vr[0]\n",
        "vr[0].assign(8)"
      ],
      "metadata": {
        "colab": {
          "base_uri": "https://localhost:8080/"
        },
        "id": "IYG2-Lkvqza0",
        "outputId": "9ee23823-e67e-4a22-d76a-503ee5f421bc"
      },
      "execution_count": 14,
      "outputs": [
        {
          "output_type": "execute_result",
          "data": {
            "text/plain": [
              "<tf.Variable 'UnreadVariable' shape=(2,) dtype=int32, numpy=array([8, 8], dtype=int32)>"
            ]
          },
          "metadata": {},
          "execution_count": 14
        }
      ]
    },
    {
      "cell_type": "markdown",
      "source": [
        "# **✅ Random Tensors**"
      ],
      "metadata": {
        "id": "eZMcGUze1NVL"
      }
    },
    {
      "cell_type": "code",
      "source": [
        "tf.random.set_seed(42)"
      ],
      "metadata": {
        "id": "-EE8yH8ItJSQ"
      },
      "execution_count": 15,
      "outputs": []
    },
    {
      "cell_type": "code",
      "source": [
        "rnd1 = tf.random.uniform(shape = [2,3])\n",
        "rnd1"
      ],
      "metadata": {
        "colab": {
          "base_uri": "https://localhost:8080/"
        },
        "id": "eQ6Xt-7atKE3",
        "outputId": "1a3d63ad-646c-4f68-842a-21a2687a14b0"
      },
      "execution_count": 16,
      "outputs": [
        {
          "output_type": "execute_result",
          "data": {
            "text/plain": [
              "<tf.Tensor: shape=(2, 3), dtype=float32, numpy=\n",
              "array([[0.6645621 , 0.44100678, 0.3528825 ],\n",
              "       [0.46448255, 0.03366041, 0.68467236]], dtype=float32)>"
            ]
          },
          "metadata": {},
          "execution_count": 16
        }
      ]
    },
    {
      "cell_type": "code",
      "source": [
        "rnd2 = tf.random.normal(shape = [2])\n",
        "rnd2 "
      ],
      "metadata": {
        "colab": {
          "base_uri": "https://localhost:8080/"
        },
        "id": "nMCKho01tKMW",
        "outputId": "e0f046f1-1c86-4631-d49c-ea262c14eaa2"
      },
      "execution_count": 17,
      "outputs": [
        {
          "output_type": "execute_result",
          "data": {
            "text/plain": [
              "<tf.Tensor: shape=(2,), dtype=float32, numpy=array([ 0.08422458, -0.86090374], dtype=float32)>"
            ]
          },
          "metadata": {},
          "execution_count": 17
        }
      ]
    },
    {
      "cell_type": "code",
      "source": [
        "rnd3 = tf.random.normal(shape = [2,1])\n",
        "rnd3"
      ],
      "metadata": {
        "colab": {
          "base_uri": "https://localhost:8080/"
        },
        "id": "IqRNSvjMtKTY",
        "outputId": "b2d66364-75d4-4bd1-f7a3-2b5d8c230f69"
      },
      "execution_count": 18,
      "outputs": [
        {
          "output_type": "execute_result",
          "data": {
            "text/plain": [
              "<tf.Tensor: shape=(2, 1), dtype=float32, numpy=\n",
              "array([[-0.55909735],\n",
              "       [-0.5347214 ]], dtype=float32)>"
            ]
          },
          "metadata": {},
          "execution_count": 18
        }
      ]
    },
    {
      "cell_type": "code",
      "source": [
        "rnd4 = tf.random.normal(shape = [2,1,1])\n",
        "rnd4"
      ],
      "metadata": {
        "colab": {
          "base_uri": "https://localhost:8080/"
        },
        "id": "yOP7EjUs29n0",
        "outputId": "64b47271-62f3-4075-e74e-3efe2c21546f"
      },
      "execution_count": 19,
      "outputs": [
        {
          "output_type": "execute_result",
          "data": {
            "text/plain": [
              "<tf.Tensor: shape=(2, 1, 1), dtype=float32, numpy=\n",
              "array([[[ 0.65648675]],\n",
              "\n",
              "       [[-0.4130517 ]]], dtype=float32)>"
            ]
          },
          "metadata": {},
          "execution_count": 19
        }
      ]
    },
    {
      "cell_type": "markdown",
      "source": [
        "# **✅ Shuffling the Order of elements in a tensor**"
      ],
      "metadata": {
        "id": "Wrl_sHTL3Sp6"
      }
    },
    {
      "cell_type": "code",
      "source": [
        "unshuffled = tf.constant([[1,3],\n",
        "                      [4,7],\n",
        "                      [9,5]])\n",
        "unshuffled"
      ],
      "metadata": {
        "colab": {
          "base_uri": "https://localhost:8080/"
        },
        "id": "3usfDBcw77Vo",
        "outputId": "972d4df9-f59b-47fa-a36d-d1f7d4c4d8cc"
      },
      "execution_count": 20,
      "outputs": [
        {
          "output_type": "execute_result",
          "data": {
            "text/plain": [
              "<tf.Tensor: shape=(3, 2), dtype=int32, numpy=\n",
              "array([[1, 3],\n",
              "       [4, 7],\n",
              "       [9, 5]], dtype=int32)>"
            ]
          },
          "metadata": {},
          "execution_count": 20
        }
      ]
    },
    {
      "cell_type": "code",
      "source": [
        "shuffled = tf.random.shuffle(unshuffled)\n",
        "shuffled"
      ],
      "metadata": {
        "colab": {
          "base_uri": "https://localhost:8080/"
        },
        "id": "6PRBoWqv769s",
        "outputId": "266d86b9-f9c6-453e-898e-6059a474a78c"
      },
      "execution_count": 21,
      "outputs": [
        {
          "output_type": "execute_result",
          "data": {
            "text/plain": [
              "<tf.Tensor: shape=(3, 2), dtype=int32, numpy=\n",
              "array([[1, 3],\n",
              "       [9, 5],\n",
              "       [4, 7]], dtype=int32)>"
            ]
          },
          "metadata": {},
          "execution_count": 21
        }
      ]
    },
    {
      "cell_type": "code",
      "source": [
        "tf.random.set_seed(42)\n",
        "shuffled = tf.random.shuffle(unshuffled)\n",
        "shuffled"
      ],
      "metadata": {
        "colab": {
          "base_uri": "https://localhost:8080/"
        },
        "id": "pIuJ1uwT-aQi",
        "outputId": "96349a61-5092-410d-81e7-18652d7f7846"
      },
      "execution_count": 22,
      "outputs": [
        {
          "output_type": "execute_result",
          "data": {
            "text/plain": [
              "<tf.Tensor: shape=(3, 2), dtype=int32, numpy=\n",
              "array([[4, 7],\n",
              "       [9, 5],\n",
              "       [1, 3]], dtype=int32)>"
            ]
          },
          "metadata": {},
          "execution_count": 22
        }
      ]
    },
    {
      "cell_type": "code",
      "source": [
        "tf.random.set_seed(42)\n",
        "shuffled = tf.random.shuffle(unshuffled, seed = 42)\n",
        "shuffled"
      ],
      "metadata": {
        "colab": {
          "base_uri": "https://localhost:8080/"
        },
        "id": "ml9uLHZX-acc",
        "outputId": "73367a50-1b8d-4a01-9ed4-23726857c7f1"
      },
      "execution_count": 23,
      "outputs": [
        {
          "output_type": "execute_result",
          "data": {
            "text/plain": [
              "<tf.Tensor: shape=(3, 2), dtype=int32, numpy=\n",
              "array([[1, 3],\n",
              "       [4, 7],\n",
              "       [9, 5]], dtype=int32)>"
            ]
          },
          "metadata": {},
          "execution_count": 23
        }
      ]
    },
    {
      "cell_type": "markdown",
      "source": [
        "# **✅ Tensors of zeros and Ones**"
      ],
      "metadata": {
        "id": "HdDiGhKLOmIi"
      }
    },
    {
      "cell_type": "code",
      "source": [
        "tf.ones([2,4])"
      ],
      "metadata": {
        "colab": {
          "base_uri": "https://localhost:8080/"
        },
        "id": "KeVtEiAHPmQE",
        "outputId": "f08b52d4-bed7-4186-af26-270366cc3330"
      },
      "execution_count": 24,
      "outputs": [
        {
          "output_type": "execute_result",
          "data": {
            "text/plain": [
              "<tf.Tensor: shape=(2, 4), dtype=float32, numpy=\n",
              "array([[1., 1., 1., 1.],\n",
              "       [1., 1., 1., 1.]], dtype=float32)>"
            ]
          },
          "metadata": {},
          "execution_count": 24
        }
      ]
    },
    {
      "cell_type": "code",
      "source": [
        "tf.zeros(shape = (2,4))"
      ],
      "metadata": {
        "colab": {
          "base_uri": "https://localhost:8080/"
        },
        "id": "bTqqedOtPmeB",
        "outputId": "4eb932c6-b184-45fb-a3b1-c6c450068220"
      },
      "execution_count": 25,
      "outputs": [
        {
          "output_type": "execute_result",
          "data": {
            "text/plain": [
              "<tf.Tensor: shape=(2, 4), dtype=float32, numpy=\n",
              "array([[0., 0., 0., 0.],\n",
              "       [0., 0., 0., 0.]], dtype=float32)>"
            ]
          },
          "metadata": {},
          "execution_count": 25
        }
      ]
    },
    {
      "cell_type": "markdown",
      "source": [
        "# **✅ Numpy Arrays to tensors**"
      ],
      "metadata": {
        "id": "GsHfcgo7P2Bm"
      }
    },
    {
      "cell_type": "code",
      "source": [
        "import numpy as np\n",
        "numpy_A = np.arange(1, 25, dtype = np.int32)\n",
        "numpy_A"
      ],
      "metadata": {
        "colab": {
          "base_uri": "https://localhost:8080/"
        },
        "id": "3SXLjMmhPmla",
        "outputId": "b044236c-90a9-4745-aeee-2b7c5bff26b2"
      },
      "execution_count": 26,
      "outputs": [
        {
          "output_type": "execute_result",
          "data": {
            "text/plain": [
              "array([ 1,  2,  3,  4,  5,  6,  7,  8,  9, 10, 11, 12, 13, 14, 15, 16, 17,\n",
              "       18, 19, 20, 21, 22, 23, 24], dtype=int32)"
            ]
          },
          "metadata": {},
          "execution_count": 26
        }
      ]
    },
    {
      "cell_type": "code",
      "source": [
        "TA = tf.constant(numpy_A)\n",
        "TA"
      ],
      "metadata": {
        "colab": {
          "base_uri": "https://localhost:8080/"
        },
        "id": "KUhPCSLjQa3-",
        "outputId": "d689cbe3-4263-44a6-fb63-cd8aba545264"
      },
      "execution_count": 27,
      "outputs": [
        {
          "output_type": "execute_result",
          "data": {
            "text/plain": [
              "<tf.Tensor: shape=(24,), dtype=int32, numpy=\n",
              "array([ 1,  2,  3,  4,  5,  6,  7,  8,  9, 10, 11, 12, 13, 14, 15, 16, 17,\n",
              "       18, 19, 20, 21, 22, 23, 24], dtype=int32)>"
            ]
          },
          "metadata": {},
          "execution_count": 27
        }
      ]
    },
    {
      "cell_type": "code",
      "source": [
        "TA = tf.constant(numpy_A, shape=(8,3))\n",
        "TA"
      ],
      "metadata": {
        "colab": {
          "base_uri": "https://localhost:8080/"
        },
        "id": "7jc2EC_lQn_x",
        "outputId": "5c7d7fd1-ba33-4153-9e20-661e7582b6c3"
      },
      "execution_count": 28,
      "outputs": [
        {
          "output_type": "execute_result",
          "data": {
            "text/plain": [
              "<tf.Tensor: shape=(8, 3), dtype=int32, numpy=\n",
              "array([[ 1,  2,  3],\n",
              "       [ 4,  5,  6],\n",
              "       [ 7,  8,  9],\n",
              "       [10, 11, 12],\n",
              "       [13, 14, 15],\n",
              "       [16, 17, 18],\n",
              "       [19, 20, 21],\n",
              "       [22, 23, 24]], dtype=int32)>"
            ]
          },
          "metadata": {},
          "execution_count": 28
        }
      ]
    },
    {
      "cell_type": "code",
      "source": [
        "TA.ndim"
      ],
      "metadata": {
        "colab": {
          "base_uri": "https://localhost:8080/"
        },
        "id": "F5S1NHElRQWo",
        "outputId": "f0be23f1-c875-4e6e-dd58-87c4fa471e3c"
      },
      "execution_count": 29,
      "outputs": [
        {
          "output_type": "execute_result",
          "data": {
            "text/plain": [
              "2"
            ]
          },
          "metadata": {},
          "execution_count": 29
        }
      ]
    },
    {
      "cell_type": "code",
      "source": [
        "TA = tf.constant(numpy_A, shape=(3, 2, 2, 2))\n",
        "TA"
      ],
      "metadata": {
        "colab": {
          "base_uri": "https://localhost:8080/"
        },
        "id": "1CrybvmgRaZ_",
        "outputId": "6e07d07c-169b-42b7-abd3-d2ea5787c123"
      },
      "execution_count": 30,
      "outputs": [
        {
          "output_type": "execute_result",
          "data": {
            "text/plain": [
              "<tf.Tensor: shape=(3, 2, 2, 2), dtype=int32, numpy=\n",
              "array([[[[ 1,  2],\n",
              "         [ 3,  4]],\n",
              "\n",
              "        [[ 5,  6],\n",
              "         [ 7,  8]]],\n",
              "\n",
              "\n",
              "       [[[ 9, 10],\n",
              "         [11, 12]],\n",
              "\n",
              "        [[13, 14],\n",
              "         [15, 16]]],\n",
              "\n",
              "\n",
              "       [[[17, 18],\n",
              "         [19, 20]],\n",
              "\n",
              "        [[21, 22],\n",
              "         [23, 24]]]], dtype=int32)>"
            ]
          },
          "metadata": {},
          "execution_count": 30
        }
      ]
    },
    {
      "cell_type": "code",
      "source": [
        "TA.ndim"
      ],
      "metadata": {
        "colab": {
          "base_uri": "https://localhost:8080/"
        },
        "id": "qa1VWZN5R3Mi",
        "outputId": "fd78da73-3fcf-49a8-a8e0-81d52ee93866"
      },
      "execution_count": 31,
      "outputs": [
        {
          "output_type": "execute_result",
          "data": {
            "text/plain": [
              "4"
            ]
          },
          "metadata": {},
          "execution_count": 31
        }
      ]
    },
    {
      "cell_type": "markdown",
      "source": [
        "# **✅ Getting Information From Tensors**"
      ],
      "metadata": {
        "id": "zBzUMNA9R_-G"
      }
    },
    {
      "cell_type": "code",
      "source": [
        "ones = tf.ones(shape=(2, 3, 4, 5))\n",
        "ones"
      ],
      "metadata": {
        "colab": {
          "base_uri": "https://localhost:8080/"
        },
        "id": "sLu3KOtQSINI",
        "outputId": "dd26c65c-fb08-4667-828d-549d9f3b9ecc"
      },
      "execution_count": 32,
      "outputs": [
        {
          "output_type": "execute_result",
          "data": {
            "text/plain": [
              "<tf.Tensor: shape=(2, 3, 4, 5), dtype=float32, numpy=\n",
              "array([[[[1., 1., 1., 1., 1.],\n",
              "         [1., 1., 1., 1., 1.],\n",
              "         [1., 1., 1., 1., 1.],\n",
              "         [1., 1., 1., 1., 1.]],\n",
              "\n",
              "        [[1., 1., 1., 1., 1.],\n",
              "         [1., 1., 1., 1., 1.],\n",
              "         [1., 1., 1., 1., 1.],\n",
              "         [1., 1., 1., 1., 1.]],\n",
              "\n",
              "        [[1., 1., 1., 1., 1.],\n",
              "         [1., 1., 1., 1., 1.],\n",
              "         [1., 1., 1., 1., 1.],\n",
              "         [1., 1., 1., 1., 1.]]],\n",
              "\n",
              "\n",
              "       [[[1., 1., 1., 1., 1.],\n",
              "         [1., 1., 1., 1., 1.],\n",
              "         [1., 1., 1., 1., 1.],\n",
              "         [1., 1., 1., 1., 1.]],\n",
              "\n",
              "        [[1., 1., 1., 1., 1.],\n",
              "         [1., 1., 1., 1., 1.],\n",
              "         [1., 1., 1., 1., 1.],\n",
              "         [1., 1., 1., 1., 1.]],\n",
              "\n",
              "        [[1., 1., 1., 1., 1.],\n",
              "         [1., 1., 1., 1., 1.],\n",
              "         [1., 1., 1., 1., 1.],\n",
              "         [1., 1., 1., 1., 1.]]]], dtype=float32)>"
            ]
          },
          "metadata": {},
          "execution_count": 32
        }
      ]
    },
    {
      "cell_type": "code",
      "source": [
        "ones[1]"
      ],
      "metadata": {
        "colab": {
          "base_uri": "https://localhost:8080/"
        },
        "id": "tWV9SuMJYjq-",
        "outputId": "2fb69e6f-840a-4593-d780-828bbad6e98c"
      },
      "execution_count": 33,
      "outputs": [
        {
          "output_type": "execute_result",
          "data": {
            "text/plain": [
              "<tf.Tensor: shape=(3, 4, 5), dtype=float32, numpy=\n",
              "array([[[1., 1., 1., 1., 1.],\n",
              "        [1., 1., 1., 1., 1.],\n",
              "        [1., 1., 1., 1., 1.],\n",
              "        [1., 1., 1., 1., 1.]],\n",
              "\n",
              "       [[1., 1., 1., 1., 1.],\n",
              "        [1., 1., 1., 1., 1.],\n",
              "        [1., 1., 1., 1., 1.],\n",
              "        [1., 1., 1., 1., 1.]],\n",
              "\n",
              "       [[1., 1., 1., 1., 1.],\n",
              "        [1., 1., 1., 1., 1.],\n",
              "        [1., 1., 1., 1., 1.],\n",
              "        [1., 1., 1., 1., 1.]]], dtype=float32)>"
            ]
          },
          "metadata": {},
          "execution_count": 33
        }
      ]
    },
    {
      "cell_type": "code",
      "source": [
        "ones[1][0]"
      ],
      "metadata": {
        "colab": {
          "base_uri": "https://localhost:8080/"
        },
        "id": "lMJX0lvsYyuQ",
        "outputId": "83951e81-52d0-4aa5-dd13-cecf5cd2ab84"
      },
      "execution_count": 34,
      "outputs": [
        {
          "output_type": "execute_result",
          "data": {
            "text/plain": [
              "<tf.Tensor: shape=(4, 5), dtype=float32, numpy=\n",
              "array([[1., 1., 1., 1., 1.],\n",
              "       [1., 1., 1., 1., 1.],\n",
              "       [1., 1., 1., 1., 1.],\n",
              "       [1., 1., 1., 1., 1.]], dtype=float32)>"
            ]
          },
          "metadata": {},
          "execution_count": 34
        }
      ]
    },
    {
      "cell_type": "code",
      "source": [
        "ones[1][0][1]"
      ],
      "metadata": {
        "colab": {
          "base_uri": "https://localhost:8080/"
        },
        "id": "wX16C1rhYy4w",
        "outputId": "a90b45bd-aaf8-4b53-9eac-099974ba638d"
      },
      "execution_count": 35,
      "outputs": [
        {
          "output_type": "execute_result",
          "data": {
            "text/plain": [
              "<tf.Tensor: shape=(5,), dtype=float32, numpy=array([1., 1., 1., 1., 1.], dtype=float32)>"
            ]
          },
          "metadata": {},
          "execution_count": 35
        }
      ]
    },
    {
      "cell_type": "code",
      "source": [
        "ones[1][0][1][0]"
      ],
      "metadata": {
        "colab": {
          "base_uri": "https://localhost:8080/"
        },
        "id": "kornldOwYzCi",
        "outputId": "96c05643-e22c-4bae-d45d-d69ca9577be1"
      },
      "execution_count": 36,
      "outputs": [
        {
          "output_type": "execute_result",
          "data": {
            "text/plain": [
              "<tf.Tensor: shape=(), dtype=float32, numpy=1.0>"
            ]
          },
          "metadata": {},
          "execution_count": 36
        }
      ]
    },
    {
      "cell_type": "code",
      "source": [
        "ones[1][0][1][0].numpy()"
      ],
      "metadata": {
        "colab": {
          "base_uri": "https://localhost:8080/"
        },
        "id": "qkBPdfn3YzLr",
        "outputId": "8c90629b-b0df-4050-8e39-db3ac80ca8e9"
      },
      "execution_count": 37,
      "outputs": [
        {
          "output_type": "execute_result",
          "data": {
            "text/plain": [
              "1.0"
            ]
          },
          "metadata": {},
          "execution_count": 37
        }
      ]
    },
    {
      "cell_type": "code",
      "source": [
        "print(ones.shape)\n",
        "print(ones.ndim)\n",
        "tf.size(ones)"
      ],
      "metadata": {
        "colab": {
          "base_uri": "https://localhost:8080/"
        },
        "id": "RK8RZRMDYzVn",
        "outputId": "fe2dd294-9d01-49a0-cb54-aeb6320b9812"
      },
      "execution_count": 38,
      "outputs": [
        {
          "output_type": "stream",
          "name": "stdout",
          "text": [
            "(2, 3, 4, 5)\n",
            "4\n"
          ]
        },
        {
          "output_type": "execute_result",
          "data": {
            "text/plain": [
              "<tf.Tensor: shape=(), dtype=int32, numpy=120>"
            ]
          },
          "metadata": {},
          "execution_count": 38
        }
      ]
    },
    {
      "cell_type": "markdown",
      "source": [
        "# **✅ Indexing Tensors**"
      ],
      "metadata": {
        "id": "wFemv0M7bag4"
      }
    },
    {
      "cell_type": "code",
      "source": [
        "# get first 2 elements of each dimensions\n",
        "ones[:2, :2, :2, :2]"
      ],
      "metadata": {
        "colab": {
          "base_uri": "https://localhost:8080/"
        },
        "id": "KOpflIlRbhcz",
        "outputId": "a0187865-c1ab-4336-84bc-fdef61528d97"
      },
      "execution_count": 40,
      "outputs": [
        {
          "output_type": "execute_result",
          "data": {
            "text/plain": [
              "<tf.Tensor: shape=(2, 2, 2, 2), dtype=float32, numpy=\n",
              "array([[[[1., 1.],\n",
              "         [1., 1.]],\n",
              "\n",
              "        [[1., 1.],\n",
              "         [1., 1.]]],\n",
              "\n",
              "\n",
              "       [[[1., 1.],\n",
              "         [1., 1.]],\n",
              "\n",
              "        [[1., 1.],\n",
              "         [1., 1.]]]], dtype=float32)>"
            ]
          },
          "metadata": {},
          "execution_count": 40
        }
      ]
    },
    {
      "cell_type": "code",
      "source": [
        "# get the first element each dimension from each index except the final one\n",
        "ones[:1, :1, : , :]"
      ],
      "metadata": {
        "colab": {
          "base_uri": "https://localhost:8080/"
        },
        "id": "Qshi9Iw--q6c",
        "outputId": "afd4691e-a153-4a34-c89c-c254dd49b2cc"
      },
      "execution_count": 43,
      "outputs": [
        {
          "output_type": "execute_result",
          "data": {
            "text/plain": [
              "<tf.Tensor: shape=(1, 1, 4, 5), dtype=float32, numpy=\n",
              "array([[[[1., 1., 1., 1., 1.],\n",
              "         [1., 1., 1., 1., 1.],\n",
              "         [1., 1., 1., 1., 1.],\n",
              "         [1., 1., 1., 1., 1.]]]], dtype=float32)>"
            ]
          },
          "metadata": {},
          "execution_count": 43
        }
      ]
    },
    {
      "cell_type": "code",
      "source": [
        "rnk_two = tf.constant([[2,4],\n",
        "                       [4,5]])\n",
        "rnk_two.shape, rnk_two.ndim"
      ],
      "metadata": {
        "colab": {
          "base_uri": "https://localhost:8080/"
        },
        "id": "IdWKx7ut_82r",
        "outputId": "0e2fdfba-9b98-4fc6-f6df-bb035986c58a"
      },
      "execution_count": 44,
      "outputs": [
        {
          "output_type": "execute_result",
          "data": {
            "text/plain": [
              "(TensorShape([2, 2]), 2)"
            ]
          },
          "metadata": {},
          "execution_count": 44
        }
      ]
    },
    {
      "cell_type": "code",
      "source": [
        "# Get the last item of each of row of rank 2 tensor"
      ],
      "metadata": {
        "id": "ve3gT3QfANDi"
      },
      "execution_count": null,
      "outputs": []
    },
    {
      "cell_type": "code",
      "source": [
        "rnk_two[:, -1]"
      ],
      "metadata": {
        "colab": {
          "base_uri": "https://localhost:8080/"
        },
        "id": "IcMXYkVyANcs",
        "outputId": "8e195486-a0da-4cb1-ab8d-5cce96fe9b4f"
      },
      "execution_count": 45,
      "outputs": [
        {
          "output_type": "execute_result",
          "data": {
            "text/plain": [
              "<tf.Tensor: shape=(2,), dtype=int32, numpy=array([4, 5], dtype=int32)>"
            ]
          },
          "metadata": {},
          "execution_count": 45
        }
      ]
    },
    {
      "cell_type": "code",
      "source": [
        "# add extra dimension\n",
        "rnk_three = rnk_two[...,tf.newaxis]\n",
        "rnk_three"
      ],
      "metadata": {
        "colab": {
          "base_uri": "https://localhost:8080/"
        },
        "id": "JNJbOlXYANml",
        "outputId": "94d8bf5e-320a-4395-d07e-3f101bed1389"
      },
      "execution_count": 51,
      "outputs": [
        {
          "output_type": "execute_result",
          "data": {
            "text/plain": [
              "<tf.Tensor: shape=(2, 2, 1), dtype=int32, numpy=\n",
              "array([[[2],\n",
              "        [4]],\n",
              "\n",
              "       [[4],\n",
              "        [5]]], dtype=int32)>"
            ]
          },
          "metadata": {},
          "execution_count": 51
        }
      ]
    },
    {
      "cell_type": "code",
      "source": [
        "tf.expand_dims(rnk_two, axis = 0)"
      ],
      "metadata": {
        "colab": {
          "base_uri": "https://localhost:8080/"
        },
        "id": "zf_YSEqOANvV",
        "outputId": "9bc90992-869a-455f-a15c-46efcf286323"
      },
      "execution_count": 55,
      "outputs": [
        {
          "output_type": "execute_result",
          "data": {
            "text/plain": [
              "<tf.Tensor: shape=(1, 2, 2), dtype=int32, numpy=\n",
              "array([[[2, 4],\n",
              "        [4, 5]]], dtype=int32)>"
            ]
          },
          "metadata": {},
          "execution_count": 55
        }
      ]
    },
    {
      "cell_type": "code",
      "source": [],
      "metadata": {
        "id": "tPs1uxQSAN3Z"
      },
      "execution_count": null,
      "outputs": []
    },
    {
      "cell_type": "code",
      "source": [],
      "metadata": {
        "id": "MdsgKjhQAN-z"
      },
      "execution_count": null,
      "outputs": []
    },
    {
      "cell_type": "code",
      "source": [],
      "metadata": {
        "id": "wnjvMtH_AOF7"
      },
      "execution_count": null,
      "outputs": []
    },
    {
      "cell_type": "code",
      "source": [],
      "metadata": {
        "id": "eFtzCabsAONY"
      },
      "execution_count": null,
      "outputs": []
    },
    {
      "cell_type": "code",
      "source": [],
      "metadata": {
        "id": "PLWO40-qAOUz"
      },
      "execution_count": null,
      "outputs": []
    }
  ]
}