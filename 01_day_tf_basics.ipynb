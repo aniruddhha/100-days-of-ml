{
  "nbformat": 4,
  "nbformat_minor": 0,
  "metadata": {
    "colab": {
      "provenance": [],
      "authorship_tag": "ABX9TyPBLUwIPllwlpj/Nrl0Zay1",
      "include_colab_link": true
    },
    "kernelspec": {
      "name": "python3",
      "display_name": "Python 3"
    },
    "language_info": {
      "name": "python"
    }
  },
  "cells": [
    {
      "cell_type": "markdown",
      "metadata": {
        "id": "view-in-github",
        "colab_type": "text"
      },
      "source": [
        "<a href=\"https://colab.research.google.com/github/aniruddhha/100-days-of-ml/blob/main/01_day_tf_basics.ipynb\" target=\"_parent\"><img src=\"https://colab.research.google.com/assets/colab-badge.svg\" alt=\"Open In Colab\"/></a>"
      ]
    },
    {
      "cell_type": "markdown",
      "source": [
        "# **✅ Working with tensorflow 2.0**"
      ],
      "metadata": {
        "id": "mqtPBbHgywKT"
      }
    },
    {
      "cell_type": "code",
      "source": [
        "import tensorflow as tf\n",
        "print(tf.__version__)"
      ],
      "metadata": {
        "colab": {
          "base_uri": "https://localhost:8080/"
        },
        "id": "3dnEAJhyYT7q",
        "outputId": "8c6fabb7-dd68-4f98-bd17-c1b85f594c8c"
      },
      "execution_count": 3,
      "outputs": [
        {
          "output_type": "stream",
          "name": "stdout",
          "text": [
            "2.9.2\n"
          ]
        }
      ]
    },
    {
      "cell_type": "markdown",
      "source": [
        "# **✅ What is scalar ?**"
      ],
      "metadata": {
        "id": "6UMUIlrny14t"
      }
    },
    {
      "cell_type": "code",
      "source": [
        "scalar = tf.constant(4)\n",
        "scalar"
      ],
      "metadata": {
        "colab": {
          "base_uri": "https://localhost:8080/"
        },
        "id": "hR3Bvd-kYV7x",
        "outputId": "1f0e82fb-3352-4572-a1a9-6109629aa40e"
      },
      "execution_count": 7,
      "outputs": [
        {
          "output_type": "execute_result",
          "data": {
            "text/plain": [
              "<tf.Tensor: shape=(), dtype=int32, numpy=4>"
            ]
          },
          "metadata": {},
          "execution_count": 7
        }
      ]
    },
    {
      "cell_type": "markdown",
      "source": [
        "### **👉 *Dimensions of scalar***"
      ],
      "metadata": {
        "id": "cREyneZ0y9yC"
      }
    },
    {
      "cell_type": "code",
      "source": [
        "scalar.ndim"
      ],
      "metadata": {
        "colab": {
          "base_uri": "https://localhost:8080/"
        },
        "id": "_yvS3KvmkODJ",
        "outputId": "795db17a-b6da-4815-d86e-f843008b04ab"
      },
      "execution_count": 8,
      "outputs": [
        {
          "output_type": "execute_result",
          "data": {
            "text/plain": [
              "0"
            ]
          },
          "metadata": {},
          "execution_count": 8
        }
      ]
    },
    {
      "cell_type": "markdown",
      "source": [
        "# ✅ **What is Vector**"
      ],
      "metadata": {
        "id": "aGexIjGlzy4n"
      }
    },
    {
      "cell_type": "code",
      "source": [
        "vector = tf.constant([10 , 5])\n",
        "vector "
      ],
      "metadata": {
        "colab": {
          "base_uri": "https://localhost:8080/"
        },
        "id": "C3lCBgeRlPJ_",
        "outputId": "01e05409-38ee-43ef-a288-bbab094378ea"
      },
      "execution_count": 12,
      "outputs": [
        {
          "output_type": "execute_result",
          "data": {
            "text/plain": [
              "<tf.Tensor: shape=(2,), dtype=int32, numpy=array([10,  5], dtype=int32)>"
            ]
          },
          "metadata": {},
          "execution_count": 12
        }
      ]
    },
    {
      "cell_type": "markdown",
      "source": [
        "### **👉 *Dimensions of Vector***"
      ],
      "metadata": {
        "id": "eaY_rEjn0BIE"
      }
    },
    {
      "cell_type": "code",
      "source": [
        "vector.ndim"
      ],
      "metadata": {
        "colab": {
          "base_uri": "https://localhost:8080/"
        },
        "id": "EP13vP1blZV8",
        "outputId": "a41007aa-a43c-43fc-8763-a289cb2c3bd2"
      },
      "execution_count": 14,
      "outputs": [
        {
          "output_type": "execute_result",
          "data": {
            "text/plain": [
              "1"
            ]
          },
          "metadata": {},
          "execution_count": 14
        }
      ]
    },
    {
      "cell_type": "markdown",
      "source": [
        "# **✅ What is Matrix**"
      ],
      "metadata": {
        "id": "0noVSV670FGF"
      }
    },
    {
      "cell_type": "code",
      "source": [
        "matrix = tf.constant([\n",
        "    [1, 3],\n",
        "    [6, 9]\n",
        "])\n",
        "matrix"
      ],
      "metadata": {
        "colab": {
          "base_uri": "https://localhost:8080/"
        },
        "id": "4j_GA_cRlfJ9",
        "outputId": "68d6281d-210c-44fe-de44-ac31aa51c914"
      },
      "execution_count": 16,
      "outputs": [
        {
          "output_type": "execute_result",
          "data": {
            "text/plain": [
              "<tf.Tensor: shape=(2, 2), dtype=int32, numpy=\n",
              "array([[1, 3],\n",
              "       [6, 9]], dtype=int32)>"
            ]
          },
          "metadata": {},
          "execution_count": 16
        }
      ]
    },
    {
      "cell_type": "markdown",
      "source": [
        "### **👉 *Dimensions of Matrix***"
      ],
      "metadata": {
        "id": "51NUxDRt0MhY"
      }
    },
    {
      "cell_type": "code",
      "source": [
        "matrix.ndim"
      ],
      "metadata": {
        "colab": {
          "base_uri": "https://localhost:8080/"
        },
        "id": "kOzJsY1TlnRl",
        "outputId": "45aed785-460e-4973-e401-81076a35cd7b"
      },
      "execution_count": 17,
      "outputs": [
        {
          "output_type": "execute_result",
          "data": {
            "text/plain": [
              "2"
            ]
          },
          "metadata": {},
          "execution_count": 17
        }
      ]
    },
    {
      "cell_type": "code",
      "source": [
        "matrix_one = tf.constant([\n",
        "    [8., 0.9, 7.0],\n",
        "    [6, 7, 8],\n",
        "    [52.34, 67.45, 89.45]\n",
        "])\n",
        "\n",
        "matrix_one"
      ],
      "metadata": {
        "colab": {
          "base_uri": "https://localhost:8080/"
        },
        "id": "9BByS_2Pl1Xp",
        "outputId": "a08105b4-8519-411f-9c21-c4c2eb032660"
      },
      "execution_count": 21,
      "outputs": [
        {
          "output_type": "execute_result",
          "data": {
            "text/plain": [
              "<tf.Tensor: shape=(3, 3), dtype=float32, numpy=\n",
              "array([[ 8.  ,  0.9 ,  7.  ],\n",
              "       [ 6.  ,  7.  ,  8.  ],\n",
              "       [52.34, 67.45, 89.45]], dtype=float32)>"
            ]
          },
          "metadata": {},
          "execution_count": 21
        }
      ]
    },
    {
      "cell_type": "code",
      "source": [
        "matrix_one.ndim"
      ],
      "metadata": {
        "colab": {
          "base_uri": "https://localhost:8080/"
        },
        "id": "aw9P-fjbmXtv",
        "outputId": "9a4ca008-ed42-47a4-b57d-7ea380632bae"
      },
      "execution_count": 22,
      "outputs": [
        {
          "output_type": "execute_result",
          "data": {
            "text/plain": [
              "2"
            ]
          },
          "metadata": {},
          "execution_count": 22
        }
      ]
    },
    {
      "cell_type": "markdown",
      "source": [
        "# **✅ What is Tensor**"
      ],
      "metadata": {
        "id": "0l7zS_jN0WwT"
      }
    },
    {
      "cell_type": "code",
      "source": [
        "tensor1 = tf.constant([\n",
        "    [\n",
        "        [1, 3, 4],\n",
        "        [2, 4,5]\n",
        "    ],\n",
        "    [\n",
        "        [1, 5, 7],\n",
        "        [6, 9, 0]  \n",
        "    ],\n",
        "    [\n",
        "        [1, 4, 0],\n",
        "        [2, 4, 5]\n",
        "    ]\n",
        "])\n",
        "tensor1"
      ],
      "metadata": {
        "colab": {
          "base_uri": "https://localhost:8080/"
        },
        "id": "jHGLs592mosK",
        "outputId": "eb185dfd-17c5-43f1-e23f-539befef0b67"
      },
      "execution_count": 41,
      "outputs": [
        {
          "output_type": "execute_result",
          "data": {
            "text/plain": [
              "<tf.Tensor: shape=(3, 2, 3), dtype=int32, numpy=\n",
              "array([[[1, 3, 4],\n",
              "        [2, 4, 5]],\n",
              "\n",
              "       [[1, 5, 7],\n",
              "        [6, 9, 0]],\n",
              "\n",
              "       [[1, 4, 0],\n",
              "        [2, 4, 5]]], dtype=int32)>"
            ]
          },
          "metadata": {},
          "execution_count": 41
        }
      ]
    },
    {
      "cell_type": "markdown",
      "source": [
        "### **👉 *Dimensions of Tensor***"
      ],
      "metadata": {
        "id": "71cjpUg80oJL"
      }
    },
    {
      "cell_type": "code",
      "source": [
        "tensor1.ndim"
      ],
      "metadata": {
        "colab": {
          "base_uri": "https://localhost:8080/"
        },
        "id": "nE0MW9nVoWKc",
        "outputId": "521dad85-661a-46a2-c045-4701444a19c0"
      },
      "execution_count": 42,
      "outputs": [
        {
          "output_type": "execute_result",
          "data": {
            "text/plain": [
              "3"
            ]
          },
          "metadata": {},
          "execution_count": 42
        }
      ]
    },
    {
      "cell_type": "code",
      "source": [
        "# 2, 2, 2, 3, 2\n",
        "tensor2 = tf.constant([\n",
        "    [\n",
        "        [\n",
        "            [\n",
        "              [1,2],\n",
        "              [3,4],\n",
        "              [5,6]\n",
        "            ],\n",
        "            [\n",
        "              [1,2],\n",
        "              [8, 9],\n",
        "              [10, 8]\n",
        "            ],\n",
        "        ],\n",
        "        [\n",
        "           [\n",
        "              [1,2],\n",
        "              [3,4],\n",
        "              [5,6]\n",
        "            ],\n",
        "            [\n",
        "              [1,2],\n",
        "              [8, 9],\n",
        "              [10, 8]\n",
        "            ] \n",
        "        ]\n",
        "    ],\n",
        "    [\n",
        "        [\n",
        "            [\n",
        "              [1,2],\n",
        "              [3,4],\n",
        "              [5,6]\n",
        "            ],\n",
        "            [\n",
        "              [1,2],\n",
        "              [8, 9],\n",
        "              [10, 8]\n",
        "            ],\n",
        "        ],\n",
        "        [\n",
        "           [\n",
        "              [1,2],\n",
        "              [3,4],\n",
        "              [5,6]\n",
        "            ],\n",
        "            [\n",
        "              [1,2],\n",
        "              [8, 9],\n",
        "              [10, 8]\n",
        "            ] \n",
        "        ]\n",
        "    ],\n",
        "\n",
        "])\n",
        "tensor2"
      ],
      "metadata": {
        "colab": {
          "base_uri": "https://localhost:8080/"
        },
        "id": "H8B2Rv8EokOg",
        "outputId": "4db63bdd-41e0-4536-d7e2-fcba7617c170"
      },
      "execution_count": 49,
      "outputs": [
        {
          "output_type": "execute_result",
          "data": {
            "text/plain": [
              "<tf.Tensor: shape=(2, 2, 2, 3, 2), dtype=int32, numpy=\n",
              "array([[[[[ 1,  2],\n",
              "          [ 3,  4],\n",
              "          [ 5,  6]],\n",
              "\n",
              "         [[ 1,  2],\n",
              "          [ 8,  9],\n",
              "          [10,  8]]],\n",
              "\n",
              "\n",
              "        [[[ 1,  2],\n",
              "          [ 3,  4],\n",
              "          [ 5,  6]],\n",
              "\n",
              "         [[ 1,  2],\n",
              "          [ 8,  9],\n",
              "          [10,  8]]]],\n",
              "\n",
              "\n",
              "\n",
              "       [[[[ 1,  2],\n",
              "          [ 3,  4],\n",
              "          [ 5,  6]],\n",
              "\n",
              "         [[ 1,  2],\n",
              "          [ 8,  9],\n",
              "          [10,  8]]],\n",
              "\n",
              "\n",
              "        [[[ 1,  2],\n",
              "          [ 3,  4],\n",
              "          [ 5,  6]],\n",
              "\n",
              "         [[ 1,  2],\n",
              "          [ 8,  9],\n",
              "          [10,  8]]]]], dtype=int32)>"
            ]
          },
          "metadata": {},
          "execution_count": 49
        }
      ]
    },
    {
      "cell_type": "markdown",
      "source": [
        "# **✅ Variables**"
      ],
      "metadata": {
        "id": "EhL4Kiy-075X"
      }
    },
    {
      "cell_type": "code",
      "source": [
        "vr = tf.Variable([7, 8])\n",
        "vr[0]\n",
        "vr[0].assign(8)"
      ],
      "metadata": {
        "colab": {
          "base_uri": "https://localhost:8080/"
        },
        "id": "IYG2-Lkvqza0",
        "outputId": "c193e9c6-e85e-4dae-92e4-33873ffb1e9e"
      },
      "execution_count": 52,
      "outputs": [
        {
          "output_type": "execute_result",
          "data": {
            "text/plain": [
              "<tf.Variable 'UnreadVariable' shape=(2,) dtype=int32, numpy=array([8, 8], dtype=int32)>"
            ]
          },
          "metadata": {},
          "execution_count": 52
        }
      ]
    },
    {
      "cell_type": "markdown",
      "source": [
        "# **✅ Random Tensors**"
      ],
      "metadata": {
        "id": "eZMcGUze1NVL"
      }
    },
    {
      "cell_type": "code",
      "source": [
        "tf.random.set_seed(42)"
      ],
      "metadata": {
        "id": "-EE8yH8ItJSQ"
      },
      "execution_count": 58,
      "outputs": []
    },
    {
      "cell_type": "code",
      "source": [
        "rnd1 = tf.random.uniform(shape = [2,3])\n",
        "rnd1"
      ],
      "metadata": {
        "colab": {
          "base_uri": "https://localhost:8080/"
        },
        "id": "eQ6Xt-7atKE3",
        "outputId": "fd4fce9b-fe64-4695-89a3-0f882fe0a367"
      },
      "execution_count": 63,
      "outputs": [
        {
          "output_type": "execute_result",
          "data": {
            "text/plain": [
              "<tf.Tensor: shape=(2, 3), dtype=float32, numpy=\n",
              "array([[0.803156  , 0.49777734, 0.37054038],\n",
              "       [0.9118674 , 0.637642  , 0.18209696]], dtype=float32)>"
            ]
          },
          "metadata": {},
          "execution_count": 63
        }
      ]
    },
    {
      "cell_type": "code",
      "source": [
        "rnd2 = tf.random.normal(shape = [2])\n",
        "rnd2 "
      ],
      "metadata": {
        "colab": {
          "base_uri": "https://localhost:8080/"
        },
        "id": "nMCKho01tKMW",
        "outputId": "ac66e520-e094-4853-ee55-f78b8b61af95"
      },
      "execution_count": 66,
      "outputs": [
        {
          "output_type": "execute_result",
          "data": {
            "text/plain": [
              "<tf.Tensor: shape=(2,), dtype=float32, numpy=array([ 1.1442094, -1.6089787], dtype=float32)>"
            ]
          },
          "metadata": {},
          "execution_count": 66
        }
      ]
    },
    {
      "cell_type": "code",
      "source": [
        "rnd3 = tf.random.normal(shape = [2,1])\n",
        "rnd3"
      ],
      "metadata": {
        "colab": {
          "base_uri": "https://localhost:8080/"
        },
        "id": "IqRNSvjMtKTY",
        "outputId": "9ca437b1-3ac6-4119-e93c-a04288036d27"
      },
      "execution_count": 68,
      "outputs": [
        {
          "output_type": "execute_result",
          "data": {
            "text/plain": [
              "<tf.Tensor: shape=(2, 1), dtype=float32, numpy=\n",
              "array([[-1.5440757],\n",
              "       [ 1.3154334]], dtype=float32)>"
            ]
          },
          "metadata": {},
          "execution_count": 68
        }
      ]
    },
    {
      "cell_type": "code",
      "source": [
        "rnd4 = tf.random.normal(shape = [2,1,1])\n",
        "rnd4"
      ],
      "metadata": {
        "colab": {
          "base_uri": "https://localhost:8080/"
        },
        "id": "yOP7EjUs29n0",
        "outputId": "3bac9f0f-5044-4472-b7b0-a98e984f6dde"
      },
      "execution_count": 70,
      "outputs": [
        {
          "output_type": "execute_result",
          "data": {
            "text/plain": [
              "<tf.Tensor: shape=(2, 1, 1), dtype=float32, numpy=\n",
              "array([[[-0.23585585]],\n",
              "\n",
              "       [[ 0.33401316]]], dtype=float32)>"
            ]
          },
          "metadata": {},
          "execution_count": 70
        }
      ]
    },
    {
      "cell_type": "markdown",
      "source": [
        "# **✅ Shuffling the Order of elements in a tensor**"
      ],
      "metadata": {
        "id": "Wrl_sHTL3Sp6"
      }
    },
    {
      "cell_type": "code",
      "source": [
        "unshuffled = tf.constant([[1,3],\n",
        "                      [4,7],\n",
        "                      [9,5]])\n",
        "unshuffled"
      ],
      "metadata": {
        "colab": {
          "base_uri": "https://localhost:8080/"
        },
        "id": "3usfDBcw77Vo",
        "outputId": "e49440ed-96ca-4571-d7c5-3018f7da5060"
      },
      "execution_count": 73,
      "outputs": [
        {
          "output_type": "execute_result",
          "data": {
            "text/plain": [
              "<tf.Tensor: shape=(3, 2), dtype=int32, numpy=\n",
              "array([[1, 3],\n",
              "       [4, 7],\n",
              "       [9, 5]], dtype=int32)>"
            ]
          },
          "metadata": {},
          "execution_count": 73
        }
      ]
    },
    {
      "cell_type": "code",
      "source": [
        "shuffled = tf.random.shuffle(unshuffled)\n",
        "shuffled"
      ],
      "metadata": {
        "colab": {
          "base_uri": "https://localhost:8080/"
        },
        "id": "6PRBoWqv769s",
        "outputId": "74297e34-0c20-4008-904d-d7323aa87d33"
      },
      "execution_count": 86,
      "outputs": [
        {
          "output_type": "execute_result",
          "data": {
            "text/plain": [
              "<tf.Tensor: shape=(3, 2), dtype=int32, numpy=\n",
              "array([[9, 5],\n",
              "       [4, 7],\n",
              "       [1, 3]], dtype=int32)>"
            ]
          },
          "metadata": {},
          "execution_count": 86
        }
      ]
    },
    {
      "cell_type": "code",
      "source": [
        "tf.random.set_seed(42)\n",
        "shuffled = tf.random.shuffle(unshuffled)\n",
        "shuffled"
      ],
      "metadata": {
        "colab": {
          "base_uri": "https://localhost:8080/"
        },
        "id": "pIuJ1uwT-aQi",
        "outputId": "db6a7e03-e94b-4c1f-cd15-14e870fd165c"
      },
      "execution_count": 89,
      "outputs": [
        {
          "output_type": "execute_result",
          "data": {
            "text/plain": [
              "<tf.Tensor: shape=(3, 2), dtype=int32, numpy=\n",
              "array([[4, 7],\n",
              "       [9, 5],\n",
              "       [1, 3]], dtype=int32)>"
            ]
          },
          "metadata": {},
          "execution_count": 89
        }
      ]
    },
    {
      "cell_type": "code",
      "source": [
        "tf.random.set_seed(42)\n",
        "shuffled = tf.random.shuffle(unshuffled, seed = 42)\n",
        "shuffled"
      ],
      "metadata": {
        "colab": {
          "base_uri": "https://localhost:8080/"
        },
        "id": "ml9uLHZX-acc",
        "outputId": "8b3c0109-fbe5-4b26-8a6d-f9cfd17e7713"
      },
      "execution_count": 92,
      "outputs": [
        {
          "output_type": "execute_result",
          "data": {
            "text/plain": [
              "<tf.Tensor: shape=(3, 2), dtype=int32, numpy=\n",
              "array([[1, 3],\n",
              "       [4, 7],\n",
              "       [9, 5]], dtype=int32)>"
            ]
          },
          "metadata": {},
          "execution_count": 92
        }
      ]
    },
    {
      "cell_type": "markdown",
      "source": [
        "# **✅ Tensors of zeros and Ones**"
      ],
      "metadata": {
        "id": "HdDiGhKLOmIi"
      }
    },
    {
      "cell_type": "code",
      "source": [
        "tf.ones([2,4])"
      ],
      "metadata": {
        "colab": {
          "base_uri": "https://localhost:8080/"
        },
        "id": "KeVtEiAHPmQE",
        "outputId": "4d7d35f5-3d0f-4d9d-8570-3d01abdcf411"
      },
      "execution_count": 96,
      "outputs": [
        {
          "output_type": "execute_result",
          "data": {
            "text/plain": [
              "<tf.Tensor: shape=(2, 4), dtype=float32, numpy=\n",
              "array([[1., 1., 1., 1.],\n",
              "       [1., 1., 1., 1.]], dtype=float32)>"
            ]
          },
          "metadata": {},
          "execution_count": 96
        }
      ]
    },
    {
      "cell_type": "code",
      "source": [
        "tf.zeros(shape = (2,4))"
      ],
      "metadata": {
        "colab": {
          "base_uri": "https://localhost:8080/"
        },
        "id": "bTqqedOtPmeB",
        "outputId": "dc03ca06-e21e-4208-890c-c186d67aadbd"
      },
      "execution_count": 97,
      "outputs": [
        {
          "output_type": "execute_result",
          "data": {
            "text/plain": [
              "<tf.Tensor: shape=(2, 4), dtype=float32, numpy=\n",
              "array([[0., 0., 0., 0.],\n",
              "       [0., 0., 0., 0.]], dtype=float32)>"
            ]
          },
          "metadata": {},
          "execution_count": 97
        }
      ]
    },
    {
      "cell_type": "markdown",
      "source": [
        "# **✅ Numpy Arrays to tensors**"
      ],
      "metadata": {
        "id": "GsHfcgo7P2Bm"
      }
    },
    {
      "cell_type": "code",
      "source": [
        "import numpy as np\n",
        "numpy_A = np.arange(1, 25, dtype = np.int32)\n",
        "numpy_A"
      ],
      "metadata": {
        "colab": {
          "base_uri": "https://localhost:8080/"
        },
        "id": "3SXLjMmhPmla",
        "outputId": "d33f51c0-fc8b-414c-9408-26a01e4f6f87"
      },
      "execution_count": 103,
      "outputs": [
        {
          "output_type": "execute_result",
          "data": {
            "text/plain": [
              "array([ 1,  2,  3,  4,  5,  6,  7,  8,  9, 10, 11, 12, 13, 14, 15, 16, 17,\n",
              "       18, 19, 20, 21, 22, 23, 24], dtype=int32)"
            ]
          },
          "metadata": {},
          "execution_count": 103
        }
      ]
    },
    {
      "cell_type": "code",
      "source": [
        "TA = tf.constant(numpy_A)\n",
        "TA"
      ],
      "metadata": {
        "colab": {
          "base_uri": "https://localhost:8080/"
        },
        "id": "KUhPCSLjQa3-",
        "outputId": "30054347-24fb-4784-851d-c0845aa9b0f4"
      },
      "execution_count": 105,
      "outputs": [
        {
          "output_type": "execute_result",
          "data": {
            "text/plain": [
              "<tf.Tensor: shape=(24,), dtype=int32, numpy=\n",
              "array([ 1,  2,  3,  4,  5,  6,  7,  8,  9, 10, 11, 12, 13, 14, 15, 16, 17,\n",
              "       18, 19, 20, 21, 22, 23, 24], dtype=int32)>"
            ]
          },
          "metadata": {},
          "execution_count": 105
        }
      ]
    },
    {
      "cell_type": "code",
      "source": [
        "TA = tf.constant(numpy_A, shape=(8,3))\n",
        "TA"
      ],
      "metadata": {
        "colab": {
          "base_uri": "https://localhost:8080/"
        },
        "id": "7jc2EC_lQn_x",
        "outputId": "14be9668-cc81-4075-a9d1-ce414d5ef63c"
      },
      "execution_count": 112,
      "outputs": [
        {
          "output_type": "execute_result",
          "data": {
            "text/plain": [
              "(<tf.Tensor: shape=(8, 3), dtype=int32, numpy=\n",
              " array([[ 1,  2,  3],\n",
              "        [ 4,  5,  6],\n",
              "        [ 7,  8,  9],\n",
              "        [10, 11, 12],\n",
              "        [13, 14, 15],\n",
              "        [16, 17, 18],\n",
              "        [19, 20, 21],\n",
              "        [22, 23, 24]], dtype=int32)>, 2)"
            ]
          },
          "metadata": {},
          "execution_count": 112
        }
      ]
    },
    {
      "cell_type": "code",
      "source": [
        "TA.ndim"
      ],
      "metadata": {
        "colab": {
          "base_uri": "https://localhost:8080/"
        },
        "id": "F5S1NHElRQWo",
        "outputId": "eedf6ad4-28d2-4e81-de5c-e27ed87eef88"
      },
      "execution_count": 113,
      "outputs": [
        {
          "output_type": "execute_result",
          "data": {
            "text/plain": [
              "2"
            ]
          },
          "metadata": {},
          "execution_count": 113
        }
      ]
    },
    {
      "cell_type": "code",
      "source": [
        "TA = tf.constant(numpy_A, shape=(3, 2, 2, 2))\n",
        "TA"
      ],
      "metadata": {
        "colab": {
          "base_uri": "https://localhost:8080/"
        },
        "id": "1CrybvmgRaZ_",
        "outputId": "b87adeb1-7ed2-484a-baad-9414a1f6c6d6"
      },
      "execution_count": 116,
      "outputs": [
        {
          "output_type": "execute_result",
          "data": {
            "text/plain": [
              "<tf.Tensor: shape=(3, 2, 2, 2), dtype=int32, numpy=\n",
              "array([[[[ 1,  2],\n",
              "         [ 3,  4]],\n",
              "\n",
              "        [[ 5,  6],\n",
              "         [ 7,  8]]],\n",
              "\n",
              "\n",
              "       [[[ 9, 10],\n",
              "         [11, 12]],\n",
              "\n",
              "        [[13, 14],\n",
              "         [15, 16]]],\n",
              "\n",
              "\n",
              "       [[[17, 18],\n",
              "         [19, 20]],\n",
              "\n",
              "        [[21, 22],\n",
              "         [23, 24]]]], dtype=int32)>"
            ]
          },
          "metadata": {},
          "execution_count": 116
        }
      ]
    },
    {
      "cell_type": "code",
      "source": [
        "TA.ndim"
      ],
      "metadata": {
        "colab": {
          "base_uri": "https://localhost:8080/"
        },
        "id": "qa1VWZN5R3Mi",
        "outputId": "9020af71-2973-4b4d-f294-e32e4808fdec"
      },
      "execution_count": 117,
      "outputs": [
        {
          "output_type": "execute_result",
          "data": {
            "text/plain": [
              "4"
            ]
          },
          "metadata": {},
          "execution_count": 117
        }
      ]
    },
    {
      "cell_type": "markdown",
      "source": [
        "# **✅ Getting Information From Tensors**"
      ],
      "metadata": {
        "id": "zBzUMNA9R_-G"
      }
    },
    {
      "cell_type": "code",
      "source": [
        "ones = tf.ones(shape=(2, 3, 4, 5))\n",
        "ones"
      ],
      "metadata": {
        "colab": {
          "base_uri": "https://localhost:8080/"
        },
        "id": "sLu3KOtQSINI",
        "outputId": "bb677bbe-ef75-4b9c-a345-ad64cc6999ea"
      },
      "execution_count": 119,
      "outputs": [
        {
          "output_type": "execute_result",
          "data": {
            "text/plain": [
              "<tf.Tensor: shape=(2, 3, 4, 5), dtype=float32, numpy=\n",
              "array([[[[1., 1., 1., 1., 1.],\n",
              "         [1., 1., 1., 1., 1.],\n",
              "         [1., 1., 1., 1., 1.],\n",
              "         [1., 1., 1., 1., 1.]],\n",
              "\n",
              "        [[1., 1., 1., 1., 1.],\n",
              "         [1., 1., 1., 1., 1.],\n",
              "         [1., 1., 1., 1., 1.],\n",
              "         [1., 1., 1., 1., 1.]],\n",
              "\n",
              "        [[1., 1., 1., 1., 1.],\n",
              "         [1., 1., 1., 1., 1.],\n",
              "         [1., 1., 1., 1., 1.],\n",
              "         [1., 1., 1., 1., 1.]]],\n",
              "\n",
              "\n",
              "       [[[1., 1., 1., 1., 1.],\n",
              "         [1., 1., 1., 1., 1.],\n",
              "         [1., 1., 1., 1., 1.],\n",
              "         [1., 1., 1., 1., 1.]],\n",
              "\n",
              "        [[1., 1., 1., 1., 1.],\n",
              "         [1., 1., 1., 1., 1.],\n",
              "         [1., 1., 1., 1., 1.],\n",
              "         [1., 1., 1., 1., 1.]],\n",
              "\n",
              "        [[1., 1., 1., 1., 1.],\n",
              "         [1., 1., 1., 1., 1.],\n",
              "         [1., 1., 1., 1., 1.],\n",
              "         [1., 1., 1., 1., 1.]]]], dtype=float32)>"
            ]
          },
          "metadata": {},
          "execution_count": 119
        }
      ]
    },
    {
      "cell_type": "code",
      "source": [
        "ones[1]"
      ],
      "metadata": {
        "colab": {
          "base_uri": "https://localhost:8080/"
        },
        "id": "tWV9SuMJYjq-",
        "outputId": "cb4d63ef-4f52-461c-febf-27f461ac940d"
      },
      "execution_count": 128,
      "outputs": [
        {
          "output_type": "execute_result",
          "data": {
            "text/plain": [
              "<tf.Tensor: shape=(3, 4, 5), dtype=float32, numpy=\n",
              "array([[[1., 1., 1., 1., 1.],\n",
              "        [1., 1., 1., 1., 1.],\n",
              "        [1., 1., 1., 1., 1.],\n",
              "        [1., 1., 1., 1., 1.]],\n",
              "\n",
              "       [[1., 1., 1., 1., 1.],\n",
              "        [1., 1., 1., 1., 1.],\n",
              "        [1., 1., 1., 1., 1.],\n",
              "        [1., 1., 1., 1., 1.]],\n",
              "\n",
              "       [[1., 1., 1., 1., 1.],\n",
              "        [1., 1., 1., 1., 1.],\n",
              "        [1., 1., 1., 1., 1.],\n",
              "        [1., 1., 1., 1., 1.]]], dtype=float32)>"
            ]
          },
          "metadata": {},
          "execution_count": 128
        }
      ]
    },
    {
      "cell_type": "code",
      "source": [
        "ones[1][0]"
      ],
      "metadata": {
        "colab": {
          "base_uri": "https://localhost:8080/"
        },
        "id": "lMJX0lvsYyuQ",
        "outputId": "f832a230-027a-435a-a684-d591293ab36a"
      },
      "execution_count": 129,
      "outputs": [
        {
          "output_type": "execute_result",
          "data": {
            "text/plain": [
              "<tf.Tensor: shape=(4, 5), dtype=float32, numpy=\n",
              "array([[1., 1., 1., 1., 1.],\n",
              "       [1., 1., 1., 1., 1.],\n",
              "       [1., 1., 1., 1., 1.],\n",
              "       [1., 1., 1., 1., 1.]], dtype=float32)>"
            ]
          },
          "metadata": {},
          "execution_count": 129
        }
      ]
    },
    {
      "cell_type": "code",
      "source": [
        "ones[1][0][1]"
      ],
      "metadata": {
        "colab": {
          "base_uri": "https://localhost:8080/"
        },
        "id": "wX16C1rhYy4w",
        "outputId": "ec852aa2-38e8-4ec1-d84a-e5187a1d40fd"
      },
      "execution_count": 130,
      "outputs": [
        {
          "output_type": "execute_result",
          "data": {
            "text/plain": [
              "<tf.Tensor: shape=(5,), dtype=float32, numpy=array([1., 1., 1., 1., 1.], dtype=float32)>"
            ]
          },
          "metadata": {},
          "execution_count": 130
        }
      ]
    },
    {
      "cell_type": "code",
      "source": [
        "ones[1][0][1][0]"
      ],
      "metadata": {
        "colab": {
          "base_uri": "https://localhost:8080/"
        },
        "id": "kornldOwYzCi",
        "outputId": "8ec2d04c-29de-46aa-d195-c2e0de68f758"
      },
      "execution_count": 131,
      "outputs": [
        {
          "output_type": "execute_result",
          "data": {
            "text/plain": [
              "<tf.Tensor: shape=(), dtype=float32, numpy=1.0>"
            ]
          },
          "metadata": {},
          "execution_count": 131
        }
      ]
    },
    {
      "cell_type": "code",
      "source": [
        "ones[1][0][1][0].numpy()"
      ],
      "metadata": {
        "colab": {
          "base_uri": "https://localhost:8080/"
        },
        "id": "qkBPdfn3YzLr",
        "outputId": "e5bfd116-ff4d-47c1-d574-e5207f21e50d"
      },
      "execution_count": 132,
      "outputs": [
        {
          "output_type": "execute_result",
          "data": {
            "text/plain": [
              "1.0"
            ]
          },
          "metadata": {},
          "execution_count": 132
        }
      ]
    },
    {
      "cell_type": "code",
      "source": [
        "print(ones.shape)\n",
        "print(ones.ndim)\n",
        "tf.size(ones)"
      ],
      "metadata": {
        "colab": {
          "base_uri": "https://localhost:8080/"
        },
        "id": "RK8RZRMDYzVn",
        "outputId": "2c200f01-f95a-40ce-af4f-122bbd6b09a8"
      },
      "execution_count": 136,
      "outputs": [
        {
          "output_type": "stream",
          "name": "stdout",
          "text": [
            "(2, 3, 4, 5)\n",
            "4\n"
          ]
        },
        {
          "output_type": "execute_result",
          "data": {
            "text/plain": [
              "<tf.Tensor: shape=(), dtype=int32, numpy=120>"
            ]
          },
          "metadata": {},
          "execution_count": 136
        }
      ]
    }
  ]
}