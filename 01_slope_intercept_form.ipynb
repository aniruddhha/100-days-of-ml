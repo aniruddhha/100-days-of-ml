{
  "nbformat": 4,
  "nbformat_minor": 0,
  "metadata": {
    "colab": {
      "provenance": [],
      "authorship_tag": "ABX9TyPO2UlNxOeFwdQZUncOJ0FM",
      "include_colab_link": true
    },
    "kernelspec": {
      "name": "python3",
      "display_name": "Python 3"
    },
    "language_info": {
      "name": "python"
    }
  },
  "cells": [
    {
      "cell_type": "markdown",
      "metadata": {
        "id": "view-in-github",
        "colab_type": "text"
      },
      "source": [
        "<a href=\"https://colab.research.google.com/github/aniruddhha/100-days-of-ml/blob/main/01_slope_intercept_form.ipynb\" target=\"_parent\"><img src=\"https://colab.research.google.com/assets/colab-badge.svg\" alt=\"Open In Colab\"/></a>"
      ]
    },
    {
      "cell_type": "code",
      "execution_count": 160,
      "metadata": {
        "id": "uziiatTy5iYm"
      },
      "outputs": [],
      "source": [
        "import numpy as np\n",
        "import matplotlib.pyplot as plt"
      ]
    },
    {
      "cell_type": "code",
      "source": [
        "# y = mx + c\n",
        " # y = 2x + 1\n",
        "x = np.linspace(-5, 5, 11, dtype=int)\n",
        "m, c = 2, 1\n",
        "\n",
        "y = m * x + c"
      ],
      "metadata": {
        "id": "9obVts9N7ALT"
      },
      "execution_count": 161,
      "outputs": []
    },
    {
      "cell_type": "code",
      "source": [
        "x"
      ],
      "metadata": {
        "colab": {
          "base_uri": "https://localhost:8080/"
        },
        "id": "dLGBs4ui7NTf",
        "outputId": "8b6140a7-a678-4b1b-efa7-7995c2aa1e49"
      },
      "execution_count": 162,
      "outputs": [
        {
          "output_type": "execute_result",
          "data": {
            "text/plain": [
              "array([-5, -4, -3, -2, -1,  0,  1,  2,  3,  4,  5])"
            ]
          },
          "metadata": {},
          "execution_count": 162
        }
      ]
    },
    {
      "cell_type": "code",
      "source": [
        "x.shape"
      ],
      "metadata": {
        "colab": {
          "base_uri": "https://localhost:8080/"
        },
        "id": "zatzR01f7Qol",
        "outputId": "77131fef-bd41-4f80-bd90-43a376b1e3fb"
      },
      "execution_count": 163,
      "outputs": [
        {
          "output_type": "execute_result",
          "data": {
            "text/plain": [
              "(11,)"
            ]
          },
          "metadata": {},
          "execution_count": 163
        }
      ]
    },
    {
      "cell_type": "code",
      "source": [
        "y"
      ],
      "metadata": {
        "colab": {
          "base_uri": "https://localhost:8080/"
        },
        "id": "WbsfBl3K7Trh",
        "outputId": "ff1d7cc6-cec1-401b-96ae-6ec2edb76d21"
      },
      "execution_count": 164,
      "outputs": [
        {
          "output_type": "execute_result",
          "data": {
            "text/plain": [
              "array([-9, -7, -5, -3, -1,  1,  3,  5,  7,  9, 11])"
            ]
          },
          "metadata": {},
          "execution_count": 164
        }
      ]
    },
    {
      "cell_type": "code",
      "source": [
        "y.shape"
      ],
      "metadata": {
        "colab": {
          "base_uri": "https://localhost:8080/"
        },
        "id": "V_V5OPj57ZK9",
        "outputId": "e5755055-c825-429f-bd8a-2ea9ad2333bb"
      },
      "execution_count": 165,
      "outputs": [
        {
          "output_type": "execute_result",
          "data": {
            "text/plain": [
              "(11,)"
            ]
          },
          "metadata": {},
          "execution_count": 165
        }
      ]
    },
    {
      "cell_type": "code",
      "source": [
        "print(\"x\\t|\\ty\")\n",
        "print(\"----------------\")\n",
        "for xi, yi in zip(x, y):\n",
        "    print(f\"{xi:.2f}\\t|\\t{yi:.2f}\")"
      ],
      "metadata": {
        "colab": {
          "base_uri": "https://localhost:8080/"
        },
        "id": "Z9JgG_zzctam",
        "outputId": "aa39b7ac-05e3-4a8d-e3f0-3d57a238cb01"
      },
      "execution_count": 166,
      "outputs": [
        {
          "output_type": "stream",
          "name": "stdout",
          "text": [
            "x\t|\ty\n",
            "----------------\n",
            "-5.00\t|\t-9.00\n",
            "-4.00\t|\t-7.00\n",
            "-3.00\t|\t-5.00\n",
            "-2.00\t|\t-3.00\n",
            "-1.00\t|\t-1.00\n",
            "0.00\t|\t1.00\n",
            "1.00\t|\t3.00\n",
            "2.00\t|\t5.00\n",
            "3.00\t|\t7.00\n",
            "4.00\t|\t9.00\n",
            "5.00\t|\t11.00\n"
          ]
        }
      ]
    },
    {
      "cell_type": "code",
      "source": [
        "(y-c)/x"
      ],
      "metadata": {
        "colab": {
          "base_uri": "https://localhost:8080/"
        },
        "id": "iXvApvE17biS",
        "outputId": "4ae2ee4b-ad1f-4475-e791-bd4bffce8e47"
      },
      "execution_count": 167,
      "outputs": [
        {
          "output_type": "stream",
          "name": "stderr",
          "text": [
            "<ipython-input-167-9370e15b2517>:1: RuntimeWarning: invalid value encountered in divide\n",
            "  (y-c)/x\n"
          ]
        },
        {
          "output_type": "execute_result",
          "data": {
            "text/plain": [
              "array([ 2.,  2.,  2.,  2.,  2., nan,  2.,  2.,  2.,  2.,  2.])"
            ]
          },
          "metadata": {},
          "execution_count": 167
        }
      ]
    },
    {
      "cell_type": "code",
      "source": [
        "plt.figure(figsize=(8, 10))\n",
        "\n",
        "plt.plot(x, y, color = 'red', label = 'y = {}x + {}'.format(m, c))\n",
        "plt.xlabel('x')\n",
        "plt.ylabel('y')\n",
        "\n",
        "plt.xlim(np.min(x), np.max(x))\n",
        "plt.ylim(np.min(y), np.max(y))\n",
        "\n",
        "plt.xticks(np.arange(np.min(x), np.max(x), 1 ))\n",
        "plt.yticks(np.arange(np.min(y), np.max(y), 1 ))\n",
        "# plt.yticks(np.arange(-5, 6, 1 ))\n",
        "# plt.tick_params(bottom=True, top=True, left=True, right=True)\n",
        "\n",
        "plt.axhline(0, color='black', linewidth = 1.5)\n",
        "plt.axvline(0, color='black', linewidth = 1.5)\n",
        "\n",
        "plt.grid(which = 'major', axis = 'both', linestyle='-', color = 'k', linewidth = 0.1)\n",
        "\n",
        "plt.legend()\n",
        "plt.show()"
      ],
      "metadata": {
        "colab": {
          "base_uri": "https://localhost:8080/",
          "height": 850
        },
        "id": "ogK6I1e77oms",
        "outputId": "d1f18c7d-c741-49b5-d070-45914cedb113"
      },
      "execution_count": 168,
      "outputs": [
        {
          "output_type": "display_data",
          "data": {
            "text/plain": [
              "<Figure size 800x1000 with 1 Axes>"
            ],
            "image/png": "[encoded data removed]"
          },
          "metadata": {}
        }
      ]
    }
  ]
}